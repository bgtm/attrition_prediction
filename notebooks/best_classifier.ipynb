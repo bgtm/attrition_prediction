{
 "cells": [
  {
   "cell_type": "markdown",
   "id": "0dffdbe4",
   "metadata": {},
   "source": [
    "# Importation"
   ]
  },
  {
   "cell_type": "code",
   "execution_count": 14,
   "id": "aee6dffd",
   "metadata": {},
   "outputs": [],
   "source": [
    "import os\n",
    "import shap\n",
    "import numpy as np\n",
    "import pandas as pd\n",
    "import seaborn as sns\n",
    "import matplotlib.pyplot as plt\n",
    "from sklearn.model_selection import KFold\n",
    "from sklearn import model_selection\n",
    "from sklearn.metrics import mean_squared_error, f1_score\n",
    "from sklearn.linear_model import Ridge, RidgeCV, Lasso, LassoCV, RidgeClassifier, RidgeClassifierCV\n",
    "from sklearn.linear_model import LinearRegression,LogisticRegression\n",
    "from sklearn.metrics import confusion_matrix\n",
    "from sklearn.metrics import recall_score\n",
    "from sklearn.metrics import precision_score\n",
    "from sklearn.metrics import f1_score\n",
    "from sklearn.metrics import precision_recall_curve, PrecisionRecallDisplay\n",
    "from sklearn.preprocessing import MinMaxScaler\n",
    "\n",
    "from sklearn.svm import SVC\n",
    "from tqdm.notebook import tqdm\n",
    "tqdm.pandas\n",
    "\n",
    "from sklearn.metrics import confusion_matrix, accuracy_score, classification_report\n",
    "from sklearn.model_selection import cross_val_score, cross_val_predict, train_test_split"
   ]
  },
  {
   "cell_type": "markdown",
   "id": "f4ecab70",
   "metadata": {},
   "source": [
    "# Load data"
   ]
  },
  {
   "cell_type": "code",
   "execution_count": 3,
   "id": "96f9d4ad",
   "metadata": {},
   "outputs": [],
   "source": [
    "employee = pd.read_csv('C:/py/data/attrition/employee.csv')\n",
    "employee = employee.drop([\"EmployeeCount\", \"EmployeeNumber\", \"Over18\", \"StandardHours\"], axis = 1)"
   ]
  },
  {
   "cell_type": "markdown",
   "id": "b4df657c",
   "metadata": {},
   "source": [
    "# Preprocessing"
   ]
  },
  {
   "cell_type": "code",
   "execution_count": 4,
   "id": "0f43cb65",
   "metadata": {},
   "outputs": [
    {
     "data": {
      "text/html": [
       "<div>\n",
       "<style scoped>\n",
       "    .dataframe tbody tr th:only-of-type {\n",
       "        vertical-align: middle;\n",
       "    }\n",
       "\n",
       "    .dataframe tbody tr th {\n",
       "        vertical-align: top;\n",
       "    }\n",
       "\n",
       "    .dataframe thead th {\n",
       "        text-align: right;\n",
       "    }\n",
       "</style>\n",
       "<table border=\"1\" class=\"dataframe\">\n",
       "  <thead>\n",
       "    <tr style=\"text-align: right;\">\n",
       "      <th></th>\n",
       "      <th>age</th>\n",
       "      <th>dailyrate</th>\n",
       "      <th>distancefromhome</th>\n",
       "      <th>education</th>\n",
       "      <th>environmentsatisfaction</th>\n",
       "      <th>gender</th>\n",
       "      <th>hourlyrate</th>\n",
       "      <th>jobinvolvement</th>\n",
       "      <th>joblevel</th>\n",
       "      <th>jobsatisfaction</th>\n",
       "      <th>...</th>\n",
       "      <th>jobrole_laboratory_technician</th>\n",
       "      <th>jobrole_manager</th>\n",
       "      <th>jobrole_manufacturing_director</th>\n",
       "      <th>jobrole_research_director</th>\n",
       "      <th>jobrole_research_scientist</th>\n",
       "      <th>jobrole_sales_executive</th>\n",
       "      <th>jobrole_sales_representative</th>\n",
       "      <th>maritalstatus_divorced</th>\n",
       "      <th>maritalstatus_married</th>\n",
       "      <th>maritalstatus_single</th>\n",
       "    </tr>\n",
       "  </thead>\n",
       "  <tbody>\n",
       "    <tr>\n",
       "      <th>0</th>\n",
       "      <td>41</td>\n",
       "      <td>1102</td>\n",
       "      <td>1</td>\n",
       "      <td>2</td>\n",
       "      <td>2</td>\n",
       "      <td>0</td>\n",
       "      <td>94</td>\n",
       "      <td>3</td>\n",
       "      <td>2</td>\n",
       "      <td>4</td>\n",
       "      <td>...</td>\n",
       "      <td>0</td>\n",
       "      <td>0</td>\n",
       "      <td>0</td>\n",
       "      <td>0</td>\n",
       "      <td>0</td>\n",
       "      <td>1</td>\n",
       "      <td>0</td>\n",
       "      <td>0</td>\n",
       "      <td>0</td>\n",
       "      <td>1</td>\n",
       "    </tr>\n",
       "    <tr>\n",
       "      <th>1</th>\n",
       "      <td>49</td>\n",
       "      <td>279</td>\n",
       "      <td>8</td>\n",
       "      <td>1</td>\n",
       "      <td>3</td>\n",
       "      <td>1</td>\n",
       "      <td>61</td>\n",
       "      <td>2</td>\n",
       "      <td>2</td>\n",
       "      <td>2</td>\n",
       "      <td>...</td>\n",
       "      <td>0</td>\n",
       "      <td>0</td>\n",
       "      <td>0</td>\n",
       "      <td>0</td>\n",
       "      <td>1</td>\n",
       "      <td>0</td>\n",
       "      <td>0</td>\n",
       "      <td>0</td>\n",
       "      <td>1</td>\n",
       "      <td>0</td>\n",
       "    </tr>\n",
       "    <tr>\n",
       "      <th>2</th>\n",
       "      <td>37</td>\n",
       "      <td>1373</td>\n",
       "      <td>2</td>\n",
       "      <td>2</td>\n",
       "      <td>4</td>\n",
       "      <td>1</td>\n",
       "      <td>92</td>\n",
       "      <td>2</td>\n",
       "      <td>1</td>\n",
       "      <td>3</td>\n",
       "      <td>...</td>\n",
       "      <td>1</td>\n",
       "      <td>0</td>\n",
       "      <td>0</td>\n",
       "      <td>0</td>\n",
       "      <td>0</td>\n",
       "      <td>0</td>\n",
       "      <td>0</td>\n",
       "      <td>0</td>\n",
       "      <td>0</td>\n",
       "      <td>1</td>\n",
       "    </tr>\n",
       "    <tr>\n",
       "      <th>3</th>\n",
       "      <td>33</td>\n",
       "      <td>1392</td>\n",
       "      <td>3</td>\n",
       "      <td>4</td>\n",
       "      <td>4</td>\n",
       "      <td>0</td>\n",
       "      <td>56</td>\n",
       "      <td>3</td>\n",
       "      <td>1</td>\n",
       "      <td>3</td>\n",
       "      <td>...</td>\n",
       "      <td>0</td>\n",
       "      <td>0</td>\n",
       "      <td>0</td>\n",
       "      <td>0</td>\n",
       "      <td>1</td>\n",
       "      <td>0</td>\n",
       "      <td>0</td>\n",
       "      <td>0</td>\n",
       "      <td>1</td>\n",
       "      <td>0</td>\n",
       "    </tr>\n",
       "    <tr>\n",
       "      <th>4</th>\n",
       "      <td>27</td>\n",
       "      <td>591</td>\n",
       "      <td>2</td>\n",
       "      <td>1</td>\n",
       "      <td>1</td>\n",
       "      <td>1</td>\n",
       "      <td>40</td>\n",
       "      <td>3</td>\n",
       "      <td>1</td>\n",
       "      <td>2</td>\n",
       "      <td>...</td>\n",
       "      <td>1</td>\n",
       "      <td>0</td>\n",
       "      <td>0</td>\n",
       "      <td>0</td>\n",
       "      <td>0</td>\n",
       "      <td>0</td>\n",
       "      <td>0</td>\n",
       "      <td>0</td>\n",
       "      <td>1</td>\n",
       "      <td>0</td>\n",
       "    </tr>\n",
       "  </tbody>\n",
       "</table>\n",
       "<p>5 rows × 49 columns</p>\n",
       "</div>"
      ],
      "text/plain": [
       "   age  dailyrate  distancefromhome  education  environmentsatisfaction  \\\n",
       "0   41       1102                 1          2                        2   \n",
       "1   49        279                 8          1                        3   \n",
       "2   37       1373                 2          2                        4   \n",
       "3   33       1392                 3          4                        4   \n",
       "4   27        591                 2          1                        1   \n",
       "\n",
       "   gender  hourlyrate  jobinvolvement  joblevel  jobsatisfaction  ...  \\\n",
       "0       0          94               3         2                4  ...   \n",
       "1       1          61               2         2                2  ...   \n",
       "2       1          92               2         1                3  ...   \n",
       "3       0          56               3         1                3  ...   \n",
       "4       1          40               3         1                2  ...   \n",
       "\n",
       "   jobrole_laboratory_technician  jobrole_manager  \\\n",
       "0                              0                0   \n",
       "1                              0                0   \n",
       "2                              1                0   \n",
       "3                              0                0   \n",
       "4                              1                0   \n",
       "\n",
       "   jobrole_manufacturing_director  jobrole_research_director  \\\n",
       "0                               0                          0   \n",
       "1                               0                          0   \n",
       "2                               0                          0   \n",
       "3                               0                          0   \n",
       "4                               0                          0   \n",
       "\n",
       "   jobrole_research_scientist  jobrole_sales_executive  \\\n",
       "0                           0                        1   \n",
       "1                           1                        0   \n",
       "2                           0                        0   \n",
       "3                           1                        0   \n",
       "4                           0                        0   \n",
       "\n",
       "   jobrole_sales_representative  maritalstatus_divorced  \\\n",
       "0                             0                       0   \n",
       "1                             0                       0   \n",
       "2                             0                       0   \n",
       "3                             0                       0   \n",
       "4                             0                       0   \n",
       "\n",
       "   maritalstatus_married  maritalstatus_single  \n",
       "0                      0                     1  \n",
       "1                      1                     0  \n",
       "2                      0                     1  \n",
       "3                      1                     0  \n",
       "4                      1                     0  \n",
       "\n",
       "[5 rows x 49 columns]"
      ]
     },
     "execution_count": 4,
     "metadata": {},
     "output_type": "execute_result"
    }
   ],
   "source": [
    "employee.columns = employee.columns.str.lower()\n",
    "employee[\"overtime\"] = employee[\"overtime\"].replace(\"Yes\", 1)\n",
    "employee[\"overtime\"] = employee[\"overtime\"].replace(\"No\", 0)\n",
    "employee[\"gender\"] = employee[\"gender\"].replace(\"Male\", 1)\n",
    "employee[\"gender\"] = employee[\"gender\"].replace(\"Female\", 0)\n",
    "\n",
    "employee = employee.rename(columns = {\"attrition\" : \"y\"})\n",
    "\n",
    "employee[\"y\"] = employee[\"y\"].replace(\"Yes\", 1)\n",
    "employee[\"y\"] = employee[\"y\"].replace(\"No\", 0)\n",
    "\n",
    "cat = [var for var in employee.columns if var not in employee.describe().columns.tolist()]\n",
    "\n",
    "for var in cat:\n",
    "    \n",
    "    employee[var] = employee[var].str.lower()\n",
    "    employee[var] = employee[var].str.replace(' ', '_').astype(str)\n",
    "    employee[var] = employee[var].str.replace('-', '_').astype(str)\n",
    "    employee[var] = employee[var].str.replace('&', '_').astype(str)\n",
    "    employee[var] = employee[var].str.replace('___', '_').astype(str)\n",
    "\n",
    "y = employee[\"y\"]\n",
    "X = employee.drop(['y'], axis = 1)\n",
    "\n",
    "for var in cat :\n",
    "    \n",
    "    for val in X[var].value_counts().index.tolist():\n",
    "        \n",
    "        X[var] = X[var].replace(val, var+\"_\"+val)\n",
    "        \n",
    "for var in cat :\n",
    "\n",
    "    dummies = pd.get_dummies(X[var])\n",
    "    X = X.drop(var,axis = 1)\n",
    "    X = X.join(dummies)\n",
    "    \n",
    "X.head()"
   ]
  },
  {
   "cell_type": "code",
   "execution_count": 5,
   "id": "9af35e79",
   "metadata": {},
   "outputs": [],
   "source": [
    "augmentation =[ ]\n",
    "for var in X.columns :\n",
    "    if X[var].unique().tolist() == [0,1] :\n",
    "        pass\n",
    "    elif X[var].unique().tolist() ==[1,0]:\n",
    "        pass\n",
    "    else :\n",
    "        augmentation.append(var)"
   ]
  },
  {
   "cell_type": "code",
   "execution_count": 6,
   "id": "c35f866a",
   "metadata": {},
   "outputs": [],
   "source": [
    "X_nl = X.copy()\n",
    "\n",
    "for var in augmentation :\n",
    "    \n",
    "    X_nl[var+'_squared'] = X_nl[var]**2\n",
    "    X_nl[var+'_cube'] = X_nl[var]**3"
   ]
  },
  {
   "cell_type": "markdown",
   "id": "e94579fe",
   "metadata": {},
   "source": [
    "# List of variables selected with Autometrics"
   ]
  },
  {
   "cell_type": "code",
   "execution_count": 7,
   "id": "a49b96f0",
   "metadata": {},
   "outputs": [],
   "source": [
    "var_selected_autometrics = X_nl[[\"age\", \"environmentsatisfaction\", \"joblevel\", \"overtime\", \"stockoptionlevel\", \n",
    "   \"businesstravel_travel_frequently\", \"age_squared\", \n",
    "  \"joblevel_squared\", \"department_research_development\", \"distancefromhome\",\n",
    "  \"monthlyrate\", \"performancerating\", \"yearswithcurrmanager\", \"jobinvolvement_cube\", \n",
    "     \"jobsatisfaction_squared\", \"numcompaniesworked_squared\", \"performancerating_squared\", \"stockoptionlevel_squared\",\n",
    "     \"worklifebalance_squared\", \"worklifebalance_cube\", \"yearswithcurrmanager_squared\", \"yearswithcurrmanager_cube\"]]"
   ]
  },
  {
   "cell_type": "code",
   "execution_count": 8,
   "id": "be02f92a",
   "metadata": {},
   "outputs": [],
   "source": [
    "X_train, X_test, y_train, y_test = train_test_split(var_selected_autometrics, y, test_size = 0.2, random_state = 42)"
   ]
  },
  {
   "cell_type": "markdown",
   "id": "67e0aa26",
   "metadata": {},
   "source": [
    "# Tests of the variables selected to predict attrition"
   ]
  },
  {
   "cell_type": "code",
   "execution_count": 27,
   "id": "3cc593a8",
   "metadata": {},
   "outputs": [],
   "source": [
    "def recall_precision(y_test,y_pred,model):\n",
    "    precision, recall, thresholds = precision_recall_curve(y_test,y_pred)\n",
    "    # convert to f score\n",
    "    fscore = (2 * precision * recall) / (precision + recall)\n",
    "    fscore[np.isnan(fscore)] = 0\n",
    "    #print(fscore)\n",
    "    # locate the index of the largest f score\n",
    "    ix = np.argmax(fscore)\n",
    "    optimal_threshold = thresholds[ix]\n",
    "\n",
    "    # plot the recall precision curve for the model\n",
    "    plt.plot(recall, precision, marker='.', label=model)\n",
    "    no_skill = len(y_test[y_test==1]) / len(y_test)\n",
    "    plt.plot([0,1], [no_skill,no_skill], linestyle='--', label='No Skill')\n",
    "    plt.scatter(recall[ix], precision[ix], marker='o', color='black', label='Best')\n",
    "    # axis labels\n",
    "    plt.xlabel('Recall')\n",
    "    plt.ylabel('Precision')\n",
    "    plt.legend()\n",
    "    # show the plot\n",
    "    plt.show()\n",
    "    \n",
    "    print(\"\\nTEST\")\n",
    "    print('Best Threshold=%f, F-Score=%.3f' % (optimal_threshold, fscore[ix]))\n",
    "    y_pred2= np.where(y_pred <= optimal_threshold , 0, 1)\n",
    "    cm = confusion_matrix(y_test, y_pred2)\n",
    "    print(\"Confusion matrix \\n\" , cm)\n",
    "    precision = cm[1,1]/sum(cm[:,1])\n",
    "    print(\"\\nPrecision : \" + str(precision))\n",
    "    recall = cm[1,1]/sum(cm[1,:])\n",
    "    print(\"Recall : \" + str(recall))\n",
    "    f1 = 2*((precision*recall)/(precision+recall))\n",
    "    print(\"F1 : \" + str(f1))\n",
    "    \n",
    "    residual = (y_test - y_pred)\n",
    "    print(\"\\n Residuals distribution : \\n\", residual.describe())\n",
    "    \n",
    "    return optimal_threshold"
   ]
  },
  {
   "cell_type": "code",
   "execution_count": 28,
   "id": "0d498a4f",
   "metadata": {},
   "outputs": [],
   "source": [
    "model = LinearRegression().fit(X_train, y_train)\n",
    "y_ols = model.predict(X_test)"
   ]
  },
  {
   "cell_type": "code",
   "execution_count": 29,
   "id": "551a6046-fd08-4e56-85a8-9b3351ace77e",
   "metadata": {},
   "outputs": [
    {
     "data": {
      "image/png": "[encoded data removed]",
      "text/plain": [
       "<Figure size 432x288 with 1 Axes>"
      ]
     },
     "metadata": {
      "needs_background": "light"
     },
     "output_type": "display_data"
    },
    {
     "name": "stdout",
     "output_type": "stream",
     "text": [
      "\n",
      "TEST\n",
      "Best Threshold=0.332788, F-Score=0.535\n",
      "Confusion matrix \n",
      " [[231  24]\n",
      " [ 17  22]]\n",
      "\n",
      "Precision : 0.4782608695652174\n",
      "Recall : 0.5641025641025641\n",
      "F1 : 0.5176470588235293\n",
      "\n",
      " Residuals distribution : \n",
      " count    294.000000\n",
      "mean      -0.009872\n",
      "std        0.324088\n",
      "min       -0.589778\n",
      "25%       -0.215902\n",
      "50%       -0.077945\n",
      "75%        0.072570\n",
      "max        1.188851\n",
      "Name: y, dtype: float64\n"
     ]
    }
   ],
   "source": [
    "t1 = recall_precision(y_test,y_ols,'Ordinary least square')"
   ]
  },
  {
   "cell_type": "code",
   "execution_count": 35,
   "id": "524bd913-f243-4775-95b3-07928362713a",
   "metadata": {},
   "outputs": [],
   "source": [
    "y_olsf1 = np.where(y_ols <= t1 , 0, 1)"
   ]
  },
  {
   "cell_type": "markdown",
   "id": "85ff44b5-533b-4bd3-9a4e-370e99933ab8",
   "metadata": {},
   "source": [
    "# SVM "
   ]
  },
  {
   "cell_type": "code",
   "execution_count": 17,
   "id": "52ae6807-be1a-4256-822c-353eff643158",
   "metadata": {},
   "outputs": [],
   "source": [
    "scaler = MinMaxScaler()\n",
    "X_train = scaler.fit_transform(X_train)\n",
    "X_test = scaler.transform(X_test)"
   ]
  },
  {
   "cell_type": "code",
   "execution_count": 31,
   "id": "ccf76a69-c8c2-49b5-867c-1e8ca2dd2765",
   "metadata": {},
   "outputs": [],
   "source": [
    "svc = SVC(kernel = 'sigmoid',\n",
    "           C = 0.1,\n",
    "           gamma = 0.01,\n",
    "           random_state = 0, probability = True).fit(X_train, y_train)\n",
    "y_svm = svc.predict_proba(X_test)[:,1]"
   ]
  },
  {
   "cell_type": "code",
   "execution_count": 32,
   "id": "2d198a20-643a-4466-a8e6-b9218581f84f",
   "metadata": {},
   "outputs": [
    {
     "data": {
      "image/png": "[encoded data removed]",
      "text/plain": [
       "<Figure size 432x288 with 1 Axes>"
      ]
     },
     "metadata": {
      "needs_background": "light"
     },
     "output_type": "display_data"
    },
    {
     "name": "stdout",
     "output_type": "stream",
     "text": [
      "\n",
      "TEST\n",
      "Best Threshold=0.345621, F-Score=0.575\n",
      "Confusion matrix \n",
      " [[237  18]\n",
      " [ 17  22]]\n",
      "\n",
      "Precision : 0.55\n",
      "Recall : 0.5641025641025641\n",
      "F1 : 0.5569620253164557\n",
      "\n",
      " Residuals distribution : \n",
      " count    294.000000\n",
      "mean      -0.016612\n",
      "std        0.298803\n",
      "min       -0.763221\n",
      "25%       -0.125255\n",
      "50%       -0.047341\n",
      "75%       -0.012009\n",
      "max        0.997531\n",
      "Name: y, dtype: float64\n"
     ]
    }
   ],
   "source": [
    "t4 = recall_precision(y_test,y_svm,'Optimize support vector machine')"
   ]
  },
  {
   "cell_type": "code",
   "execution_count": 33,
   "id": "b97ceb8f-d73f-4cc4-b253-ddf7348cdfa8",
   "metadata": {},
   "outputs": [],
   "source": [
    "y_svmf1 = np.where(y_svm <= t4 , 0, 1)"
   ]
  },
  {
   "cell_type": "code",
   "execution_count": 36,
   "id": "46d2b7af-8a16-4e5c-b8ae-7c22ac8f5463",
   "metadata": {},
   "outputs": [
    {
     "data": {
      "text/html": [
       "<div>\n",
       "<style scoped>\n",
       "    .dataframe tbody tr th:only-of-type {\n",
       "        vertical-align: middle;\n",
       "    }\n",
       "\n",
       "    .dataframe tbody tr th {\n",
       "        vertical-align: top;\n",
       "    }\n",
       "\n",
       "    .dataframe thead th {\n",
       "        text-align: right;\n",
       "    }\n",
       "</style>\n",
       "<table border=\"1\" class=\"dataframe\">\n",
       "  <thead>\n",
       "    <tr style=\"text-align: right;\">\n",
       "      <th></th>\n",
       "      <th>Algorithm</th>\n",
       "      <th>f1</th>\n",
       "      <th>acc</th>\n",
       "    </tr>\n",
       "  </thead>\n",
       "  <tbody>\n",
       "    <tr>\n",
       "      <th>1</th>\n",
       "      <td>SVM</td>\n",
       "      <td>0.556962</td>\n",
       "      <td>0.880952</td>\n",
       "    </tr>\n",
       "    <tr>\n",
       "      <th>0</th>\n",
       "      <td>OLS</td>\n",
       "      <td>0.517647</td>\n",
       "      <td>0.860544</td>\n",
       "    </tr>\n",
       "  </tbody>\n",
       "</table>\n",
       "</div>"
      ],
      "text/plain": [
       "  Algorithm        f1       acc\n",
       "1       SVM  0.556962  0.880952\n",
       "0       OLS  0.517647  0.860544"
      ]
     },
     "execution_count": 36,
     "metadata": {},
     "output_type": "execute_result"
    }
   ],
   "source": [
    " f_score = pd.DataFrame({\n",
    "    'Algorithm' : ['OLS','SVM'],\n",
    "    'y_pred' : [y_olsf1,y_svmf1]\n",
    "})\n",
    "f1_list = []\n",
    "for index, row in f_score.iterrows():\n",
    "    f1 = f1_score(y_test, row['y_pred'], average='binary')\n",
    "    f1_list.append(f1)\n",
    "acc_list = []\n",
    "for index, row in f_score.iterrows():\n",
    "    acc = accuracy_score(y_test, row['y_pred'])\n",
    "    acc_list.append(acc)\n",
    "    \n",
    "f_score['f1']=f1_list\n",
    "f_score['acc']=acc_list\n",
    "f_score = f_score.drop(['y_pred'], axis=1)\n",
    "f_score.sort_values(by=['f1'],ascending=False)"
   ]
  }
 ],
 "metadata": {
  "kernelspec": {
   "display_name": "Python 3 (ipykernel)",
   "language": "python",
   "name": "python3"
  },
  "language_info": {
   "codemirror_mode": {
    "name": "ipython",
    "version": 3
   },
   "file_extension": ".py",
   "mimetype": "text/x-python",
   "name": "python",
   "nbconvert_exporter": "python",
   "pygments_lexer": "ipython3",
   "version": "3.8.12"
  }
 },
 "nbformat": 4,
 "nbformat_minor": 5
}
