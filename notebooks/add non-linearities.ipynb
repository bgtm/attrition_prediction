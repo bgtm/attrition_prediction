{
 "cells": [
  {
   "cell_type": "markdown",
   "metadata": {
    "id": "aQgiCvGgzMtJ"
   },
   "source": [
    "# Imports"
   ]
  },
  {
   "cell_type": "code",
   "execution_count": 1,
   "metadata": {
    "colab": {
     "base_uri": "https://localhost:8080/"
    },
    "id": "u_3m-yjpBEZV",
    "outputId": "eaa139dc-f0b0-412e-e3fd-23d0829d4397"
   },
   "outputs": [
    {
     "name": "stdout",
     "output_type": "stream",
     "text": [
      "Requirement already satisfied: sklearn in c:\\users\\bruguet\\anaconda3\\lib\\site-packages (0.0)\n",
      "Requirement already satisfied: scikit-learn in c:\\users\\bruguet\\anaconda3\\lib\\site-packages (from sklearn) (1.0.2)\n",
      "Requirement already satisfied: numpy>=1.14.6 in c:\\users\\bruguet\\anaconda3\\lib\\site-packages (from scikit-learn->sklearn) (1.20.3)\n",
      "Requirement already satisfied: scipy>=1.1.0 in c:\\users\\bruguet\\anaconda3\\lib\\site-packages (from scikit-learn->sklearn) (1.7.3)\n",
      "Requirement already satisfied: threadpoolctl>=2.0.0 in c:\\users\\bruguet\\anaconda3\\lib\\site-packages (from scikit-learn->sklearn) (2.2.0)\n",
      "Requirement already satisfied: joblib>=0.11 in c:\\users\\bruguet\\anaconda3\\lib\\site-packages (from scikit-learn->sklearn) (1.1.0)\n"
     ]
    }
   ],
   "source": [
    "!pip install sklearn --upgrade"
   ]
  },
  {
   "cell_type": "code",
   "execution_count": 60,
   "metadata": {},
   "outputs": [],
   "source": [
    "import pandas as pd\n",
    "import seaborn as sns\n",
    "import matplotlib.pyplot as plt\n",
    "import numpy as np\n",
    "import os \n",
    "\n",
    "from sklearn.preprocessing import MinMaxScaler\n",
    "from sklearn.linear_model import LinearRegression,LogisticRegression\n",
    "from sklearn.metrics import mean_squared_error, f1_score\n",
    "from sklearn.linear_model import Ridge, RidgeCV, Lasso, LassoCV, RidgeClassifier, RidgeClassifierCV"
   ]
  },
  {
   "cell_type": "markdown",
   "metadata": {
    "id": "F7g_eir1zMtQ"
   },
   "source": [
    "# Loading data"
   ]
  },
  {
   "cell_type": "code",
   "execution_count": 61,
   "metadata": {},
   "outputs": [],
   "source": [
    "employee = pd.read_csv('C:/py/data/attrition/employee_process.csv')"
   ]
  },
  {
   "cell_type": "code",
   "execution_count": 62,
   "metadata": {},
   "outputs": [],
   "source": [
    "y=employee['y']\n",
    "X=employee.drop(columns=['y'])"
   ]
  },
  {
   "cell_type": "markdown",
   "metadata": {},
   "source": [
    "## Add non-linearities"
   ]
  },
  {
   "cell_type": "code",
   "execution_count": 63,
   "metadata": {},
   "outputs": [],
   "source": [
    "augmentation =[ ]\n",
    "for var in X.columns :\n",
    "    if X[var].unique().tolist() == [0,1] :\n",
    "        pass\n",
    "    elif X[var].unique().tolist() ==[1,0]:\n",
    "        pass\n",
    "    else :\n",
    "        augmentation.append(var)"
   ]
  },
  {
   "cell_type": "code",
   "execution_count": 64,
   "metadata": {},
   "outputs": [],
   "source": [
    "for var in augmentation :\n",
    "    \n",
    "    X[var+'_squared'] = X[var]**2\n",
    "    X[var+'_cube'] = X[var]**3"
   ]
  },
  {
   "cell_type": "code",
   "execution_count": 7,
   "metadata": {},
   "outputs": [
    {
     "data": {
      "text/plain": [
       "\"for i in range(len(augmentation)-1):\\n     X[augmentation[i]+'_'+augmentation[i+1]] = X[augmentation[i]]*X[augmentation[i+1]]\""
      ]
     },
     "execution_count": 7,
     "metadata": {},
     "output_type": "execute_result"
    }
   ],
   "source": [
    "'''for i in range(len(augmentation)-1):\n",
    "     X[augmentation[i]+'_'+augmentation[i+1]] = X[augmentation[i]]*X[augmentation[i+1]]'''"
   ]
  },
  {
   "cell_type": "markdown",
   "metadata": {},
   "source": [
    "### Split into train and test subsample"
   ]
  },
  {
   "cell_type": "code",
   "execution_count": 65,
   "metadata": {},
   "outputs": [],
   "source": [
    "from sklearn.model_selection import train_test_split\n",
    "X_train, X_test, y_train, y_test = train_test_split(X, y, test_size=0.20, random_state=42)"
   ]
  },
  {
   "cell_type": "code",
   "execution_count": 66,
   "metadata": {},
   "outputs": [
    {
     "name": "stdout",
     "output_type": "stream",
     "text": [
      "(1176, 95)\n",
      "(1176,)\n",
      "(294, 95)\n",
      "(294,)\n"
     ]
    }
   ],
   "source": [
    "print(X_train.shape)\n",
    "print(y_train.shape)\n",
    "print(X_test.shape)\n",
    "print(y_test.shape)"
   ]
  },
  {
   "cell_type": "code",
   "execution_count": 67,
   "metadata": {},
   "outputs": [],
   "source": [
    "scaler = MinMaxScaler()\n",
    "X_train = scaler.fit_transform(X_train)\n",
    "X_test = scaler.transform(X_test)"
   ]
  },
  {
   "cell_type": "code",
   "execution_count": 68,
   "metadata": {},
   "outputs": [],
   "source": [
    "X_train = pd.DataFrame(X_train, columns=X.columns)\n",
    "X_test = pd.DataFrame(X_test, columns=X.columns)"
   ]
  },
  {
   "cell_type": "markdown",
   "metadata": {
    "id": "E5hssF11L_q1"
   },
   "source": [
    "# Defition of the metrics function "
   ]
  },
  {
   "cell_type": "code",
   "execution_count": 69,
   "metadata": {},
   "outputs": [],
   "source": [
    "from sklearn.metrics import confusion_matrix\n",
    "from sklearn.metrics import recall_score\n",
    "from sklearn.metrics import precision_score\n",
    "from sklearn.metrics import f1_score,accuracy_score\n",
    "from sklearn.metrics import precision_recall_curve, PrecisionRecallDisplay"
   ]
  },
  {
   "cell_type": "code",
   "execution_count": 70,
   "metadata": {
    "id": "JbIhkwOOJT7x"
   },
   "outputs": [],
   "source": [
    "def recall_precision(y_test,y_pred,model):\n",
    "    precision, recall, thresholds = precision_recall_curve(y_test,y_pred)\n",
    "    # convert to f score\n",
    "    fscore = (2 * precision * recall) / (precision + recall)\n",
    "    fscore[np.isnan(fscore)] = 0\n",
    "    #print(fscore)\n",
    "    # locate the index of the largest f score\n",
    "    ix = np.argmax(fscore)\n",
    "    optimal_threshold = thresholds[ix]\n",
    "\n",
    "    # plot the recall precision curve for the model\n",
    "    plt.plot(recall, precision, marker='.', label=model)\n",
    "    no_skill = len(y_test[y_test==1]) / len(y_test)\n",
    "    plt.plot([0,1], [no_skill,no_skill], linestyle='--', label='No Skill')\n",
    "    plt.scatter(recall[ix], precision[ix], marker='o', color='black', label='Best')\n",
    "    # axis labels\n",
    "    plt.xlabel('Recall')\n",
    "    plt.ylabel('Precision')\n",
    "    plt.legend()\n",
    "    # show the plot\n",
    "    plt.show()\n",
    "    \n",
    "    print(\"\\nTEST\")\n",
    "    print('Best Threshold=%f, F-Score=%.3f' % (optimal_threshold, fscore[ix]))\n",
    "    y_pred2= np.where(y_pred <= optimal_threshold , 0, 1)\n",
    "    cm = confusion_matrix(y_test, y_pred2)\n",
    "    print(\"Confusion matrix \\n\" , cm)\n",
    "    precision = cm[1,1]/sum(cm[:,1])\n",
    "    print(\"\\nPrecision : \" + str(precision))\n",
    "    recall = cm[1,1]/sum(cm[1,:])\n",
    "    print(\"Recall : \" + str(recall))\n",
    "    f1 = 2*((precision*recall)/(precision+recall))\n",
    "    print(\"F1 : \" + str(f1))\n",
    "    \n",
    "    residual = (y_test - y_pred)\n",
    "    print(\"\\n Residuals distribution : \\n\", residual.describe())\n",
    "    \n",
    "    return optimal_threshold"
   ]
  },
  {
   "cell_type": "markdown",
   "metadata": {},
   "source": [
    "# OLS"
   ]
  },
  {
   "cell_type": "code",
   "execution_count": 71,
   "metadata": {},
   "outputs": [],
   "source": [
    "model = LinearRegression().fit(X_train, y_train)\n",
    "y_ols = model.predict(X_test)"
   ]
  },
  {
   "cell_type": "code",
   "execution_count": 72,
   "metadata": {},
   "outputs": [
    {
     "data": {
      "image/png": "[encoded data removed]",
      "text/plain": [
       "<Figure size 432x288 with 1 Axes>"
      ]
     },
     "metadata": {},
     "output_type": "display_data"
    },
    {
     "name": "stdout",
     "output_type": "stream",
     "text": [
      "\n",
      "TEST\n",
      "Best Threshold=0.415527, F-Score=0.500\n",
      "Confusion matrix \n",
      " [[231  24]\n",
      " [ 19  20]]\n",
      "\n",
      "Precision : 0.45454545454545453\n",
      "Recall : 0.5128205128205128\n",
      "F1 : 0.48192771084337344\n",
      "\n",
      " Residuals distribution : \n",
      " count    294.000000\n",
      "mean      -0.030540\n",
      "std        0.326804\n",
      "min       -0.672363\n",
      "25%       -0.232300\n",
      "50%       -0.088013\n",
      "75%        0.095276\n",
      "max        1.133545\n",
      "Name: y, dtype: float64\n"
     ]
    }
   ],
   "source": [
    "Tols = recall_precision(y_test,y_ols,'Ordinary least square')"
   ]
  },
  {
   "cell_type": "code",
   "execution_count": 73,
   "metadata": {},
   "outputs": [],
   "source": [
    "y_ols2= np.where(y_ols <= Tols , 0, 1)"
   ]
  },
  {
   "cell_type": "code",
   "execution_count": 74,
   "metadata": {},
   "outputs": [
    {
     "data": {
      "image/png": "[encoded data removed]",
      "text/plain": [
       "<Figure size 432x288 with 1 Axes>"
      ]
     },
     "metadata": {},
     "output_type": "display_data"
    }
   ],
   "source": [
    "sort = abs(model.coef_).argsort()\n",
    "sort = sort[-20:]\n",
    "plt.barh(X.columns[sort], model.coef_[sort])\n",
    "plt.xlabel(\"Feature Importance\")\n",
    "plt.show()"
   ]
  },
  {
   "cell_type": "markdown",
   "metadata": {
    "id": "pRPpCOPW5L_F"
   },
   "source": [
    "# Logistic regression"
   ]
  },
  {
   "cell_type": "code",
   "execution_count": 56,
   "metadata": {
    "colab": {
     "base_uri": "https://localhost:8080/",
     "height": 1000
    },
    "id": "roFmGIeg6ZVV",
    "outputId": "a93e7b8c-05cf-4939-9cfc-fd88a61ebe23"
   },
   "outputs": [],
   "source": [
    "clf = LogisticRegression().fit(X_train, y_train)\n",
    "y_log = clf.predict_proba(X_test)[:,1]"
   ]
  },
  {
   "cell_type": "code",
   "execution_count": 57,
   "metadata": {},
   "outputs": [
    {
     "name": "stderr",
     "output_type": "stream",
     "text": [
      "C:\\Users\\Bruguet\\AppData\\Local\\Temp\\ipykernel_105176\\3661183176.py:4: RuntimeWarning: invalid value encountered in true_divide\n",
      "  fscore = (2 * precision * recall) / (precision + recall)\n"
     ]
    },
    {
     "data": {
      "image/png": "[encoded data removed]",
      "text/plain": [
       "<Figure size 432x288 with 1 Axes>"
      ]
     },
     "metadata": {},
     "output_type": "display_data"
    },
    {
     "name": "stdout",
     "output_type": "stream",
     "text": [
      "\n",
      "TEST\n",
      "Best Threshold=0.213872, F-Score=0.287\n",
      "Confusion matrix \n",
      " [[121 134]\n",
      " [ 11  28]]\n",
      "\n",
      "Precision : 0.1728395061728395\n",
      "Recall : 0.717948717948718\n",
      "F1 : 0.27860696517412936\n",
      "\n",
      " Residuals distribution : \n",
      " count    294.000000\n",
      "mean      -0.103579\n",
      "std        0.347051\n",
      "min       -0.496622\n",
      "25%       -0.330483\n",
      "50%       -0.189292\n",
      "75%       -0.058170\n",
      "max        0.899845\n",
      "Name: y, dtype: float64\n"
     ]
    },
    {
     "data": {
      "text/plain": [
       "0.2138723808453251"
      ]
     },
     "execution_count": 57,
     "metadata": {},
     "output_type": "execute_result"
    }
   ],
   "source": [
    "recall_precision(y_test,y_log,'Logistic regression')"
   ]
  },
  {
   "cell_type": "code",
   "execution_count": 32,
   "metadata": {},
   "outputs": [],
   "source": [
    "y_log2 = np.where(y_log <= 0.489009 , 0, 1)"
   ]
  },
  {
   "cell_type": "code",
   "execution_count": 49,
   "metadata": {
    "colab": {
     "base_uri": "https://localhost:8080/",
     "height": 289
    },
    "id": "AyBBRoddzTCe",
    "outputId": "1678b7a5-4afe-44df-c576-d97400a9f30a"
   },
   "outputs": [
    {
     "data": {
      "image/png": "[encoded data removed]",
      "text/plain": [
       "<Figure size 432x288 with 1 Axes>"
      ]
     },
     "metadata": {
      "needs_background": "light"
     },
     "output_type": "display_data"
    }
   ],
   "source": [
    "sort = abs(clf.coef_[0]).argsort()\n",
    "sort = sort[-20:]\n",
    "plt.barh(X.columns[sort], clf.coef_[0][sort])\n",
    "plt.xlabel(\"Feature Importance\")\n",
    "plt.show()"
   ]
  },
  {
   "cell_type": "markdown",
   "metadata": {},
   "source": [
    "# Ridge"
   ]
  },
  {
   "cell_type": "code",
   "execution_count": 75,
   "metadata": {},
   "outputs": [],
   "source": [
    "alphas = 10**np.linspace(5,0,1000)*0.5"
   ]
  },
  {
   "cell_type": "code",
   "execution_count": 76,
   "metadata": {},
   "outputs": [
    {
     "name": "stdout",
     "output_type": "stream",
     "text": [
      "The optimal alpha seems to be : 0.5\n"
     ]
    }
   ],
   "source": [
    "# Found the alpha\n",
    "ridgecv = RidgeCV(alphas = alphas,\n",
    "                  cv=10,\n",
    "                  scoring = 'neg_mean_squared_error')\n",
    "ridgecv.fit(X_train, y_train)\n",
    "print(\"The optimal alpha seems to be :\",round(ridgecv.alpha_,4))\n",
    "# Train the model\n",
    "Rclf = Ridge(alpha = ridgecv.alpha_)\n",
    "trained_Rclf = Rclf.fit(X_train,y_train)\n",
    "# Prediction\n",
    "y_ridge = trained_Rclf.predict(X_test)"
   ]
  },
  {
   "cell_type": "code",
   "execution_count": 20,
   "metadata": {},
   "outputs": [
    {
     "data": {
      "image/png": "[encoded data removed]",
      "text/plain": [
       "<Figure size 432x288 with 1 Axes>"
      ]
     },
     "metadata": {
      "needs_background": "light"
     },
     "output_type": "display_data"
    },
    {
     "name": "stdout",
     "output_type": "stream",
     "text": [
      "\n",
      "TEST\n",
      "Best Threshold=0.316277, F-Score=0.514\n",
      "Confusion matrix \n",
      " [[216  39]\n",
      " [ 13  26]]\n",
      "\n",
      "Precision : 0.4\n",
      "Recall : 0.6666666666666666\n",
      "F1 : 0.5\n",
      "\n",
      " Residuals distribution : \n",
      " count    294.000000\n",
      "mean      -0.026969\n",
      "std        0.318919\n",
      "min       -0.582611\n",
      "25%       -0.221370\n",
      "50%       -0.103232\n",
      "75%        0.089708\n",
      "max        1.111880\n",
      "Name: y, dtype: float64\n"
     ]
    }
   ],
   "source": [
    "Tridge = recall_precision(y_test,y_ridge,'Ridge')"
   ]
  },
  {
   "cell_type": "code",
   "execution_count": 77,
   "metadata": {},
   "outputs": [],
   "source": [
    "y_ridge2 = np.where(y_ridge <= Tridge , 0, 1)"
   ]
  },
  {
   "cell_type": "code",
   "execution_count": 80,
   "metadata": {},
   "outputs": [
    {
     "name": "stdout",
     "output_type": "stream",
     "text": [
      "The automatic selection method Ridge selected 48 variables in a pool of 95.\n"
     ]
    }
   ],
   "source": [
    "print('The automatic selection method Ridge selected', sum(trained_Rclf.coef_ > 0.001), 'variables in a pool of 95.')"
   ]
  },
  {
   "cell_type": "code",
   "execution_count": 81,
   "metadata": {},
   "outputs": [
    {
     "data": {
      "image/png": "[encoded data removed]",
      "text/plain": [
       "<Figure size 432x288 with 1 Axes>"
      ]
     },
     "metadata": {},
     "output_type": "display_data"
    }
   ],
   "source": [
    "sort = abs(Rclf.coef_).argsort()\n",
    "sort = sort[-10:]\n",
    "plt.barh(X.columns[sort], Rclf.coef_[sort])\n",
    "plt.xlabel(\"Feature Importance\")\n",
    "plt.show()"
   ]
  },
  {
   "cell_type": "code",
   "execution_count": 82,
   "metadata": {},
   "outputs": [
    {
     "data": {
      "text/html": [
       "<div>\n",
       "<style scoped>\n",
       "    .dataframe tbody tr th:only-of-type {\n",
       "        vertical-align: middle;\n",
       "    }\n",
       "\n",
       "    .dataframe tbody tr th {\n",
       "        vertical-align: top;\n",
       "    }\n",
       "\n",
       "    .dataframe thead th {\n",
       "        text-align: right;\n",
       "    }\n",
       "</style>\n",
       "<table border=\"1\" class=\"dataframe\">\n",
       "  <thead>\n",
       "    <tr style=\"text-align: right;\">\n",
       "      <th></th>\n",
       "      <th>Variables</th>\n",
       "      <th>Coefficient</th>\n",
       "    </tr>\n",
       "  </thead>\n",
       "  <tbody>\n",
       "    <tr>\n",
       "      <th>47</th>\n",
       "      <td>yearswithcurrmanager_squared</td>\n",
       "      <td>0.485312</td>\n",
       "    </tr>\n",
       "    <tr>\n",
       "      <th>46</th>\n",
       "      <td>age</td>\n",
       "      <td>-0.465358</td>\n",
       "    </tr>\n",
       "    <tr>\n",
       "      <th>45</th>\n",
       "      <td>yearswithcurrmanager_cube</td>\n",
       "      <td>-0.463882</td>\n",
       "    </tr>\n",
       "    <tr>\n",
       "      <th>44</th>\n",
       "      <td>yearsincurrentrole_squared</td>\n",
       "      <td>0.412798</td>\n",
       "    </tr>\n",
       "    <tr>\n",
       "      <th>43</th>\n",
       "      <td>yearsincurrentrole</td>\n",
       "      <td>-0.398133</td>\n",
       "    </tr>\n",
       "    <tr>\n",
       "      <th>42</th>\n",
       "      <td>totalworkingyears</td>\n",
       "      <td>-0.390634</td>\n",
       "    </tr>\n",
       "    <tr>\n",
       "      <th>41</th>\n",
       "      <td>age_cube</td>\n",
       "      <td>0.381910</td>\n",
       "    </tr>\n",
       "    <tr>\n",
       "      <th>40</th>\n",
       "      <td>monthlyincome_squared</td>\n",
       "      <td>0.381858</td>\n",
       "    </tr>\n",
       "    <tr>\n",
       "      <th>39</th>\n",
       "      <td>worklifebalance</td>\n",
       "      <td>-0.356324</td>\n",
       "    </tr>\n",
       "    <tr>\n",
       "      <th>38</th>\n",
       "      <td>stockoptionlevel</td>\n",
       "      <td>-0.313829</td>\n",
       "    </tr>\n",
       "    <tr>\n",
       "      <th>37</th>\n",
       "      <td>environmentsatisfaction</td>\n",
       "      <td>-0.307539</td>\n",
       "    </tr>\n",
       "    <tr>\n",
       "      <th>36</th>\n",
       "      <td>jobinvolvement</td>\n",
       "      <td>-0.304768</td>\n",
       "    </tr>\n",
       "    <tr>\n",
       "      <th>35</th>\n",
       "      <td>worklifebalance_cube</td>\n",
       "      <td>0.304292</td>\n",
       "    </tr>\n",
       "    <tr>\n",
       "      <th>34</th>\n",
       "      <td>trainingtimeslastyear_squared</td>\n",
       "      <td>0.299797</td>\n",
       "    </tr>\n",
       "    <tr>\n",
       "      <th>33</th>\n",
       "      <td>trainingtimeslastyear</td>\n",
       "      <td>-0.264729</td>\n",
       "    </tr>\n",
       "    <tr>\n",
       "      <th>32</th>\n",
       "      <td>distancefromhome_squared</td>\n",
       "      <td>0.262623</td>\n",
       "    </tr>\n",
       "    <tr>\n",
       "      <th>31</th>\n",
       "      <td>yearsatcompany_cube</td>\n",
       "      <td>0.251699</td>\n",
       "    </tr>\n",
       "    <tr>\n",
       "      <th>30</th>\n",
       "      <td>joblevel_squared</td>\n",
       "      <td>0.240158</td>\n",
       "    </tr>\n",
       "    <tr>\n",
       "      <th>29</th>\n",
       "      <td>joblevel</td>\n",
       "      <td>-0.239575</td>\n",
       "    </tr>\n",
       "    <tr>\n",
       "      <th>28</th>\n",
       "      <td>distancefromhome_cube</td>\n",
       "      <td>-0.236928</td>\n",
       "    </tr>\n",
       "    <tr>\n",
       "      <th>27</th>\n",
       "      <td>overtime</td>\n",
       "      <td>0.233013</td>\n",
       "    </tr>\n",
       "    <tr>\n",
       "      <th>26</th>\n",
       "      <td>jobsatisfaction</td>\n",
       "      <td>-0.207307</td>\n",
       "    </tr>\n",
       "    <tr>\n",
       "      <th>25</th>\n",
       "      <td>yearssincelastpromotion</td>\n",
       "      <td>0.185950</td>\n",
       "    </tr>\n",
       "    <tr>\n",
       "      <th>24</th>\n",
       "      <td>percentsalaryhike_cube</td>\n",
       "      <td>0.184809</td>\n",
       "    </tr>\n",
       "    <tr>\n",
       "      <th>23</th>\n",
       "      <td>education_cube</td>\n",
       "      <td>-0.179971</td>\n",
       "    </tr>\n",
       "    <tr>\n",
       "      <th>22</th>\n",
       "      <td>percentsalaryhike</td>\n",
       "      <td>-0.177495</td>\n",
       "    </tr>\n",
       "    <tr>\n",
       "      <th>21</th>\n",
       "      <td>yearsatcompany_squared</td>\n",
       "      <td>0.177071</td>\n",
       "    </tr>\n",
       "    <tr>\n",
       "      <th>20</th>\n",
       "      <td>stockoptionlevel_squared</td>\n",
       "      <td>0.176439</td>\n",
       "    </tr>\n",
       "    <tr>\n",
       "      <th>19</th>\n",
       "      <td>jobrole_research_director</td>\n",
       "      <td>-0.173305</td>\n",
       "    </tr>\n",
       "    <tr>\n",
       "      <th>18</th>\n",
       "      <td>monthlyincome</td>\n",
       "      <td>-0.172811</td>\n",
       "    </tr>\n",
       "    <tr>\n",
       "      <th>17</th>\n",
       "      <td>jobrole_sales_representative</td>\n",
       "      <td>0.171514</td>\n",
       "    </tr>\n",
       "    <tr>\n",
       "      <th>16</th>\n",
       "      <td>numcompaniesworked</td>\n",
       "      <td>0.164557</td>\n",
       "    </tr>\n",
       "    <tr>\n",
       "      <th>15</th>\n",
       "      <td>jobrole_human_resources</td>\n",
       "      <td>0.159200</td>\n",
       "    </tr>\n",
       "    <tr>\n",
       "      <th>14</th>\n",
       "      <td>education</td>\n",
       "      <td>0.154618</td>\n",
       "    </tr>\n",
       "    <tr>\n",
       "      <th>13</th>\n",
       "      <td>jobsatisfaction_squared</td>\n",
       "      <td>0.151647</td>\n",
       "    </tr>\n",
       "    <tr>\n",
       "      <th>12</th>\n",
       "      <td>yearswithcurrmanager</td>\n",
       "      <td>-0.150866</td>\n",
       "    </tr>\n",
       "    <tr>\n",
       "      <th>11</th>\n",
       "      <td>yearssincelastpromotion_cube</td>\n",
       "      <td>-0.146319</td>\n",
       "    </tr>\n",
       "    <tr>\n",
       "      <th>10</th>\n",
       "      <td>environmentsatisfaction_cube</td>\n",
       "      <td>0.134455</td>\n",
       "    </tr>\n",
       "    <tr>\n",
       "      <th>9</th>\n",
       "      <td>numcompaniesworked_squared</td>\n",
       "      <td>0.130718</td>\n",
       "    </tr>\n",
       "    <tr>\n",
       "      <th>8</th>\n",
       "      <td>relationshipsatisfaction</td>\n",
       "      <td>-0.126409</td>\n",
       "    </tr>\n",
       "    <tr>\n",
       "      <th>7</th>\n",
       "      <td>jobrole_manager</td>\n",
       "      <td>-0.120196</td>\n",
       "    </tr>\n",
       "    <tr>\n",
       "      <th>6</th>\n",
       "      <td>totalworkingyears_squared</td>\n",
       "      <td>0.118826</td>\n",
       "    </tr>\n",
       "    <tr>\n",
       "      <th>5</th>\n",
       "      <td>stockoptionlevel_cube</td>\n",
       "      <td>0.111666</td>\n",
       "    </tr>\n",
       "    <tr>\n",
       "      <th>4</th>\n",
       "      <td>jobinvolvement_squared</td>\n",
       "      <td>0.107110</td>\n",
       "    </tr>\n",
       "    <tr>\n",
       "      <th>3</th>\n",
       "      <td>dailyrate_squared</td>\n",
       "      <td>-0.106334</td>\n",
       "    </tr>\n",
       "    <tr>\n",
       "      <th>2</th>\n",
       "      <td>numcompaniesworked_cube</td>\n",
       "      <td>-0.105556</td>\n",
       "    </tr>\n",
       "    <tr>\n",
       "      <th>1</th>\n",
       "      <td>totalworkingyears_cube</td>\n",
       "      <td>0.103330</td>\n",
       "    </tr>\n",
       "    <tr>\n",
       "      <th>0</th>\n",
       "      <td>trainingtimeslastyear_cube</td>\n",
       "      <td>-0.097166</td>\n",
       "    </tr>\n",
       "  </tbody>\n",
       "</table>\n",
       "</div>"
      ],
      "text/plain": [
       "                        Variables  Coefficient\n",
       "47   yearswithcurrmanager_squared     0.485312\n",
       "46                            age    -0.465358\n",
       "45      yearswithcurrmanager_cube    -0.463882\n",
       "44     yearsincurrentrole_squared     0.412798\n",
       "43             yearsincurrentrole    -0.398133\n",
       "42              totalworkingyears    -0.390634\n",
       "41                       age_cube     0.381910\n",
       "40          monthlyincome_squared     0.381858\n",
       "39                worklifebalance    -0.356324\n",
       "38               stockoptionlevel    -0.313829\n",
       "37        environmentsatisfaction    -0.307539\n",
       "36                 jobinvolvement    -0.304768\n",
       "35           worklifebalance_cube     0.304292\n",
       "34  trainingtimeslastyear_squared     0.299797\n",
       "33          trainingtimeslastyear    -0.264729\n",
       "32       distancefromhome_squared     0.262623\n",
       "31            yearsatcompany_cube     0.251699\n",
       "30               joblevel_squared     0.240158\n",
       "29                       joblevel    -0.239575\n",
       "28          distancefromhome_cube    -0.236928\n",
       "27                       overtime     0.233013\n",
       "26                jobsatisfaction    -0.207307\n",
       "25        yearssincelastpromotion     0.185950\n",
       "24         percentsalaryhike_cube     0.184809\n",
       "23                 education_cube    -0.179971\n",
       "22              percentsalaryhike    -0.177495\n",
       "21         yearsatcompany_squared     0.177071\n",
       "20       stockoptionlevel_squared     0.176439\n",
       "19      jobrole_research_director    -0.173305\n",
       "18                  monthlyincome    -0.172811\n",
       "17   jobrole_sales_representative     0.171514\n",
       "16             numcompaniesworked     0.164557\n",
       "15        jobrole_human_resources     0.159200\n",
       "14                      education     0.154618\n",
       "13        jobsatisfaction_squared     0.151647\n",
       "12           yearswithcurrmanager    -0.150866\n",
       "11   yearssincelastpromotion_cube    -0.146319\n",
       "10   environmentsatisfaction_cube     0.134455\n",
       "9      numcompaniesworked_squared     0.130718\n",
       "8        relationshipsatisfaction    -0.126409\n",
       "7                 jobrole_manager    -0.120196\n",
       "6       totalworkingyears_squared     0.118826\n",
       "5           stockoptionlevel_cube     0.111666\n",
       "4          jobinvolvement_squared     0.107110\n",
       "3               dailyrate_squared    -0.106334\n",
       "2         numcompaniesworked_cube    -0.105556\n",
       "1          totalworkingyears_cube     0.103330\n",
       "0      trainingtimeslastyear_cube    -0.097166"
      ]
     },
     "execution_count": 82,
     "metadata": {},
     "output_type": "execute_result"
    }
   ],
   "source": [
    "sort_ = abs(Rclf.coef_).argsort()\n",
    "sort_ = sort_[-48:]\n",
    "selection = pd.DataFrame({\n",
    "    'Variables' : X.columns[sort_],\n",
    "    'Coefficient' : Rclf.coef_[sort_]\n",
    "\n",
    "})\n",
    "selection['trie'] = abs(selection['Coefficient'])\n",
    "selection = selection.sort_values(by=['trie'],ascending=False)\n",
    "selection = selection.drop(columns=['trie'])\n",
    "\n",
    "var_ridge = selection['Variables']\n",
    "selection"
   ]
  },
  {
   "cell_type": "code",
   "execution_count": 83,
   "metadata": {},
   "outputs": [
    {
     "name": "stderr",
     "output_type": "stream",
     "text": [
      "C:\\Users\\Bruguet\\anaconda3\\lib\\site-packages\\sklearn\\linear_model\\_coordinate_descent.py:633: ConvergenceWarning: Objective did not converge. You might want to increase the number of iterations. Duality gap: 0.015151125710929136, tolerance: 0.014805293005671075\n",
      "  model = cd_fast.enet_coordinate_descent_gram(\n",
      "C:\\Users\\Bruguet\\anaconda3\\lib\\site-packages\\sklearn\\linear_model\\_coordinate_descent.py:633: ConvergenceWarning: Objective did not converge. You might want to increase the number of iterations. Duality gap: 0.014833169636347066, tolerance: 0.014805293005671075\n",
      "  model = cd_fast.enet_coordinate_descent_gram(\n",
      "C:\\Users\\Bruguet\\anaconda3\\lib\\site-packages\\sklearn\\linear_model\\_coordinate_descent.py:633: ConvergenceWarning: Objective did not converge. You might want to increase the number of iterations. Duality gap: 0.01486810408678707, tolerance: 0.014541076487252128\n",
      "  model = cd_fast.enet_coordinate_descent_gram(\n",
      "C:\\Users\\Bruguet\\anaconda3\\lib\\site-packages\\sklearn\\linear_model\\_coordinate_descent.py:633: ConvergenceWarning: Objective did not converge. You might want to increase the number of iterations. Duality gap: 0.014596748404088089, tolerance: 0.014541076487252128\n",
      "  model = cd_fast.enet_coordinate_descent_gram(\n"
     ]
    },
    {
     "name": "stdout",
     "output_type": "stream",
     "text": [
      "The optimal alpha seems to be :  0.0001\n"
     ]
    }
   ],
   "source": [
    "#lassocv = LassoCV(alphas = alphas,cv= 10)\n",
    "lassocv = LassoCV(alphas = None,\n",
    "                  cv = 10, \n",
    "                  random_state = 0,\n",
    "                  max_iter = 10000)\n",
    "lassocv.fit(X_train, y_train)\n",
    "# Optimal alpha\n",
    "print(\"The optimal alpha seems to be : \", round(lassocv.alpha_,4))"
   ]
  },
  {
   "cell_type": "code",
   "execution_count": 84,
   "metadata": {},
   "outputs": [],
   "source": [
    "lasso = Lasso(max_iter = 100000)\n",
    "# Train the model\n",
    "lasso.set_params(alpha=lassocv.alpha_)\n",
    "lasso.fit(X_train, y_train)\n",
    "# Prediction\n",
    "y_lasso = lasso.predict(X_test)"
   ]
  },
  {
   "cell_type": "code",
   "execution_count": 85,
   "metadata": {},
   "outputs": [
    {
     "data": {
      "image/png": "[encoded data removed]",
      "text/plain": [
       "<Figure size 432x288 with 1 Axes>"
      ]
     },
     "metadata": {},
     "output_type": "display_data"
    },
    {
     "name": "stdout",
     "output_type": "stream",
     "text": [
      "\n",
      "TEST\n",
      "Best Threshold=0.354210, F-Score=0.522\n",
      "Confusion matrix \n",
      " [[226  29]\n",
      " [ 16  23]]\n",
      "\n",
      "Precision : 0.4423076923076923\n",
      "Recall : 0.5897435897435898\n",
      "F1 : 0.5054945054945056\n",
      "\n",
      " Residuals distribution : \n",
      " count    294.000000\n",
      "mean      -0.026742\n",
      "std        0.319476\n",
      "min       -0.623593\n",
      "25%       -0.219958\n",
      "50%       -0.085323\n",
      "75%        0.076116\n",
      "max        1.085029\n",
      "Name: y, dtype: float64\n"
     ]
    }
   ],
   "source": [
    "Tlasso = recall_precision(y_test,y_lasso,'Lasso')"
   ]
  },
  {
   "cell_type": "code",
   "execution_count": 86,
   "metadata": {},
   "outputs": [],
   "source": [
    "y_lasso2 = np.where(y_lasso <= Tlasso , 0, 1)"
   ]
  },
  {
   "cell_type": "code",
   "execution_count": 87,
   "metadata": {},
   "outputs": [
    {
     "name": "stdout",
     "output_type": "stream",
     "text": [
      "The automatic selection method lasso selected 35 variables in a pool of 117.\n"
     ]
    }
   ],
   "source": [
    "print('The automatic selection method lasso selected', sum(lasso.coef_ > 0.001), 'variables in a pool of 117.')"
   ]
  },
  {
   "cell_type": "code",
   "execution_count": 88,
   "metadata": {},
   "outputs": [
    {
     "data": {
      "image/png": "[encoded data removed]",
      "text/plain": [
       "<Figure size 432x288 with 1 Axes>"
      ]
     },
     "metadata": {},
     "output_type": "display_data"
    }
   ],
   "source": [
    "sort = abs(lasso.coef_).argsort()\n",
    "sort = sort[-10:]\n",
    "plt.barh(X.columns[sort], lasso.coef_[sort])\n",
    "plt.xlabel(\"Feature Importance\")\n",
    "plt.show()"
   ]
  },
  {
   "cell_type": "code",
   "execution_count": 89,
   "metadata": {},
   "outputs": [
    {
     "data": {
      "text/html": [
       "<div>\n",
       "<style scoped>\n",
       "    .dataframe tbody tr th:only-of-type {\n",
       "        vertical-align: middle;\n",
       "    }\n",
       "\n",
       "    .dataframe tbody tr th {\n",
       "        vertical-align: top;\n",
       "    }\n",
       "\n",
       "    .dataframe thead th {\n",
       "        text-align: right;\n",
       "    }\n",
       "</style>\n",
       "<table border=\"1\" class=\"dataframe\">\n",
       "  <thead>\n",
       "    <tr style=\"text-align: right;\">\n",
       "      <th></th>\n",
       "      <th>Variables</th>\n",
       "      <th>Coefficient</th>\n",
       "    </tr>\n",
       "  </thead>\n",
       "  <tbody>\n",
       "    <tr>\n",
       "      <th>34</th>\n",
       "      <td>yearswithcurrmanager_squared</td>\n",
       "      <td>2.246730</td>\n",
       "    </tr>\n",
       "    <tr>\n",
       "      <th>33</th>\n",
       "      <td>monthlyincome_squared</td>\n",
       "      <td>1.925869</td>\n",
       "    </tr>\n",
       "    <tr>\n",
       "      <th>32</th>\n",
       "      <td>yearswithcurrmanager_cube</td>\n",
       "      <td>-1.846690</td>\n",
       "    </tr>\n",
       "    <tr>\n",
       "      <th>31</th>\n",
       "      <td>monthlyincome_cube</td>\n",
       "      <td>-0.961196</td>\n",
       "    </tr>\n",
       "    <tr>\n",
       "      <th>30</th>\n",
       "      <td>monthlyincome</td>\n",
       "      <td>-0.817026</td>\n",
       "    </tr>\n",
       "    <tr>\n",
       "      <th>29</th>\n",
       "      <td>trainingtimeslastyear_squared</td>\n",
       "      <td>0.807918</td>\n",
       "    </tr>\n",
       "    <tr>\n",
       "      <th>28</th>\n",
       "      <td>yearswithcurrmanager</td>\n",
       "      <td>-0.661530</td>\n",
       "    </tr>\n",
       "    <tr>\n",
       "      <th>27</th>\n",
       "      <td>distancefromhome_squared</td>\n",
       "      <td>0.561024</td>\n",
       "    </tr>\n",
       "    <tr>\n",
       "      <th>26</th>\n",
       "      <td>age</td>\n",
       "      <td>-0.533108</td>\n",
       "    </tr>\n",
       "    <tr>\n",
       "      <th>25</th>\n",
       "      <td>trainingtimeslastyear</td>\n",
       "      <td>-0.487658</td>\n",
       "    </tr>\n",
       "    <tr>\n",
       "      <th>24</th>\n",
       "      <td>age_cube</td>\n",
       "      <td>0.463126</td>\n",
       "    </tr>\n",
       "    <tr>\n",
       "      <th>23</th>\n",
       "      <td>yearsatcompany_cube</td>\n",
       "      <td>0.449044</td>\n",
       "    </tr>\n",
       "    <tr>\n",
       "      <th>22</th>\n",
       "      <td>distancefromhome_cube</td>\n",
       "      <td>-0.444125</td>\n",
       "    </tr>\n",
       "    <tr>\n",
       "      <th>21</th>\n",
       "      <td>trainingtimeslastyear_cube</td>\n",
       "      <td>-0.420334</td>\n",
       "    </tr>\n",
       "    <tr>\n",
       "      <th>20</th>\n",
       "      <td>worklifebalance</td>\n",
       "      <td>-0.410442</td>\n",
       "    </tr>\n",
       "    <tr>\n",
       "      <th>19</th>\n",
       "      <td>yearsincurrentrole_squared</td>\n",
       "      <td>0.405621</td>\n",
       "    </tr>\n",
       "    <tr>\n",
       "      <th>18</th>\n",
       "      <td>yearsincurrentrole</td>\n",
       "      <td>-0.379229</td>\n",
       "    </tr>\n",
       "    <tr>\n",
       "      <th>17</th>\n",
       "      <td>stockoptionlevel</td>\n",
       "      <td>-0.366576</td>\n",
       "    </tr>\n",
       "    <tr>\n",
       "      <th>16</th>\n",
       "      <td>jobinvolvement</td>\n",
       "      <td>-0.366079</td>\n",
       "    </tr>\n",
       "    <tr>\n",
       "      <th>15</th>\n",
       "      <td>totalworkingyears</td>\n",
       "      <td>-0.341522</td>\n",
       "    </tr>\n",
       "    <tr>\n",
       "      <th>14</th>\n",
       "      <td>stockoptionlevel_squared</td>\n",
       "      <td>0.336083</td>\n",
       "    </tr>\n",
       "    <tr>\n",
       "      <th>13</th>\n",
       "      <td>worklifebalance_cube</td>\n",
       "      <td>0.315829</td>\n",
       "    </tr>\n",
       "    <tr>\n",
       "      <th>12</th>\n",
       "      <td>environmentsatisfaction</td>\n",
       "      <td>-0.306260</td>\n",
       "    </tr>\n",
       "    <tr>\n",
       "      <th>11</th>\n",
       "      <td>joblevel</td>\n",
       "      <td>-0.264194</td>\n",
       "    </tr>\n",
       "    <tr>\n",
       "      <th>10</th>\n",
       "      <td>jobsatisfaction</td>\n",
       "      <td>-0.240478</td>\n",
       "    </tr>\n",
       "    <tr>\n",
       "      <th>9</th>\n",
       "      <td>percentsalaryhike_cube</td>\n",
       "      <td>0.240359</td>\n",
       "    </tr>\n",
       "    <tr>\n",
       "      <th>8</th>\n",
       "      <td>overtime</td>\n",
       "      <td>0.231430</td>\n",
       "    </tr>\n",
       "    <tr>\n",
       "      <th>7</th>\n",
       "      <td>joblevel_squared</td>\n",
       "      <td>0.229333</td>\n",
       "    </tr>\n",
       "    <tr>\n",
       "      <th>6</th>\n",
       "      <td>numcompaniesworked</td>\n",
       "      <td>0.213461</td>\n",
       "    </tr>\n",
       "    <tr>\n",
       "      <th>5</th>\n",
       "      <td>jobinvolvement_squared</td>\n",
       "      <td>0.209275</td>\n",
       "    </tr>\n",
       "    <tr>\n",
       "      <th>4</th>\n",
       "      <td>yearssincelastpromotion</td>\n",
       "      <td>0.201681</td>\n",
       "    </tr>\n",
       "    <tr>\n",
       "      <th>3</th>\n",
       "      <td>jobsatisfaction_squared</td>\n",
       "      <td>0.195896</td>\n",
       "    </tr>\n",
       "    <tr>\n",
       "      <th>2</th>\n",
       "      <td>percentsalaryhike</td>\n",
       "      <td>-0.191202</td>\n",
       "    </tr>\n",
       "    <tr>\n",
       "      <th>1</th>\n",
       "      <td>jobrole_sales_representative</td>\n",
       "      <td>0.184161</td>\n",
       "    </tr>\n",
       "    <tr>\n",
       "      <th>0</th>\n",
       "      <td>jobrole_research_director</td>\n",
       "      <td>-0.181369</td>\n",
       "    </tr>\n",
       "  </tbody>\n",
       "</table>\n",
       "</div>"
      ],
      "text/plain": [
       "                        Variables  Coefficient\n",
       "34   yearswithcurrmanager_squared     2.246730\n",
       "33          monthlyincome_squared     1.925869\n",
       "32      yearswithcurrmanager_cube    -1.846690\n",
       "31             monthlyincome_cube    -0.961196\n",
       "30                  monthlyincome    -0.817026\n",
       "29  trainingtimeslastyear_squared     0.807918\n",
       "28           yearswithcurrmanager    -0.661530\n",
       "27       distancefromhome_squared     0.561024\n",
       "26                            age    -0.533108\n",
       "25          trainingtimeslastyear    -0.487658\n",
       "24                       age_cube     0.463126\n",
       "23            yearsatcompany_cube     0.449044\n",
       "22          distancefromhome_cube    -0.444125\n",
       "21     trainingtimeslastyear_cube    -0.420334\n",
       "20                worklifebalance    -0.410442\n",
       "19     yearsincurrentrole_squared     0.405621\n",
       "18             yearsincurrentrole    -0.379229\n",
       "17               stockoptionlevel    -0.366576\n",
       "16                 jobinvolvement    -0.366079\n",
       "15              totalworkingyears    -0.341522\n",
       "14       stockoptionlevel_squared     0.336083\n",
       "13           worklifebalance_cube     0.315829\n",
       "12        environmentsatisfaction    -0.306260\n",
       "11                       joblevel    -0.264194\n",
       "10                jobsatisfaction    -0.240478\n",
       "9          percentsalaryhike_cube     0.240359\n",
       "8                        overtime     0.231430\n",
       "7                joblevel_squared     0.229333\n",
       "6              numcompaniesworked     0.213461\n",
       "5          jobinvolvement_squared     0.209275\n",
       "4         yearssincelastpromotion     0.201681\n",
       "3         jobsatisfaction_squared     0.195896\n",
       "2               percentsalaryhike    -0.191202\n",
       "1    jobrole_sales_representative     0.184161\n",
       "0       jobrole_research_director    -0.181369"
      ]
     },
     "execution_count": 89,
     "metadata": {},
     "output_type": "execute_result"
    }
   ],
   "source": [
    "sort_ = abs(lasso.coef_).argsort()\n",
    "sort_ = sort_[-35:]\n",
    "selection = pd.DataFrame({\n",
    "    'Variables' : X.columns[sort_],\n",
    "    'Coefficient' : lasso.coef_[sort_]\n",
    "})\n",
    "\n",
    "selection['trie'] = abs(selection['Coefficient'])\n",
    "selection = selection.sort_values(by=['trie'],ascending=False)\n",
    "selection = selection.drop(columns=['trie'])\n",
    "var_lasso = selection['Variables']\n",
    "selection"
   ]
  },
  {
   "cell_type": "code",
   "execution_count": 35,
   "metadata": {},
   "outputs": [
    {
     "name": "stderr",
     "output_type": "stream",
     "text": [
      "C:\\Users\\Bruguet\\anaconda3\\lib\\site-packages\\statsmodels\\tsa\\base\\tsa_model.py:7: FutureWarning: pandas.Int64Index is deprecated and will be removed from pandas in a future version. Use pandas.Index with the appropriate dtype instead.\n",
      "  from pandas import (to_datetime, Int64Index, DatetimeIndex, Period,\n",
      "C:\\Users\\Bruguet\\anaconda3\\lib\\site-packages\\statsmodels\\tsa\\base\\tsa_model.py:7: FutureWarning: pandas.Float64Index is deprecated and will be removed from pandas in a future version. Use pandas.Index with the appropriate dtype instead.\n",
      "  from pandas import (to_datetime, Int64Index, DatetimeIndex, Period,\n"
     ]
    }
   ],
   "source": [
    "import statsmodels.api as sm"
   ]
  },
  {
   "cell_type": "code",
   "execution_count": 44,
   "metadata": {},
   "outputs": [
    {
     "name": "stderr",
     "output_type": "stream",
     "text": [
      "C:\\Users\\Bruguet\\anaconda3\\lib\\site-packages\\statsmodels\\tsa\\tsatools.py:142: FutureWarning: In a future version of pandas all arguments of concat except for the argument 'objs' will be keyword-only.\n",
      "  x = pd.concat(x[::order], 1)\n"
     ]
    }
   ],
   "source": [
    "X_ols = X[var_lasso]\n",
    "X_ols = sm.add_constant(X_ols)"
   ]
  },
  {
   "cell_type": "code",
   "execution_count": 45,
   "metadata": {},
   "outputs": [],
   "source": [
    "model = sm.OLS(y,X_ols)\n",
    "results = model.fit()"
   ]
  },
  {
   "cell_type": "code",
   "execution_count": 46,
   "metadata": {},
   "outputs": [
    {
     "data": {
      "text/html": [
       "<table class=\"simpletable\">\n",
       "<caption>OLS Regression Results</caption>\n",
       "<tr>\n",
       "  <th>Dep. Variable:</th>            <td>y</td>        <th>  R-squared:         </th> <td>   0.262</td>\n",
       "</tr>\n",
       "<tr>\n",
       "  <th>Model:</th>                   <td>OLS</td>       <th>  Adj. R-squared:    </th> <td>   0.244</td>\n",
       "</tr>\n",
       "<tr>\n",
       "  <th>Method:</th>             <td>Least Squares</td>  <th>  F-statistic:       </th> <td>   14.55</td>\n",
       "</tr>\n",
       "<tr>\n",
       "  <th>Date:</th>             <td>Wed, 13 Apr 2022</td> <th>  Prob (F-statistic):</th> <td>1.12e-71</td>\n",
       "</tr>\n",
       "<tr>\n",
       "  <th>Time:</th>                 <td>09:53:50</td>     <th>  Log-Likelihood:    </th> <td> -391.85</td>\n",
       "</tr>\n",
       "<tr>\n",
       "  <th>No. Observations:</th>      <td>  1470</td>      <th>  AIC:               </th> <td>   855.7</td>\n",
       "</tr>\n",
       "<tr>\n",
       "  <th>Df Residuals:</th>          <td>  1434</td>      <th>  BIC:               </th> <td>   1046.</td>\n",
       "</tr>\n",
       "<tr>\n",
       "  <th>Df Model:</th>              <td>    35</td>      <th>                     </th>     <td> </td>   \n",
       "</tr>\n",
       "<tr>\n",
       "  <th>Covariance Type:</th>      <td>nonrobust</td>    <th>                     </th>     <td> </td>   \n",
       "</tr>\n",
       "</table>\n",
       "<table class=\"simpletable\">\n",
       "<tr>\n",
       "                <td></td>                   <th>coef</th>     <th>std err</th>      <th>t</th>      <th>P>|t|</th>  <th>[0.025</th>    <th>0.975]</th>  \n",
       "</tr>\n",
       "<tr>\n",
       "  <th>const</th>                         <td>    1.8786</td> <td>    0.193</td> <td>    9.746</td> <td> 0.000</td> <td>    1.500</td> <td>    2.257</td>\n",
       "</tr>\n",
       "<tr>\n",
       "  <th>yearswithcurrmanager_squared</th>  <td>    0.0089</td> <td>    0.003</td> <td>    3.538</td> <td> 0.000</td> <td>    0.004</td> <td>    0.014</td>\n",
       "</tr>\n",
       "<tr>\n",
       "  <th>monthlyincome_squared</th>         <td> 5.804e-09</td> <td> 2.71e-09</td> <td>    2.143</td> <td> 0.032</td> <td> 4.92e-10</td> <td> 1.11e-08</td>\n",
       "</tr>\n",
       "<tr>\n",
       "  <th>yearswithcurrmanager_cube</th>     <td>   -0.0004</td> <td>    0.000</td> <td>   -3.640</td> <td> 0.000</td> <td>   -0.001</td> <td>   -0.000</td>\n",
       "</tr>\n",
       "<tr>\n",
       "  <th>monthlyincome_cube</th>            <td>-2.091e-13</td> <td> 8.64e-14</td> <td>   -2.419</td> <td> 0.016</td> <td>-3.79e-13</td> <td>-3.95e-14</td>\n",
       "</tr>\n",
       "<tr>\n",
       "  <th>monthlyincome</th>                 <td>-5.126e-05</td> <td> 2.64e-05</td> <td>   -1.941</td> <td> 0.052</td> <td>   -0.000</td> <td> 5.38e-07</td>\n",
       "</tr>\n",
       "<tr>\n",
       "  <th>trainingtimeslastyear_squared</th> <td>    0.0406</td> <td>    0.018</td> <td>    2.229</td> <td> 0.026</td> <td>    0.005</td> <td>    0.076</td>\n",
       "</tr>\n",
       "<tr>\n",
       "  <th>yearswithcurrmanager</th>          <td>   -0.0480</td> <td>    0.015</td> <td>   -3.213</td> <td> 0.001</td> <td>   -0.077</td> <td>   -0.019</td>\n",
       "</tr>\n",
       "<tr>\n",
       "  <th>distancefromhome_squared</th>      <td>    0.0005</td> <td>    0.000</td> <td>    2.317</td> <td> 0.021</td> <td> 7.84e-05</td> <td>    0.001</td>\n",
       "</tr>\n",
       "<tr>\n",
       "  <th>age</th>                           <td>   -0.0145</td> <td>    0.004</td> <td>   -3.761</td> <td> 0.000</td> <td>   -0.022</td> <td>   -0.007</td>\n",
       "</tr>\n",
       "<tr>\n",
       "  <th>trainingtimeslastyear</th>         <td>   -0.1213</td> <td>    0.048</td> <td>   -2.542</td> <td> 0.011</td> <td>   -0.215</td> <td>   -0.028</td>\n",
       "</tr>\n",
       "<tr>\n",
       "  <th>age_cube</th>                      <td> 2.384e-06</td> <td> 7.65e-07</td> <td>    3.117</td> <td> 0.002</td> <td> 8.83e-07</td> <td> 3.88e-06</td>\n",
       "</tr>\n",
       "<tr>\n",
       "  <th>yearsatcompany_cube</th>           <td>  4.29e-06</td> <td>  2.3e-06</td> <td>    1.867</td> <td> 0.062</td> <td>-2.18e-07</td> <td>  8.8e-06</td>\n",
       "</tr>\n",
       "<tr>\n",
       "  <th>distancefromhome_cube</th>         <td>-1.444e-05</td> <td> 8.34e-06</td> <td>   -1.731</td> <td> 0.084</td> <td>-3.08e-05</td> <td> 1.92e-06</td>\n",
       "</tr>\n",
       "<tr>\n",
       "  <th>trainingtimeslastyear_cube</th>    <td>   -0.0042</td> <td>    0.002</td> <td>   -2.096</td> <td> 0.036</td> <td>   -0.008</td> <td>   -0.000</td>\n",
       "</tr>\n",
       "<tr>\n",
       "  <th>worklifebalance</th>               <td>   -0.1489</td> <td>    0.034</td> <td>   -4.403</td> <td> 0.000</td> <td>   -0.215</td> <td>   -0.083</td>\n",
       "</tr>\n",
       "<tr>\n",
       "  <th>yearsincurrentrole_squared</th>    <td>    0.0003</td> <td>    0.001</td> <td>    0.588</td> <td> 0.557</td> <td>   -0.001</td> <td>    0.001</td>\n",
       "</tr>\n",
       "<tr>\n",
       "  <th>yearsincurrentrole</th>            <td>   -0.0101</td> <td>    0.008</td> <td>   -1.257</td> <td> 0.209</td> <td>   -0.026</td> <td>    0.006</td>\n",
       "</tr>\n",
       "<tr>\n",
       "  <th>stockoptionlevel</th>              <td>   -0.1641</td> <td>    0.026</td> <td>   -6.399</td> <td> 0.000</td> <td>   -0.214</td> <td>   -0.114</td>\n",
       "</tr>\n",
       "<tr>\n",
       "  <th>jobinvolvement</th>                <td>   -0.1493</td> <td>    0.061</td> <td>   -2.443</td> <td> 0.015</td> <td>   -0.269</td> <td>   -0.029</td>\n",
       "</tr>\n",
       "<tr>\n",
       "  <th>totalworkingyears</th>             <td>   -0.0066</td> <td>    0.002</td> <td>   -2.771</td> <td> 0.006</td> <td>   -0.011</td> <td>   -0.002</td>\n",
       "</tr>\n",
       "<tr>\n",
       "  <th>stockoptionlevel_squared</th>      <td>    0.0479</td> <td>    0.010</td> <td>    4.888</td> <td> 0.000</td> <td>    0.029</td> <td>    0.067</td>\n",
       "</tr>\n",
       "<tr>\n",
       "  <th>worklifebalance_cube</th>          <td>    0.0057</td> <td>    0.001</td> <td>    3.845</td> <td> 0.000</td> <td>    0.003</td> <td>    0.009</td>\n",
       "</tr>\n",
       "<tr>\n",
       "  <th>environmentsatisfaction</th>       <td>   -0.0397</td> <td>    0.008</td> <td>   -5.131</td> <td> 0.000</td> <td>   -0.055</td> <td>   -0.025</td>\n",
       "</tr>\n",
       "<tr>\n",
       "  <th>joblevel</th>                      <td>   -0.1123</td> <td>    0.067</td> <td>   -1.665</td> <td> 0.096</td> <td>   -0.245</td> <td>    0.020</td>\n",
       "</tr>\n",
       "<tr>\n",
       "  <th>jobsatisfaction</th>               <td>   -0.0550</td> <td>    0.044</td> <td>   -1.257</td> <td> 0.209</td> <td>   -0.141</td> <td>    0.031</td>\n",
       "</tr>\n",
       "<tr>\n",
       "  <th>percentsalaryhike_cube</th>        <td>  1.73e-05</td> <td> 1.21e-05</td> <td>    1.430</td> <td> 0.153</td> <td>-6.43e-06</td> <td>  4.1e-05</td>\n",
       "</tr>\n",
       "<tr>\n",
       "  <th>overtime</th>                      <td>    0.1993</td> <td>    0.019</td> <td>   10.581</td> <td> 0.000</td> <td>    0.162</td> <td>    0.236</td>\n",
       "</tr>\n",
       "<tr>\n",
       "  <th>joblevel_squared</th>              <td>    0.0278</td> <td>    0.014</td> <td>    1.936</td> <td> 0.053</td> <td>   -0.000</td> <td>    0.056</td>\n",
       "</tr>\n",
       "<tr>\n",
       "  <th>numcompaniesworked</th>            <td>    0.0189</td> <td>    0.004</td> <td>    5.027</td> <td> 0.000</td> <td>    0.012</td> <td>    0.026</td>\n",
       "</tr>\n",
       "<tr>\n",
       "  <th>jobinvolvement_squared</th>        <td>    0.0172</td> <td>    0.012</td> <td>    1.467</td> <td> 0.143</td> <td>   -0.006</td> <td>    0.040</td>\n",
       "</tr>\n",
       "<tr>\n",
       "  <th>yearssincelastpromotion</th>       <td>    0.0093</td> <td>    0.003</td> <td>    2.781</td> <td> 0.005</td> <td>    0.003</td> <td>    0.016</td>\n",
       "</tr>\n",
       "<tr>\n",
       "  <th>jobsatisfaction_squared</th>       <td>    0.0037</td> <td>    0.008</td> <td>    0.436</td> <td> 0.663</td> <td>   -0.013</td> <td>    0.020</td>\n",
       "</tr>\n",
       "<tr>\n",
       "  <th>percentsalaryhike</th>             <td>   -0.0171</td> <td>    0.011</td> <td>   -1.594</td> <td> 0.111</td> <td>   -0.038</td> <td>    0.004</td>\n",
       "</tr>\n",
       "<tr>\n",
       "  <th>jobrole_sales_representative</th>  <td>    0.1398</td> <td>    0.039</td> <td>    3.615</td> <td> 0.000</td> <td>    0.064</td> <td>    0.216</td>\n",
       "</tr>\n",
       "<tr>\n",
       "  <th>jobrole_research_director</th>     <td>   -0.0830</td> <td>    0.045</td> <td>   -1.832</td> <td> 0.067</td> <td>   -0.172</td> <td>    0.006</td>\n",
       "</tr>\n",
       "</table>\n",
       "<table class=\"simpletable\">\n",
       "<tr>\n",
       "  <th>Omnibus:</th>       <td>288.956</td> <th>  Durbin-Watson:     </th> <td>   1.964</td> \n",
       "</tr>\n",
       "<tr>\n",
       "  <th>Prob(Omnibus):</th> <td> 0.000</td>  <th>  Jarque-Bera (JB):  </th> <td> 488.119</td> \n",
       "</tr>\n",
       "<tr>\n",
       "  <th>Skew:</th>          <td> 1.274</td>  <th>  Prob(JB):          </th> <td>1.01e-106</td>\n",
       "</tr>\n",
       "<tr>\n",
       "  <th>Kurtosis:</th>      <td> 4.216</td>  <th>  Cond. No.          </th> <td>4.57e+13</td> \n",
       "</tr>\n",
       "</table><br/><br/>Notes:<br/>[1] Standard Errors assume that the covariance matrix of the errors is correctly specified.<br/>[2] The condition number is large, 4.57e+13. This might indicate that there are<br/>strong multicollinearity or other numerical problems."
      ],
      "text/plain": [
       "<class 'statsmodels.iolib.summary.Summary'>\n",
       "\"\"\"\n",
       "                            OLS Regression Results                            \n",
       "==============================================================================\n",
       "Dep. Variable:                      y   R-squared:                       0.262\n",
       "Model:                            OLS   Adj. R-squared:                  0.244\n",
       "Method:                 Least Squares   F-statistic:                     14.55\n",
       "Date:                Wed, 13 Apr 2022   Prob (F-statistic):           1.12e-71\n",
       "Time:                        09:53:50   Log-Likelihood:                -391.85\n",
       "No. Observations:                1470   AIC:                             855.7\n",
       "Df Residuals:                    1434   BIC:                             1046.\n",
       "Df Model:                          35                                         \n",
       "Covariance Type:            nonrobust                                         \n",
       "=================================================================================================\n",
       "                                    coef    std err          t      P>|t|      [0.025      0.975]\n",
       "-------------------------------------------------------------------------------------------------\n",
       "const                             1.8786      0.193      9.746      0.000       1.500       2.257\n",
       "yearswithcurrmanager_squared      0.0089      0.003      3.538      0.000       0.004       0.014\n",
       "monthlyincome_squared          5.804e-09   2.71e-09      2.143      0.032    4.92e-10    1.11e-08\n",
       "yearswithcurrmanager_cube        -0.0004      0.000     -3.640      0.000      -0.001      -0.000\n",
       "monthlyincome_cube            -2.091e-13   8.64e-14     -2.419      0.016   -3.79e-13   -3.95e-14\n",
       "monthlyincome                 -5.126e-05   2.64e-05     -1.941      0.052      -0.000    5.38e-07\n",
       "trainingtimeslastyear_squared     0.0406      0.018      2.229      0.026       0.005       0.076\n",
       "yearswithcurrmanager             -0.0480      0.015     -3.213      0.001      -0.077      -0.019\n",
       "distancefromhome_squared          0.0005      0.000      2.317      0.021    7.84e-05       0.001\n",
       "age                              -0.0145      0.004     -3.761      0.000      -0.022      -0.007\n",
       "trainingtimeslastyear            -0.1213      0.048     -2.542      0.011      -0.215      -0.028\n",
       "age_cube                       2.384e-06   7.65e-07      3.117      0.002    8.83e-07    3.88e-06\n",
       "yearsatcompany_cube             4.29e-06    2.3e-06      1.867      0.062   -2.18e-07     8.8e-06\n",
       "distancefromhome_cube         -1.444e-05   8.34e-06     -1.731      0.084   -3.08e-05    1.92e-06\n",
       "trainingtimeslastyear_cube       -0.0042      0.002     -2.096      0.036      -0.008      -0.000\n",
       "worklifebalance                  -0.1489      0.034     -4.403      0.000      -0.215      -0.083\n",
       "yearsincurrentrole_squared        0.0003      0.001      0.588      0.557      -0.001       0.001\n",
       "yearsincurrentrole               -0.0101      0.008     -1.257      0.209      -0.026       0.006\n",
       "stockoptionlevel                 -0.1641      0.026     -6.399      0.000      -0.214      -0.114\n",
       "jobinvolvement                   -0.1493      0.061     -2.443      0.015      -0.269      -0.029\n",
       "totalworkingyears                -0.0066      0.002     -2.771      0.006      -0.011      -0.002\n",
       "stockoptionlevel_squared          0.0479      0.010      4.888      0.000       0.029       0.067\n",
       "worklifebalance_cube              0.0057      0.001      3.845      0.000       0.003       0.009\n",
       "environmentsatisfaction          -0.0397      0.008     -5.131      0.000      -0.055      -0.025\n",
       "joblevel                         -0.1123      0.067     -1.665      0.096      -0.245       0.020\n",
       "jobsatisfaction                  -0.0550      0.044     -1.257      0.209      -0.141       0.031\n",
       "percentsalaryhike_cube          1.73e-05   1.21e-05      1.430      0.153   -6.43e-06     4.1e-05\n",
       "overtime                          0.1993      0.019     10.581      0.000       0.162       0.236\n",
       "joblevel_squared                  0.0278      0.014      1.936      0.053      -0.000       0.056\n",
       "numcompaniesworked                0.0189      0.004      5.027      0.000       0.012       0.026\n",
       "jobinvolvement_squared            0.0172      0.012      1.467      0.143      -0.006       0.040\n",
       "yearssincelastpromotion           0.0093      0.003      2.781      0.005       0.003       0.016\n",
       "jobsatisfaction_squared           0.0037      0.008      0.436      0.663      -0.013       0.020\n",
       "percentsalaryhike                -0.0171      0.011     -1.594      0.111      -0.038       0.004\n",
       "jobrole_sales_representative      0.1398      0.039      3.615      0.000       0.064       0.216\n",
       "jobrole_research_director        -0.0830      0.045     -1.832      0.067      -0.172       0.006\n",
       "==============================================================================\n",
       "Omnibus:                      288.956   Durbin-Watson:                   1.964\n",
       "Prob(Omnibus):                  0.000   Jarque-Bera (JB):              488.119\n",
       "Skew:                           1.274   Prob(JB):                    1.01e-106\n",
       "Kurtosis:                       4.216   Cond. No.                     4.57e+13\n",
       "==============================================================================\n",
       "\n",
       "Notes:\n",
       "[1] Standard Errors assume that the covariance matrix of the errors is correctly specified.\n",
       "[2] The condition number is large, 4.57e+13. This might indicate that there are\n",
       "strong multicollinearity or other numerical problems.\n",
       "\"\"\""
      ]
     },
     "execution_count": 46,
     "metadata": {},
     "output_type": "execute_result"
    }
   ],
   "source": [
    "results.summary()"
   ]
  },
  {
   "cell_type": "markdown",
   "metadata": {
    "id": "RXRaIR-FPE-T"
   },
   "source": [
    "# Model comparaisons"
   ]
  },
  {
   "cell_type": "markdown",
   "metadata": {},
   "source": [
    "## Residuals analysis"
   ]
  },
  {
   "cell_type": "code",
   "execution_count": 36,
   "metadata": {},
   "outputs": [
    {
     "name": "stderr",
     "output_type": "stream",
     "text": [
      "C:\\Users\\Bruguet\\anaconda3\\lib\\site-packages\\seaborn\\distributions.py:2619: FutureWarning: `distplot` is a deprecated function and will be removed in a future version. Please adapt your code to use either `displot` (a figure-level function with similar flexibility) or `kdeplot` (an axes-level function for kernel density plots).\n",
      "  warnings.warn(msg, FutureWarning)\n",
      "C:\\Users\\Bruguet\\anaconda3\\lib\\site-packages\\seaborn\\distributions.py:2619: FutureWarning: `distplot` is a deprecated function and will be removed in a future version. Please adapt your code to use either `displot` (a figure-level function with similar flexibility) or `kdeplot` (an axes-level function for kernel density plots).\n",
      "  warnings.warn(msg, FutureWarning)\n",
      "C:\\Users\\Bruguet\\anaconda3\\lib\\site-packages\\seaborn\\distributions.py:2619: FutureWarning: `distplot` is a deprecated function and will be removed in a future version. Please adapt your code to use either `displot` (a figure-level function with similar flexibility) or `kdeplot` (an axes-level function for kernel density plots).\n",
      "  warnings.warn(msg, FutureWarning)\n"
     ]
    },
    {
     "data": {
      "text/plain": [
       "Text(0.5, 1.0, 'Residuals distribution')"
      ]
     },
     "execution_count": 36,
     "metadata": {},
     "output_type": "execute_result"
    },
    {
     "data": {
      "image/png": "[encoded data removed]",
      "text/plain": [
       "<Figure size 432x288 with 1 Axes>"
      ]
     },
     "metadata": {},
     "output_type": "display_data"
    }
   ],
   "source": [
    "sns.set(style=\"ticks\", color_codes=True)\n",
    "sns.distplot((y_test-y_ols), hist=False, kde=True, kde_kws = {'shade': False, 'linewidth' : 1},\n",
    "             bins=50, color = 'orange',\n",
    "             hist_kws={'edgecolor':'black'})\n",
    "sns.distplot((y_test-y_ridge), hist=False, kde=True, kde_kws = {'shade': False, 'linewidth' : 1},\n",
    "             bins=50, color = 'blue',\n",
    "             hist_kws={'edgecolor':'black'})\n",
    "sns.distplot((y_test-y_lasso), hist=False, kde=True, kde_kws = {'shade': False, 'linewidth' : 1},\n",
    "             bins=50, color = 'green',\n",
    "             hist_kws={'edgecolor':'black'})\n",
    "plt.xlabel('Residuals')\n",
    "plt.ylabel('Density')\n",
    "plt.legend(labels=[\"OLS\",\"Ridge\", \"Lasso\"])\n",
    "plt.title('Residuals distribution')"
   ]
  },
  {
   "cell_type": "markdown",
   "metadata": {
    "id": "f9G_cYaJcImR"
   },
   "source": [
    "### Using PrecisionRecallDisplay.**from_estimators**"
   ]
  },
  {
   "cell_type": "code",
   "execution_count": 40,
   "metadata": {
    "colab": {
     "base_uri": "https://localhost:8080/",
     "height": 893
    },
    "id": "mY7pQDrxb8x_",
    "outputId": "c484c680-acc0-4172-a2dd-4de742e3eb8b"
   },
   "outputs": [],
   "source": [
    "def recall (y_test,y_pred,model) :\n",
    "    \n",
    "    precision, recall, thresholds = precision_recall_curve(y_test,y_pred)\n",
    "    # convert to f score\n",
    "    fscore = (2 * precision * recall) / (precision + recall)\n",
    "    # locate the index of the largest f score\n",
    "    ix = np.argmax(fscore)\n",
    "    # plot the roc curve for the model\n",
    "    recall_plot = plt.plot(recall, precision, marker='.', label=model)\n",
    "    plt.xlabel('Recall')\n",
    "    plt.ylabel('Precision')\n",
    "    plt.legend()\n",
    "    # show the plot\n",
    "    return(recall_plot)"
   ]
  },
  {
   "cell_type": "code",
   "execution_count": 41,
   "metadata": {},
   "outputs": [
    {
     "data": {
      "image/png": "[encoded data removed]",
      "text/plain": [
       "<Figure size 432x288 with 1 Axes>"
      ]
     },
     "metadata": {},
     "output_type": "display_data"
    }
   ],
   "source": [
    "recall_ols = recall(y_test,y_ols, 'Ordinary least square')\n",
    "recall_rige = recall(y_test,y_ridge, 'Ridge')\n",
    "recall_lasso = recall(y_test,y_lasso,'Lasso')"
   ]
  },
  {
   "cell_type": "code",
   "execution_count": 42,
   "metadata": {},
   "outputs": [
    {
     "data": {
      "text/html": [
       "<div>\n",
       "<style scoped>\n",
       "    .dataframe tbody tr th:only-of-type {\n",
       "        vertical-align: middle;\n",
       "    }\n",
       "\n",
       "    .dataframe tbody tr th {\n",
       "        vertical-align: top;\n",
       "    }\n",
       "\n",
       "    .dataframe thead th {\n",
       "        text-align: right;\n",
       "    }\n",
       "</style>\n",
       "<table border=\"1\" class=\"dataframe\">\n",
       "  <thead>\n",
       "    <tr style=\"text-align: right;\">\n",
       "      <th></th>\n",
       "      <th>Algorithm</th>\n",
       "      <th>f1</th>\n",
       "      <th>acc</th>\n",
       "    </tr>\n",
       "  </thead>\n",
       "  <tbody>\n",
       "    <tr>\n",
       "      <th>2</th>\n",
       "      <td>Lasso</td>\n",
       "      <td>0.505495</td>\n",
       "      <td>0.846939</td>\n",
       "    </tr>\n",
       "    <tr>\n",
       "      <th>1</th>\n",
       "      <td>Ridge</td>\n",
       "      <td>0.500000</td>\n",
       "      <td>0.823129</td>\n",
       "    </tr>\n",
       "    <tr>\n",
       "      <th>0</th>\n",
       "      <td>OLS</td>\n",
       "      <td>0.481928</td>\n",
       "      <td>0.853741</td>\n",
       "    </tr>\n",
       "  </tbody>\n",
       "</table>\n",
       "</div>"
      ],
      "text/plain": [
       "  Algorithm        f1       acc\n",
       "2     Lasso  0.505495  0.846939\n",
       "1     Ridge  0.500000  0.823129\n",
       "0       OLS  0.481928  0.853741"
      ]
     },
     "execution_count": 42,
     "metadata": {},
     "output_type": "execute_result"
    }
   ],
   "source": [
    " f_score = pd.DataFrame({\n",
    "    'Algorithm' : ['OLS','Ridge','Lasso'],\n",
    "    'y_pred' : [y_ols2,y_ridge2,y_lasso2]\n",
    "})\n",
    "f1_list = []\n",
    "for index, row in f_score.iterrows():\n",
    "    f1 = f1_score(y_test, row['y_pred'], average='binary')\n",
    "    f1_list.append(f1)\n",
    "acc_list = []\n",
    "for index, row in f_score.iterrows():\n",
    "    acc = accuracy_score(y_test, row['y_pred'])\n",
    "    acc_list.append(acc)\n",
    "    \n",
    "f_score['f1']=f1_list\n",
    "f_score['acc']=acc_list\n",
    "f_score = f_score.drop(['y_pred'], axis=1)\n",
    "f_score.sort_values(by=['f1'],ascending=False)"
   ]
  },
  {
   "cell_type": "code",
   "execution_count": null,
   "metadata": {},
   "outputs": [],
   "source": []
  }
 ],
 "metadata": {
  "colab": {
   "collapsed_sections": [],
   "name": "code Marie.ipynb",
   "provenance": []
  },
  "kernelspec": {
   "display_name": "Python 3 (ipykernel)",
   "language": "python",
   "name": "python3"
  },
  "language_info": {
   "codemirror_mode": {
    "name": "ipython",
    "version": 3
   },
   "file_extension": ".py",
   "mimetype": "text/x-python",
   "name": "python",
   "nbconvert_exporter": "python",
   "pygments_lexer": "ipython3",
   "version": "3.8.12"
  }
 },
 "nbformat": 4,
 "nbformat_minor": 4
}
