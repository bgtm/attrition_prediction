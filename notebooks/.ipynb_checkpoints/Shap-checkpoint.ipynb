{
 "cells": [
  {
   "cell_type": "markdown",
   "id": "62b1adf6-b285-467a-8de3-a514ae001cd1",
   "metadata": {},
   "source": [
    "# Imports"
   ]
  },
  {
   "cell_type": "code",
   "execution_count": 4,
   "id": "daf4cbf2-e29f-4b85-9293-c5c4cece7500",
   "metadata": {},
   "outputs": [],
   "source": [
    "import pandas as pd\n",
    "import seaborn as sns\n",
    "import matplotlib.pyplot as plt\n",
    "import numpy as np\n",
    "import os \n",
    "import shap\n",
    "import pickle\n",
    "\n",
    "from sklearn.model_selection import train_test_split\n",
    "from sklearn.preprocessing import MinMaxScaler\n"
   ]
  },
  {
   "cell_type": "markdown",
   "id": "26d7b7c1-b087-4556-9305-2a9f73c17c78",
   "metadata": {},
   "source": [
    "# Load data"
   ]
  },
  {
   "cell_type": "code",
   "execution_count": 5,
   "id": "8732f272-886c-46ae-8c8e-3ba5a8925926",
   "metadata": {},
   "outputs": [],
   "source": [
    "employee= pd.read_csv('C:/py/data/attrition/employee_process.csv')\n",
    "y=employee['y']\n",
    "X=employee.drop(columns=['y'])\n",
    "X_train, X_test, y_train, y_test = train_test_split(X, y, test_size=0.20, random_state=42)"
   ]
  },
  {
   "cell_type": "code",
   "execution_count": 6,
   "id": "a7e4f018-03b5-44ae-9c31-974011fc0a6e",
   "metadata": {},
   "outputs": [],
   "source": [
    "svm_model = pickle.load(open('attrition_svm.pkl', 'rb'))"
   ]
  },
  {
   "cell_type": "code",
   "execution_count": 7,
   "id": "4a5ab7bd-7bbd-4d4f-bf1d-5d016f48ef1e",
   "metadata": {},
   "outputs": [
    {
     "name": "stderr",
     "output_type": "stream",
     "text": [
      "X does not have valid feature names, but SVC was fitted with feature names\n",
      "Using 294 background data samples could cause slower run times. Consider using shap.sample(data, K) or shap.kmeans(data, K) to summarize the background as K samples.\n"
     ]
    }
   ],
   "source": [
    "svm_explainer = shap.KernelExplainer(svm_model.predict_proba,X_test)"
   ]
  },
  {
   "cell_type": "code",
   "execution_count": 8,
   "id": "7de76527-2858-4c34-95c8-0bb5afbcb7ad",
   "metadata": {},
   "outputs": [
    {
     "data": {
      "text/plain": [
       "<shap.explainers._kernel.Kernel at 0x1fab373aeb0>"
      ]
     },
     "execution_count": 8,
     "metadata": {},
     "output_type": "execute_result"
    }
   ],
   "source": [
    "svm_explainer"
   ]
  },
  {
   "cell_type": "code",
   "execution_count": null,
   "id": "5e47029f-e205-4197-8504-85159debc600",
   "metadata": {},
   "outputs": [],
   "source": []
  },
  {
   "cell_type": "code",
   "execution_count": null,
   "id": "fd7c5af5-a0c8-459e-880e-3691ed7f1edf",
   "metadata": {},
   "outputs": [],
   "source": []
  },
  {
   "cell_type": "code",
   "execution_count": null,
   "id": "e20d6fe0-1e12-47d3-9d37-7c34b051addc",
   "metadata": {},
   "outputs": [],
   "source": []
  },
  {
   "cell_type": "code",
   "execution_count": null,
   "id": "8d35539d-706a-471e-8bb4-d43ff7ba6a48",
   "metadata": {},
   "outputs": [],
   "source": []
  },
  {
   "cell_type": "code",
   "execution_count": null,
   "id": "fc84d3f7-2646-4669-a9eb-268178708c12",
   "metadata": {},
   "outputs": [],
   "source": []
  },
  {
   "cell_type": "code",
   "execution_count": null,
   "id": "7b0efbe3-6cd5-4b5f-963f-2856c863ca9b",
   "metadata": {},
   "outputs": [],
   "source": []
  }
 ],
 "metadata": {
  "kernelspec": {
   "display_name": "Python 3 (ipykernel)",
   "language": "python",
   "name": "python3"
  },
  "language_info": {
   "codemirror_mode": {
    "name": "ipython",
    "version": 3
   },
   "file_extension": ".py",
   "mimetype": "text/x-python",
   "name": "python",
   "nbconvert_exporter": "python",
   "pygments_lexer": "ipython3",
   "version": "3.8.12"
  }
 },
 "nbformat": 4,
 "nbformat_minor": 5
}
