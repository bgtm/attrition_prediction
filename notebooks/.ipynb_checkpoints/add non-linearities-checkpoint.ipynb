{
 "cells": [
  {
   "cell_type": "markdown",
   "metadata": {
    "id": "aQgiCvGgzMtJ"
   },
   "source": [
    "# Imports"
   ]
  },
  {
   "cell_type": "code",
   "execution_count": 1,
   "metadata": {
    "colab": {
     "base_uri": "https://localhost:8080/"
    },
    "id": "u_3m-yjpBEZV",
    "outputId": "eaa139dc-f0b0-412e-e3fd-23d0829d4397"
   },
   "outputs": [
    {
     "name": "stdout",
     "output_type": "stream",
     "text": [
      "Requirement already satisfied: sklearn in c:\\users\\bruguet\\anaconda3\\lib\\site-packages (0.0)\n",
      "Requirement already satisfied: scikit-learn in c:\\users\\bruguet\\anaconda3\\lib\\site-packages (from sklearn) (1.0.1)\n",
      "Requirement already satisfied: numpy>=1.14.6 in c:\\users\\bruguet\\anaconda3\\lib\\site-packages (from scikit-learn->sklearn) (1.20.1)\n",
      "Requirement already satisfied: threadpoolctl>=2.0.0 in c:\\users\\bruguet\\anaconda3\\lib\\site-packages (from scikit-learn->sklearn) (2.1.0)\n",
      "Requirement already satisfied: scipy>=1.1.0 in c:\\users\\bruguet\\anaconda3\\lib\\site-packages (from scikit-learn->sklearn) (1.4.1)\n",
      "Requirement already satisfied: joblib>=0.11 in c:\\users\\bruguet\\anaconda3\\lib\\site-packages (from scikit-learn->sklearn) (1.0.1)\n"
     ]
    }
   ],
   "source": [
    "!pip install sklearn --upgrade"
   ]
  },
  {
   "cell_type": "code",
   "execution_count": 1,
   "metadata": {},
   "outputs": [],
   "source": [
    "import pandas as pd\n",
    "import seaborn as sns\n",
    "import matplotlib.pyplot as plt\n",
    "import numpy as np\n",
    "import os \n",
    "\n",
    "from sklearn.preprocessing import MinMaxScaler\n",
    "from sklearn.linear_model import LinearRegression,LogisticRegression\n",
    "from sklearn.metrics import mean_squared_error, f1_score\n",
    "from sklearn.linear_model import Ridge, RidgeCV, Lasso, LassoCV, RidgeClassifier, RidgeClassifierCV"
   ]
  },
  {
   "cell_type": "markdown",
   "metadata": {
    "id": "F7g_eir1zMtQ"
   },
   "source": [
    "# Loading data"
   ]
  },
  {
   "cell_type": "code",
   "execution_count": 55,
   "metadata": {},
   "outputs": [],
   "source": [
    "employee = pd.read_csv('C:/py/data/attrition/employee_process.csv')"
   ]
  },
  {
   "cell_type": "code",
   "execution_count": 56,
   "metadata": {},
   "outputs": [],
   "source": [
    "y=employee['y']\n",
    "X=employee.drop(columns=['y'])"
   ]
  },
  {
   "cell_type": "markdown",
   "metadata": {},
   "source": [
    "## Add only cross-products"
   ]
  },
  {
   "cell_type": "code",
   "execution_count": 57,
   "metadata": {},
   "outputs": [],
   "source": [
    "augmentation =[ ]\n",
    "for var in X.columns :\n",
    "    if X[var].unique().tolist() == [0,1] :\n",
    "        pass\n",
    "    elif X[var].unique().tolist() ==[1,0]:\n",
    "        pass\n",
    "    else :\n",
    "        augmentation.append(var)"
   ]
  },
  {
   "cell_type": "code",
   "execution_count": 58,
   "metadata": {},
   "outputs": [],
   "source": [
    "for var in augmentation :\n",
    "    \n",
    "    X[var+'_squared'] = X[var]**2\n",
    "    X[var+'_cube'] = X[var]**3"
   ]
  },
  {
   "cell_type": "code",
   "execution_count": 59,
   "metadata": {},
   "outputs": [],
   "source": [
    "for i in range(len(augmentation)-1):\n",
    "     X[augmentation[i]+'_'+augmentation[i+1]] = X[augmentation[i]]*X[augmentation[i+1]]"
   ]
  },
  {
   "cell_type": "markdown",
   "metadata": {},
   "source": [
    "### Split into train and test subsample"
   ]
  },
  {
   "cell_type": "code",
   "execution_count": 7,
   "metadata": {},
   "outputs": [],
   "source": [
    "from sklearn.model_selection import train_test_split\n",
    "X_train, X_test, y_train, y_test = train_test_split(X, y, test_size=0.20, random_state=42)"
   ]
  },
  {
   "cell_type": "code",
   "execution_count": 8,
   "metadata": {},
   "outputs": [
    {
     "name": "stdout",
     "output_type": "stream",
     "text": [
      "(1176, 117)\n",
      "(1176,)\n",
      "(294, 117)\n",
      "(294,)\n"
     ]
    }
   ],
   "source": [
    "print(X_train.shape)\n",
    "print(y_train.shape)\n",
    "print(X_test.shape)\n",
    "print(y_test.shape)"
   ]
  },
  {
   "cell_type": "code",
   "execution_count": 9,
   "metadata": {},
   "outputs": [],
   "source": [
    "scaler = MinMaxScaler()\n",
    "X_train = scaler.fit_transform(X_train)\n",
    "X_test = scaler.transform(X_test)"
   ]
  },
  {
   "cell_type": "code",
   "execution_count": 10,
   "metadata": {},
   "outputs": [],
   "source": [
    "X_train = pd.DataFrame(X_train, columns=X.columns)\n",
    "X_test = pd.DataFrame(X_test, columns=X.columns)"
   ]
  },
  {
   "cell_type": "markdown",
   "metadata": {
    "id": "E5hssF11L_q1"
   },
   "source": [
    "# Defition of the metrics function "
   ]
  },
  {
   "cell_type": "code",
   "execution_count": 122,
   "metadata": {},
   "outputs": [],
   "source": [
    "from sklearn.metrics import confusion_matrix\n",
    "from sklearn.metrics import recall_score\n",
    "from sklearn.metrics import precision_score\n",
    "from sklearn.metrics import f1_score,accuracy_score\n",
    "from sklearn.metrics import precision_recall_curve, PrecisionRecallDisplay"
   ]
  },
  {
   "cell_type": "code",
   "execution_count": 12,
   "metadata": {
    "id": "JbIhkwOOJT7x"
   },
   "outputs": [],
   "source": [
    "def recall_precision(y_test,y_pred,model):\n",
    "    precision, recall, thresholds = precision_recall_curve(y_test,y_pred)\n",
    "    # convert to f score\n",
    "    fscore = (2 * precision * recall) / (precision + recall)\n",
    "    fscore[np.isnan(fscore)] = 0\n",
    "    #print(fscore)\n",
    "    # locate the index of the largest f score\n",
    "    ix = np.argmax(fscore)\n",
    "    optimal_threshold = thresholds[ix]\n",
    "\n",
    "    # plot the recall precision curve for the model\n",
    "    plt.plot(recall, precision, marker='.', label=model)\n",
    "    no_skill = len(y_test[y_test==1]) / len(y_test)\n",
    "    plt.plot([0,1], [no_skill,no_skill], linestyle='--', label='No Skill')\n",
    "    plt.scatter(recall[ix], precision[ix], marker='o', color='black', label='Best')\n",
    "    # axis labels\n",
    "    plt.xlabel('Recall')\n",
    "    plt.ylabel('Precision')\n",
    "    plt.legend()\n",
    "    # show the plot\n",
    "    plt.show()\n",
    "    \n",
    "    print(\"\\nTEST\")\n",
    "    print('Best Threshold=%f, F-Score=%.3f' % (optimal_threshold, fscore[ix]))\n",
    "    y_pred2= np.where(y_pred <= optimal_threshold , 0, 1)\n",
    "    cm = confusion_matrix(y_test, y_pred2)\n",
    "    print(\"Confusion matrix \\n\" , cm)\n",
    "    precision = cm[1,1]/sum(cm[:,1])\n",
    "    print(\"\\nPrecision : \" + str(precision))\n",
    "    recall = cm[1,1]/sum(cm[1,:])\n",
    "    print(\"Recall : \" + str(recall))\n",
    "    f1 = 2*((precision*recall)/(precision+recall))\n",
    "    print(\"F1 : \" + str(f1))\n",
    "    \n",
    "    residual = (y_test - y_pred)\n",
    "    print(\"\\n Residuals distribution : \\n\", residual.describe())\n",
    "    \n",
    "    return optimal_threshold"
   ]
  },
  {
   "cell_type": "markdown",
   "metadata": {},
   "source": [
    "# OLS"
   ]
  },
  {
   "cell_type": "code",
   "execution_count": 117,
   "metadata": {},
   "outputs": [],
   "source": [
    "model = LinearRegression().fit(X_train, y_train)\n",
    "y_ols = model.predict(X_test)"
   ]
  },
  {
   "cell_type": "code",
   "execution_count": 118,
   "metadata": {},
   "outputs": [
    {
     "data": {
      "image/png": "[encoded data removed]",
      "text/plain": [
       "<Figure size 432x288 with 1 Axes>"
      ]
     },
     "metadata": {},
     "output_type": "display_data"
    },
    {
     "name": "stdout",
     "output_type": "stream",
     "text": [
      "\n",
      "TEST\n",
      "Best Threshold=0.414307, F-Score=0.518\n",
      "Confusion matrix \n",
      " [[231  24]\n",
      " [ 18  21]]\n",
      "\n",
      "Precision : 0.4666666666666667\n",
      "Recall : 0.5384615384615384\n",
      "F1 : 0.5\n",
      "\n",
      " Residuals distribution : \n",
      " count    294.000000\n",
      "mean      -0.032658\n",
      "std        0.322090\n",
      "min       -0.644775\n",
      "25%       -0.243958\n",
      "50%       -0.079956\n",
      "75%        0.077576\n",
      "max        1.042236\n",
      "Name: y, dtype: float64\n"
     ]
    }
   ],
   "source": [
    "Tols = recall_precision(y_test,y_ols,'Ordinary least square')"
   ]
  },
  {
   "cell_type": "code",
   "execution_count": 119,
   "metadata": {},
   "outputs": [],
   "source": [
    "y_ols2= np.where(y_ols <= Tols , 0, 1)"
   ]
  },
  {
   "cell_type": "code",
   "execution_count": 29,
   "metadata": {},
   "outputs": [
    {
     "data": {
      "image/png": "[encoded data removed]",
      "text/plain": [
       "<Figure size 432x288 with 1 Axes>"
      ]
     },
     "metadata": {
      "needs_background": "light"
     },
     "output_type": "display_data"
    }
   ],
   "source": [
    "sort = abs(model.coef_).argsort()\n",
    "sort = sort[-20:]\n",
    "plt.barh(X.columns[sort], model.coef_[sort])\n",
    "plt.xlabel(\"Feature Importance\")\n",
    "plt.show()"
   ]
  },
  {
   "cell_type": "markdown",
   "metadata": {
    "id": "pRPpCOPW5L_F"
   },
   "source": [
    "# Logistic regression"
   ]
  },
  {
   "cell_type": "code",
   "execution_count": 30,
   "metadata": {
    "colab": {
     "base_uri": "https://localhost:8080/",
     "height": 1000
    },
    "id": "roFmGIeg6ZVV",
    "outputId": "a93e7b8c-05cf-4939-9cfc-fd88a61ebe23"
   },
   "outputs": [],
   "source": [
    "clf = LogisticRegression().fit(X_train, y_train)\n",
    "y_log = clf.predict_proba(X_test)[:,1]"
   ]
  },
  {
   "cell_type": "code",
   "execution_count": 31,
   "metadata": {},
   "outputs": [
    {
     "data": {
      "image/png": "[encoded data removed]",
      "text/plain": [
       "<Figure size 432x288 with 1 Axes>"
      ]
     },
     "metadata": {
      "needs_background": "light"
     },
     "output_type": "display_data"
    },
    {
     "name": "stdout",
     "output_type": "stream",
     "text": [
      "\n",
      "TEST\n",
      "Best Threshold=0.489009, F-Score=0.576\n",
      "Confusion matrix \n",
      " [[247   8]\n",
      " [ 21  18]]\n",
      "\n",
      "Precision : 0.6923076923076923\n",
      "Recall : 0.46153846153846156\n",
      "F1 : 0.553846153846154\n",
      "\n",
      " Residuals distribution : \n",
      " count    294.000000\n",
      "mean      -0.018875\n",
      "std        0.300702\n",
      "min       -0.716322\n",
      "25%       -0.123113\n",
      "50%       -0.047872\n",
      "75%       -0.009622\n",
      "max        0.996411\n",
      "Name: y, dtype: float64\n"
     ]
    },
    {
     "data": {
      "text/plain": [
       "0.489009463805018"
      ]
     },
     "execution_count": 31,
     "metadata": {},
     "output_type": "execute_result"
    }
   ],
   "source": [
    "recall_precision(y_test,y_log,'Logistic regression')"
   ]
  },
  {
   "cell_type": "code",
   "execution_count": 32,
   "metadata": {},
   "outputs": [],
   "source": [
    "y_log2 = np.where(y_log <= 0.489009 , 0, 1)"
   ]
  },
  {
   "cell_type": "code",
   "execution_count": 49,
   "metadata": {
    "colab": {
     "base_uri": "https://localhost:8080/",
     "height": 289
    },
    "id": "AyBBRoddzTCe",
    "outputId": "1678b7a5-4afe-44df-c576-d97400a9f30a"
   },
   "outputs": [
    {
     "data": {
      "image/png": "[encoded data removed]",
      "text/plain": [
       "<Figure size 432x288 with 1 Axes>"
      ]
     },
     "metadata": {
      "needs_background": "light"
     },
     "output_type": "display_data"
    }
   ],
   "source": [
    "sort = abs(clf.coef_[0]).argsort()\n",
    "sort = sort[-20:]\n",
    "plt.barh(X.columns[sort], clf.coef_[0][sort])\n",
    "plt.xlabel(\"Feature Importance\")\n",
    "plt.show()"
   ]
  },
  {
   "cell_type": "markdown",
   "metadata": {},
   "source": [
    "# Ridge"
   ]
  },
  {
   "cell_type": "code",
   "execution_count": 36,
   "metadata": {},
   "outputs": [],
   "source": [
    "alphas = 10**np.linspace(5,0,1000)*0.5"
   ]
  },
  {
   "cell_type": "code",
   "execution_count": 69,
   "metadata": {},
   "outputs": [
    {
     "name": "stdout",
     "output_type": "stream",
     "text": [
      "The optimal alpha seems to be : 2.51\n"
     ]
    }
   ],
   "source": [
    "# Found the alpha\n",
    "ridgecv = RidgeCV(alphas = alphas,\n",
    "                  cv=10,\n",
    "                  scoring = 'neg_mean_squared_error')\n",
    "ridgecv.fit(X_train, y_train)\n",
    "print(\"The optimal alpha seems to be :\",round(ridgecv.alpha_,4))\n",
    "# Train the model\n",
    "Rclf = Ridge(alpha = ridgecv.alpha_)\n",
    "trained_Rclf = Rclf.fit(X_train,y_train)\n",
    "# Prediction\n",
    "y_ridge = trained_Rclf.predict(X_test)"
   ]
  },
  {
   "cell_type": "code",
   "execution_count": 71,
   "metadata": {},
   "outputs": [
    {
     "data": {
      "image/png": "[encoded data removed]",
      "text/plain": [
       "<Figure size 432x288 with 1 Axes>"
      ]
     },
     "metadata": {
      "needs_background": "light"
     },
     "output_type": "display_data"
    },
    {
     "name": "stdout",
     "output_type": "stream",
     "text": [
      "\n",
      "TEST\n",
      "Best Threshold=0.423961, F-Score=0.559\n",
      "Confusion matrix \n",
      " [[245  10]\n",
      " [ 21  18]]\n",
      "\n",
      "Precision : 0.6428571428571429\n",
      "Recall : 0.46153846153846156\n",
      "F1 : 0.537313432835821\n",
      "\n",
      " Residuals distribution : \n",
      " count    294.000000\n",
      "mean      -0.027253\n",
      "std        0.318429\n",
      "min       -0.535504\n",
      "25%       -0.208166\n",
      "50%       -0.108391\n",
      "75%        0.072875\n",
      "max        1.135069\n",
      "Name: y, dtype: float64\n"
     ]
    }
   ],
   "source": [
    "Tridge = recall_precision(y_test,y_ridge,'Ridge')"
   ]
  },
  {
   "cell_type": "code",
   "execution_count": 115,
   "metadata": {},
   "outputs": [],
   "source": [
    "y_ridge2 = np.where(y_ridge <= Tridge , 0, 1)"
   ]
  },
  {
   "cell_type": "code",
   "execution_count": 133,
   "metadata": {},
   "outputs": [
    {
     "name": "stdout",
     "output_type": "stream",
     "text": [
      "The automatic selection method Ridge selected 28 variables in a pool of 117.\n"
     ]
    }
   ],
   "source": [
    "print('The automatic selection method Ridge selected', sum(lasso.coef_ > 0.01), 'variables in a pool of 117.')"
   ]
  },
  {
   "cell_type": "code",
   "execution_count": 142,
   "metadata": {},
   "outputs": [
    {
     "data": {
      "image/png": "[encoded data removed]",
      "text/plain": [
       "<Figure size 432x288 with 1 Axes>"
      ]
     },
     "metadata": {},
     "output_type": "display_data"
    }
   ],
   "source": [
    "sort = abs(Rclf.coef_).argsort()\n",
    "sort = sort[-10:]\n",
    "plt.barh(X.columns[sort], Rclf.coef_[sort])\n",
    "plt.xlabel(\"Feature Importance\")\n",
    "plt.show()"
   ]
  },
  {
   "cell_type": "code",
   "execution_count": 144,
   "metadata": {},
   "outputs": [
    {
     "data": {
      "text/html": [
       "<div>\n",
       "<style scoped>\n",
       "    .dataframe tbody tr th:only-of-type {\n",
       "        vertical-align: middle;\n",
       "    }\n",
       "\n",
       "    .dataframe tbody tr th {\n",
       "        vertical-align: top;\n",
       "    }\n",
       "\n",
       "    .dataframe thead th {\n",
       "        text-align: right;\n",
       "    }\n",
       "</style>\n",
       "<table border=\"1\" class=\"dataframe\">\n",
       "  <thead>\n",
       "    <tr style=\"text-align: right;\">\n",
       "      <th></th>\n",
       "      <th>Variables</th>\n",
       "      <th>Coefficient</th>\n",
       "    </tr>\n",
       "  </thead>\n",
       "  <tbody>\n",
       "    <tr>\n",
       "      <th>0</th>\n",
       "      <td>education_cube</td>\n",
       "      <td>-0.112823</td>\n",
       "    </tr>\n",
       "    <tr>\n",
       "      <th>1</th>\n",
       "      <td>education</td>\n",
       "      <td>0.114802</td>\n",
       "    </tr>\n",
       "    <tr>\n",
       "      <th>2</th>\n",
       "      <td>trainingtimeslastyear</td>\n",
       "      <td>-0.117507</td>\n",
       "    </tr>\n",
       "    <tr>\n",
       "      <th>3</th>\n",
       "      <td>monthlyincome_squared</td>\n",
       "      <td>0.117903</td>\n",
       "    </tr>\n",
       "    <tr>\n",
       "      <th>4</th>\n",
       "      <td>distancefromhome</td>\n",
       "      <td>0.119678</td>\n",
       "    </tr>\n",
       "    <tr>\n",
       "      <th>5</th>\n",
       "      <td>stockoptionlevel_totalworkingyears</td>\n",
       "      <td>0.120827</td>\n",
       "    </tr>\n",
       "    <tr>\n",
       "      <th>6</th>\n",
       "      <td>totalworkingyears_cube</td>\n",
       "      <td>0.122180</td>\n",
       "    </tr>\n",
       "    <tr>\n",
       "      <th>7</th>\n",
       "      <td>yearswithcurrmanager_cube</td>\n",
       "      <td>-0.131665</td>\n",
       "    </tr>\n",
       "    <tr>\n",
       "      <th>8</th>\n",
       "      <td>environmentsatisfaction_cube</td>\n",
       "      <td>0.132418</td>\n",
       "    </tr>\n",
       "    <tr>\n",
       "      <th>9</th>\n",
       "      <td>jobrole_research_director</td>\n",
       "      <td>-0.134179</td>\n",
       "    </tr>\n",
       "    <tr>\n",
       "      <th>10</th>\n",
       "      <td>yearsatcompany_squared</td>\n",
       "      <td>0.135181</td>\n",
       "    </tr>\n",
       "    <tr>\n",
       "      <th>11</th>\n",
       "      <td>stockoptionlevel_cube</td>\n",
       "      <td>0.142022</td>\n",
       "    </tr>\n",
       "    <tr>\n",
       "      <th>12</th>\n",
       "      <td>jobsatisfaction</td>\n",
       "      <td>-0.147952</td>\n",
       "    </tr>\n",
       "    <tr>\n",
       "      <th>13</th>\n",
       "      <td>yearsatcompany_cube</td>\n",
       "      <td>0.154921</td>\n",
       "    </tr>\n",
       "    <tr>\n",
       "      <th>14</th>\n",
       "      <td>jobrole_sales_representative</td>\n",
       "      <td>0.157615</td>\n",
       "    </tr>\n",
       "    <tr>\n",
       "      <th>15</th>\n",
       "      <td>numcompaniesworked</td>\n",
       "      <td>0.162944</td>\n",
       "    </tr>\n",
       "    <tr>\n",
       "      <th>16</th>\n",
       "      <td>joblevel</td>\n",
       "      <td>-0.171137</td>\n",
       "    </tr>\n",
       "    <tr>\n",
       "      <th>17</th>\n",
       "      <td>jobinvolvement</td>\n",
       "      <td>-0.176113</td>\n",
       "    </tr>\n",
       "    <tr>\n",
       "      <th>18</th>\n",
       "      <td>yearsatcompany_yearsincurrentrole</td>\n",
       "      <td>0.181206</td>\n",
       "    </tr>\n",
       "    <tr>\n",
       "      <th>19</th>\n",
       "      <td>age_cube</td>\n",
       "      <td>0.195085</td>\n",
       "    </tr>\n",
       "    <tr>\n",
       "      <th>20</th>\n",
       "      <td>worklifebalance_cube</td>\n",
       "      <td>0.196617</td>\n",
       "    </tr>\n",
       "    <tr>\n",
       "      <th>21</th>\n",
       "      <td>overtime</td>\n",
       "      <td>0.233113</td>\n",
       "    </tr>\n",
       "    <tr>\n",
       "      <th>22</th>\n",
       "      <td>worklifebalance</td>\n",
       "      <td>-0.238431</td>\n",
       "    </tr>\n",
       "    <tr>\n",
       "      <th>23</th>\n",
       "      <td>age</td>\n",
       "      <td>-0.256816</td>\n",
       "    </tr>\n",
       "    <tr>\n",
       "      <th>24</th>\n",
       "      <td>stockoptionlevel</td>\n",
       "      <td>-0.263477</td>\n",
       "    </tr>\n",
       "    <tr>\n",
       "      <th>25</th>\n",
       "      <td>environmentsatisfaction</td>\n",
       "      <td>-0.268094</td>\n",
       "    </tr>\n",
       "    <tr>\n",
       "      <th>26</th>\n",
       "      <td>yearsincurrentrole</td>\n",
       "      <td>-0.275160</td>\n",
       "    </tr>\n",
       "    <tr>\n",
       "      <th>27</th>\n",
       "      <td>totalworkingyears</td>\n",
       "      <td>-0.289417</td>\n",
       "    </tr>\n",
       "  </tbody>\n",
       "</table>\n",
       "</div>"
      ],
      "text/plain": [
       "                             Variables  Coefficient\n",
       "0                       education_cube    -0.112823\n",
       "1                            education     0.114802\n",
       "2                trainingtimeslastyear    -0.117507\n",
       "3                monthlyincome_squared     0.117903\n",
       "4                     distancefromhome     0.119678\n",
       "5   stockoptionlevel_totalworkingyears     0.120827\n",
       "6               totalworkingyears_cube     0.122180\n",
       "7            yearswithcurrmanager_cube    -0.131665\n",
       "8         environmentsatisfaction_cube     0.132418\n",
       "9            jobrole_research_director    -0.134179\n",
       "10              yearsatcompany_squared     0.135181\n",
       "11               stockoptionlevel_cube     0.142022\n",
       "12                     jobsatisfaction    -0.147952\n",
       "13                 yearsatcompany_cube     0.154921\n",
       "14        jobrole_sales_representative     0.157615\n",
       "15                  numcompaniesworked     0.162944\n",
       "16                            joblevel    -0.171137\n",
       "17                      jobinvolvement    -0.176113\n",
       "18   yearsatcompany_yearsincurrentrole     0.181206\n",
       "19                            age_cube     0.195085\n",
       "20                worklifebalance_cube     0.196617\n",
       "21                            overtime     0.233113\n",
       "22                     worklifebalance    -0.238431\n",
       "23                                 age    -0.256816\n",
       "24                    stockoptionlevel    -0.263477\n",
       "25             environmentsatisfaction    -0.268094\n",
       "26                  yearsincurrentrole    -0.275160\n",
       "27                   totalworkingyears    -0.289417"
      ]
     },
     "execution_count": 144,
     "metadata": {},
     "output_type": "execute_result"
    }
   ],
   "source": [
    "sort_ = abs(Rclf.coef_).argsort()\n",
    "sort_ = sort_[-28:]\n",
    "selection = pd.DataFrame({\n",
    "    'Variables' : X.columns[sort_],\n",
    "    'Coefficient' : Rclf.coef_[sort_]\n",
    "})\n",
    "\n",
    "selection"
   ]
  },
  {
   "cell_type": "code",
   "execution_count": 82,
   "metadata": {},
   "outputs": [
    {
     "name": "stderr",
     "output_type": "stream",
     "text": [
      "C:\\Users\\Bruguet\\anaconda3\\lib\\site-packages\\sklearn\\linear_model\\_coordinate_descent.py:633: ConvergenceWarning: Objective did not converge. You might want to increase the number of iterations. Duality gap: 0.015496947839736208, tolerance: 0.014805293005671075\n",
      "  model = cd_fast.enet_coordinate_descent_gram(\n",
      "C:\\Users\\Bruguet\\anaconda3\\lib\\site-packages\\sklearn\\linear_model\\_coordinate_descent.py:633: ConvergenceWarning: Objective did not converge. You might want to increase the number of iterations. Duality gap: 0.01495804086505359, tolerance: 0.014805293005671075\n",
      "  model = cd_fast.enet_coordinate_descent_gram(\n",
      "C:\\Users\\Bruguet\\anaconda3\\lib\\site-packages\\sklearn\\linear_model\\_coordinate_descent.py:633: ConvergenceWarning: Objective did not converge. You might want to increase the number of iterations. Duality gap: 0.015276478569091978, tolerance: 0.014805293005671075\n",
      "  model = cd_fast.enet_coordinate_descent_gram(\n",
      "C:\\Users\\Bruguet\\anaconda3\\lib\\site-packages\\sklearn\\linear_model\\_coordinate_descent.py:633: ConvergenceWarning: Objective did not converge. You might want to increase the number of iterations. Duality gap: 0.01605187173790057, tolerance: 0.014805293005671075\n",
      "  model = cd_fast.enet_coordinate_descent_gram(\n",
      "C:\\Users\\Bruguet\\anaconda3\\lib\\site-packages\\sklearn\\linear_model\\_coordinate_descent.py:633: ConvergenceWarning: Objective did not converge. You might want to increase the number of iterations. Duality gap: 0.014547066034268141, tolerance: 0.014336200378071838\n",
      "  model = cd_fast.enet_coordinate_descent_gram(\n",
      "C:\\Users\\Bruguet\\anaconda3\\lib\\site-packages\\sklearn\\linear_model\\_coordinate_descent.py:633: ConvergenceWarning: Objective did not converge. You might want to increase the number of iterations. Duality gap: 0.015580005832887878, tolerance: 0.01526817752596789\n",
      "  model = cd_fast.enet_coordinate_descent_gram(\n",
      "C:\\Users\\Bruguet\\anaconda3\\lib\\site-packages\\sklearn\\linear_model\\_coordinate_descent.py:633: ConvergenceWarning: Objective did not converge. You might want to increase the number of iterations. Duality gap: 0.016417490553564562, tolerance: 0.014541076487252128\n",
      "  model = cd_fast.enet_coordinate_descent_gram(\n",
      "C:\\Users\\Bruguet\\anaconda3\\lib\\site-packages\\sklearn\\linear_model\\_coordinate_descent.py:633: ConvergenceWarning: Objective did not converge. You might want to increase the number of iterations. Duality gap: 0.016654576619629324, tolerance: 0.014541076487252128\n",
      "  model = cd_fast.enet_coordinate_descent_gram(\n",
      "C:\\Users\\Bruguet\\anaconda3\\lib\\site-packages\\sklearn\\linear_model\\_coordinate_descent.py:633: ConvergenceWarning: Objective did not converge. You might want to increase the number of iterations. Duality gap: 0.016609061430074235, tolerance: 0.014541076487252128\n",
      "  model = cd_fast.enet_coordinate_descent_gram(\n",
      "C:\\Users\\Bruguet\\anaconda3\\lib\\site-packages\\sklearn\\linear_model\\_coordinate_descent.py:633: ConvergenceWarning: Objective did not converge. You might want to increase the number of iterations. Duality gap: 0.01666039935109609, tolerance: 0.014541076487252128\n",
      "  model = cd_fast.enet_coordinate_descent_gram(\n",
      "C:\\Users\\Bruguet\\anaconda3\\lib\\site-packages\\sklearn\\linear_model\\_coordinate_descent.py:633: ConvergenceWarning: Objective did not converge. You might want to increase the number of iterations. Duality gap: 0.016074076077273958, tolerance: 0.014541076487252128\n",
      "  model = cd_fast.enet_coordinate_descent_gram(\n",
      "C:\\Users\\Bruguet\\anaconda3\\lib\\site-packages\\sklearn\\linear_model\\_coordinate_descent.py:633: ConvergenceWarning: Objective did not converge. You might want to increase the number of iterations. Duality gap: 0.015995551730782154, tolerance: 0.014541076487252128\n",
      "  model = cd_fast.enet_coordinate_descent_gram(\n"
     ]
    },
    {
     "name": "stdout",
     "output_type": "stream",
     "text": [
      "The optimal alpha seems to be :  0.0004\n"
     ]
    }
   ],
   "source": [
    "#lassocv = LassoCV(alphas = alphas,cv= 10)\n",
    "lassocv = LassoCV(alphas = None,\n",
    "                  cv = 10, \n",
    "                  random_state = 0,\n",
    "                  max_iter = 10000)\n",
    "lassocv.fit(X_train, y_train)\n",
    "# Optimal alpha\n",
    "print(\"The optimal alpha seems to be : \", round(lassocv.alpha_,4))"
   ]
  },
  {
   "cell_type": "code",
   "execution_count": 83,
   "metadata": {},
   "outputs": [],
   "source": [
    "lasso = Lasso(max_iter = 100000)\n",
    "# Train the model\n",
    "lasso.set_params(alpha=lassocv.alpha_)\n",
    "lasso.fit(X_train, y_train)\n",
    "# Prediction\n",
    "y_lasso = lasso.predict(X_test)"
   ]
  },
  {
   "cell_type": "code",
   "execution_count": 84,
   "metadata": {},
   "outputs": [
    {
     "data": {
      "image/png": "[encoded data removed]",
      "text/plain": [
       "<Figure size 432x288 with 1 Axes>"
      ]
     },
     "metadata": {
      "needs_background": "light"
     },
     "output_type": "display_data"
    },
    {
     "name": "stdout",
     "output_type": "stream",
     "text": [
      "\n",
      "TEST\n",
      "Best Threshold=0.418116, F-Score=0.529\n",
      "Confusion matrix \n",
      " [[244  11]\n",
      " [ 22  17]]\n",
      "\n",
      "Precision : 0.6071428571428571\n",
      "Recall : 0.4358974358974359\n",
      "F1 : 0.5074626865671643\n",
      "\n",
      " Residuals distribution : \n",
      " count    294.000000\n",
      "mean      -0.025579\n",
      "std        0.317355\n",
      "min       -0.544476\n",
      "25%       -0.204239\n",
      "50%       -0.104943\n",
      "75%        0.067858\n",
      "max        1.135510\n",
      "Name: y, dtype: float64\n"
     ]
    }
   ],
   "source": [
    "Tlasso = recall_precision(y_test,y_lasso,'Lasso')"
   ]
  },
  {
   "cell_type": "code",
   "execution_count": 116,
   "metadata": {},
   "outputs": [],
   "source": [
    "y_lasso2 = np.where(y_lasso <= Tlasso , 0, 1)"
   ]
  },
  {
   "cell_type": "code",
   "execution_count": 135,
   "metadata": {},
   "outputs": [
    {
     "name": "stdout",
     "output_type": "stream",
     "text": [
      "The automatic selection method lasso selected 28 variables in a pool of 117.\n"
     ]
    }
   ],
   "source": [
    "print('The automatic selection method lasso selected', sum(lasso.coef_ > 0.01), 'variables in a pool of 117.')"
   ]
  },
  {
   "cell_type": "code",
   "execution_count": 137,
   "metadata": {},
   "outputs": [
    {
     "data": {
      "image/png": "[encoded data removed]",
      "text/plain": [
       "<Figure size 432x288 with 1 Axes>"
      ]
     },
     "metadata": {},
     "output_type": "display_data"
    }
   ],
   "source": [
    "sort = abs(lasso.coef_).argsort()\n",
    "sort = sort[-10:]\n",
    "plt.barh(X.columns[sort], lasso.coef_[sort])\n",
    "plt.xlabel(\"Feature Importance\")\n",
    "plt.show()"
   ]
  },
  {
   "cell_type": "code",
   "execution_count": 141,
   "metadata": {},
   "outputs": [
    {
     "data": {
      "text/html": [
       "<div>\n",
       "<style scoped>\n",
       "    .dataframe tbody tr th:only-of-type {\n",
       "        vertical-align: middle;\n",
       "    }\n",
       "\n",
       "    .dataframe tbody tr th {\n",
       "        vertical-align: top;\n",
       "    }\n",
       "\n",
       "    .dataframe thead th {\n",
       "        text-align: right;\n",
       "    }\n",
       "</style>\n",
       "<table border=\"1\" class=\"dataframe\">\n",
       "  <thead>\n",
       "    <tr style=\"text-align: right;\">\n",
       "      <th></th>\n",
       "      <th>Variables</th>\n",
       "      <th>Coefficient</th>\n",
       "    </tr>\n",
       "  </thead>\n",
       "  <tbody>\n",
       "    <tr>\n",
       "      <th>0</th>\n",
       "      <td>educationfield_technical_degree</td>\n",
       "      <td>0.081015</td>\n",
       "    </tr>\n",
       "    <tr>\n",
       "      <th>1</th>\n",
       "      <td>jobrole_research_director</td>\n",
       "      <td>-0.083358</td>\n",
       "    </tr>\n",
       "    <tr>\n",
       "      <th>2</th>\n",
       "      <td>joblevel_jobsatisfaction</td>\n",
       "      <td>0.083503</td>\n",
       "    </tr>\n",
       "    <tr>\n",
       "      <th>3</th>\n",
       "      <td>education</td>\n",
       "      <td>0.083754</td>\n",
       "    </tr>\n",
       "    <tr>\n",
       "      <th>4</th>\n",
       "      <td>businesstravel_travel_frequently</td>\n",
       "      <td>0.092671</td>\n",
       "    </tr>\n",
       "    <tr>\n",
       "      <th>5</th>\n",
       "      <td>jobrole_laboratory_technician</td>\n",
       "      <td>0.096108</td>\n",
       "    </tr>\n",
       "    <tr>\n",
       "      <th>6</th>\n",
       "      <td>stockoptionlevel_totalworkingyears</td>\n",
       "      <td>0.104071</td>\n",
       "    </tr>\n",
       "    <tr>\n",
       "      <th>7</th>\n",
       "      <td>distancefromhome</td>\n",
       "      <td>0.106595</td>\n",
       "    </tr>\n",
       "    <tr>\n",
       "      <th>8</th>\n",
       "      <td>environmentsatisfaction_cube</td>\n",
       "      <td>0.121750</td>\n",
       "    </tr>\n",
       "    <tr>\n",
       "      <th>9</th>\n",
       "      <td>joblevel_cube</td>\n",
       "      <td>0.131902</td>\n",
       "    </tr>\n",
       "    <tr>\n",
       "      <th>10</th>\n",
       "      <td>jobsatisfaction</td>\n",
       "      <td>-0.133786</td>\n",
       "    </tr>\n",
       "    <tr>\n",
       "      <th>11</th>\n",
       "      <td>yearssincelastpromotion</td>\n",
       "      <td>0.148575</td>\n",
       "    </tr>\n",
       "    <tr>\n",
       "      <th>12</th>\n",
       "      <td>joblevel</td>\n",
       "      <td>-0.149598</td>\n",
       "    </tr>\n",
       "    <tr>\n",
       "      <th>13</th>\n",
       "      <td>jobinvolvement</td>\n",
       "      <td>-0.167079</td>\n",
       "    </tr>\n",
       "    <tr>\n",
       "      <th>14</th>\n",
       "      <td>totalworkingyears_cube</td>\n",
       "      <td>0.180519</td>\n",
       "    </tr>\n",
       "    <tr>\n",
       "      <th>15</th>\n",
       "      <td>numcompaniesworked</td>\n",
       "      <td>0.183703</td>\n",
       "    </tr>\n",
       "    <tr>\n",
       "      <th>16</th>\n",
       "      <td>jobrole_sales_representative</td>\n",
       "      <td>0.187891</td>\n",
       "    </tr>\n",
       "    <tr>\n",
       "      <th>17</th>\n",
       "      <td>worklifebalance_cube</td>\n",
       "      <td>0.195708</td>\n",
       "    </tr>\n",
       "    <tr>\n",
       "      <th>18</th>\n",
       "      <td>stockoptionlevel_cube</td>\n",
       "      <td>0.196944</td>\n",
       "    </tr>\n",
       "    <tr>\n",
       "      <th>19</th>\n",
       "      <td>overtime</td>\n",
       "      <td>0.232411</td>\n",
       "    </tr>\n",
       "    <tr>\n",
       "      <th>20</th>\n",
       "      <td>environmentsatisfaction</td>\n",
       "      <td>-0.239606</td>\n",
       "    </tr>\n",
       "    <tr>\n",
       "      <th>21</th>\n",
       "      <td>stockoptionlevel</td>\n",
       "      <td>-0.248308</td>\n",
       "    </tr>\n",
       "    <tr>\n",
       "      <th>22</th>\n",
       "      <td>age_cube</td>\n",
       "      <td>0.266610</td>\n",
       "    </tr>\n",
       "    <tr>\n",
       "      <th>23</th>\n",
       "      <td>worklifebalance</td>\n",
       "      <td>-0.289403</td>\n",
       "    </tr>\n",
       "    <tr>\n",
       "      <th>24</th>\n",
       "      <td>totalworkingyears</td>\n",
       "      <td>-0.328713</td>\n",
       "    </tr>\n",
       "    <tr>\n",
       "      <th>25</th>\n",
       "      <td>age</td>\n",
       "      <td>-0.358545</td>\n",
       "    </tr>\n",
       "    <tr>\n",
       "      <th>26</th>\n",
       "      <td>yearsincurrentrole</td>\n",
       "      <td>-0.361018</td>\n",
       "    </tr>\n",
       "    <tr>\n",
       "      <th>27</th>\n",
       "      <td>yearsatcompany_yearsincurrentrole</td>\n",
       "      <td>0.572857</td>\n",
       "    </tr>\n",
       "  </tbody>\n",
       "</table>\n",
       "</div>"
      ],
      "text/plain": [
       "                             Variables  Coefficient\n",
       "0      educationfield_technical_degree     0.081015\n",
       "1            jobrole_research_director    -0.083358\n",
       "2             joblevel_jobsatisfaction     0.083503\n",
       "3                            education     0.083754\n",
       "4     businesstravel_travel_frequently     0.092671\n",
       "5        jobrole_laboratory_technician     0.096108\n",
       "6   stockoptionlevel_totalworkingyears     0.104071\n",
       "7                     distancefromhome     0.106595\n",
       "8         environmentsatisfaction_cube     0.121750\n",
       "9                        joblevel_cube     0.131902\n",
       "10                     jobsatisfaction    -0.133786\n",
       "11             yearssincelastpromotion     0.148575\n",
       "12                            joblevel    -0.149598\n",
       "13                      jobinvolvement    -0.167079\n",
       "14              totalworkingyears_cube     0.180519\n",
       "15                  numcompaniesworked     0.183703\n",
       "16        jobrole_sales_representative     0.187891\n",
       "17                worklifebalance_cube     0.195708\n",
       "18               stockoptionlevel_cube     0.196944\n",
       "19                            overtime     0.232411\n",
       "20             environmentsatisfaction    -0.239606\n",
       "21                    stockoptionlevel    -0.248308\n",
       "22                            age_cube     0.266610\n",
       "23                     worklifebalance    -0.289403\n",
       "24                   totalworkingyears    -0.328713\n",
       "25                                 age    -0.358545\n",
       "26                  yearsincurrentrole    -0.361018\n",
       "27   yearsatcompany_yearsincurrentrole     0.572857"
      ]
     },
     "execution_count": 141,
     "metadata": {},
     "output_type": "execute_result"
    }
   ],
   "source": [
    "sort_ = abs(lasso.coef_).argsort()\n",
    "sort_ = sort_[-28:]\n",
    "selection = pd.DataFrame({\n",
    "    'Variables' : X.columns[sort_],\n",
    "    'Coefficient' : lasso.coef_[sort_]\n",
    "})\n",
    "\n",
    "selection"
   ]
  },
  {
   "cell_type": "markdown",
   "metadata": {
    "id": "RXRaIR-FPE-T"
   },
   "source": [
    "# Model comparaisons"
   ]
  },
  {
   "cell_type": "markdown",
   "metadata": {},
   "source": [
    "## Residuals analysis"
   ]
  },
  {
   "cell_type": "code",
   "execution_count": 97,
   "metadata": {},
   "outputs": [
    {
     "name": "stderr",
     "output_type": "stream",
     "text": [
      "C:\\Users\\Bruguet\\anaconda3\\lib\\site-packages\\seaborn\\distributions.py:2619: FutureWarning: `distplot` is a deprecated function and will be removed in a future version. Please adapt your code to use either `displot` (a figure-level function with similar flexibility) or `kdeplot` (an axes-level function for kernel density plots).\n",
      "  warnings.warn(msg, FutureWarning)\n",
      "C:\\Users\\Bruguet\\anaconda3\\lib\\site-packages\\seaborn\\distributions.py:2619: FutureWarning: `distplot` is a deprecated function and will be removed in a future version. Please adapt your code to use either `displot` (a figure-level function with similar flexibility) or `kdeplot` (an axes-level function for kernel density plots).\n",
      "  warnings.warn(msg, FutureWarning)\n",
      "C:\\Users\\Bruguet\\anaconda3\\lib\\site-packages\\seaborn\\distributions.py:2619: FutureWarning: `distplot` is a deprecated function and will be removed in a future version. Please adapt your code to use either `displot` (a figure-level function with similar flexibility) or `kdeplot` (an axes-level function for kernel density plots).\n",
      "  warnings.warn(msg, FutureWarning)\n"
     ]
    },
    {
     "data": {
      "text/plain": [
       "Text(0.5, 1.0, 'Residuals distribution')"
      ]
     },
     "execution_count": 97,
     "metadata": {},
     "output_type": "execute_result"
    },
    {
     "data": {
      "image/png": "[encoded data removed]",
      "text/plain": [
       "<Figure size 432x288 with 1 Axes>"
      ]
     },
     "metadata": {},
     "output_type": "display_data"
    }
   ],
   "source": [
    "sns.set(style=\"ticks\", color_codes=True)\n",
    "sns.distplot((y_test-y_ols), hist=False, kde=True, kde_kws = {'shade': False, 'linewidth' : 1},\n",
    "             bins=50, color = 'orange',\n",
    "             hist_kws={'edgecolor':'black'})\n",
    "sns.distplot((y_test-y_ridge), hist=False, kde=True, kde_kws = {'shade': False, 'linewidth' : 1},\n",
    "             bins=50, color = 'blue',\n",
    "             hist_kws={'edgecolor':'black'})\n",
    "sns.distplot((y_test-y_lasso), hist=False, kde=True, kde_kws = {'shade': False, 'linewidth' : 1},\n",
    "             bins=50, color = 'green',\n",
    "             hist_kws={'edgecolor':'black'})\n",
    "plt.xlabel('Residuals')\n",
    "plt.ylabel('Density')\n",
    "plt.legend(labels=[\"OLS\",\"Ridge\", \"Lasso\"])\n",
    "plt.title('Residuals distribution')"
   ]
  },
  {
   "cell_type": "markdown",
   "metadata": {
    "id": "f9G_cYaJcImR"
   },
   "source": [
    "### Using PrecisionRecallDisplay.**from_estimators**"
   ]
  },
  {
   "cell_type": "code",
   "execution_count": 98,
   "metadata": {
    "colab": {
     "base_uri": "https://localhost:8080/",
     "height": 893
    },
    "id": "mY7pQDrxb8x_",
    "outputId": "c484c680-acc0-4172-a2dd-4de742e3eb8b"
   },
   "outputs": [],
   "source": [
    "def recall (y_test,y_pred,model) :\n",
    "    \n",
    "    precision, recall, thresholds = precision_recall_curve(y_test,y_pred)\n",
    "    # convert to f score\n",
    "    fscore = (2 * precision * recall) / (precision + recall)\n",
    "    # locate the index of the largest f score\n",
    "    ix = np.argmax(fscore)\n",
    "    # plot the roc curve for the model\n",
    "    recall_plot = plt.plot(recall, precision, marker='.', label=model)\n",
    "    plt.xlabel('Recall')\n",
    "    plt.ylabel('Precision')\n",
    "    plt.legend(bbox_to_anchor=(0.5, -0.4), loc='center', ncol=1)\n",
    "    # show the plot\n",
    "    return(recall_plot)"
   ]
  },
  {
   "cell_type": "code",
   "execution_count": 99,
   "metadata": {},
   "outputs": [
    {
     "data": {
      "image/png": "[encoded data removed]",
      "text/plain": [
       "<Figure size 432x288 with 1 Axes>"
      ]
     },
     "metadata": {},
     "output_type": "display_data"
    }
   ],
   "source": [
    "recall_ols = recall(y_test,y_ols, 'Ordinary least square')\n",
    "recall_rige = recall(y_test,y_log, 'Ridge')\n",
    "recall_lasso = recall(y_test,y_ridge,'Lasso')"
   ]
  },
  {
   "cell_type": "code",
   "execution_count": 123,
   "metadata": {},
   "outputs": [
    {
     "data": {
      "text/html": [
       "<div>\n",
       "<style scoped>\n",
       "    .dataframe tbody tr th:only-of-type {\n",
       "        vertical-align: middle;\n",
       "    }\n",
       "\n",
       "    .dataframe tbody tr th {\n",
       "        vertical-align: top;\n",
       "    }\n",
       "\n",
       "    .dataframe thead th {\n",
       "        text-align: right;\n",
       "    }\n",
       "</style>\n",
       "<table border=\"1\" class=\"dataframe\">\n",
       "  <thead>\n",
       "    <tr style=\"text-align: right;\">\n",
       "      <th></th>\n",
       "      <th>Algorithm</th>\n",
       "      <th>f1</th>\n",
       "      <th>acc</th>\n",
       "    </tr>\n",
       "  </thead>\n",
       "  <tbody>\n",
       "    <tr>\n",
       "      <th>1</th>\n",
       "      <td>Ridge</td>\n",
       "      <td>0.537313</td>\n",
       "      <td>0.894558</td>\n",
       "    </tr>\n",
       "    <tr>\n",
       "      <th>2</th>\n",
       "      <td>Lasso</td>\n",
       "      <td>0.507463</td>\n",
       "      <td>0.887755</td>\n",
       "    </tr>\n",
       "    <tr>\n",
       "      <th>0</th>\n",
       "      <td>OLS</td>\n",
       "      <td>0.500000</td>\n",
       "      <td>0.857143</td>\n",
       "    </tr>\n",
       "  </tbody>\n",
       "</table>\n",
       "</div>"
      ],
      "text/plain": [
       "  Algorithm        f1       acc\n",
       "1     Ridge  0.537313  0.894558\n",
       "2     Lasso  0.507463  0.887755\n",
       "0       OLS  0.500000  0.857143"
      ]
     },
     "execution_count": 123,
     "metadata": {},
     "output_type": "execute_result"
    }
   ],
   "source": [
    " f_score = pd.DataFrame({\n",
    "    'Algorithm' : ['OLS','Ridge','Lasso'],\n",
    "    'y_pred' : [y_ols2,y_ridge2,y_lasso2]\n",
    "})\n",
    "f1_list = []\n",
    "for index, row in f_score.iterrows():\n",
    "    f1 = f1_score(y_test, row['y_pred'], average='binary')\n",
    "    f1_list.append(f1)\n",
    "acc_list = []\n",
    "for index, row in f_score.iterrows():\n",
    "    acc = accuracy_score(y_test, row['y_pred'])\n",
    "    acc_list.append(acc)\n",
    "    \n",
    "f_score['f1']=f1_list\n",
    "f_score['acc']=acc_list\n",
    "f_score = f_score.drop(['y_pred'], axis=1)\n",
    "f_score.sort_values(by=['f1'],ascending=False)"
   ]
  }
 ],
 "metadata": {
  "colab": {
   "collapsed_sections": [],
   "name": "code Marie.ipynb",
   "provenance": []
  },
  "kernelspec": {
   "display_name": "Python 3 (ipykernel)",
   "language": "python",
   "name": "python3"
  },
  "language_info": {
   "codemirror_mode": {
    "name": "ipython",
    "version": 3
   },
   "file_extension": ".py",
   "mimetype": "text/x-python",
   "name": "python",
   "nbconvert_exporter": "python",
   "pygments_lexer": "ipython3",
   "version": "3.8.12"
  }
 },
 "nbformat": 4,
 "nbformat_minor": 4
}
