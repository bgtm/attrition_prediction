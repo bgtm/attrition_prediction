{
 "cells": [
  {
   "cell_type": "markdown",
   "metadata": {
    "id": "aQgiCvGgzMtJ"
   },
   "source": [
    "# Imports"
   ]
  },
  {
   "cell_type": "code",
   "execution_count": 1,
   "metadata": {
    "colab": {
     "base_uri": "https://localhost:8080/"
    },
    "id": "u_3m-yjpBEZV",
    "outputId": "eaa139dc-f0b0-412e-e3fd-23d0829d4397"
   },
   "outputs": [
    {
     "name": "stdout",
     "output_type": "stream",
     "text": [
      "Requirement already satisfied: sklearn in c:\\users\\bruguet\\anaconda3\\lib\\site-packages (0.0)\n",
      "Requirement already satisfied: scikit-learn in c:\\users\\bruguet\\anaconda3\\lib\\site-packages (from sklearn) (1.0.2)\n",
      "Requirement already satisfied: threadpoolctl>=2.0.0 in c:\\users\\bruguet\\anaconda3\\lib\\site-packages (from scikit-learn->sklearn) (2.2.0)\n",
      "Requirement already satisfied: scipy>=1.1.0 in c:\\users\\bruguet\\anaconda3\\lib\\site-packages (from scikit-learn->sklearn) (1.7.3)\n",
      "Requirement already satisfied: numpy>=1.14.6 in c:\\users\\bruguet\\anaconda3\\lib\\site-packages (from scikit-learn->sklearn) (1.20.3)\n",
      "Requirement already satisfied: joblib>=0.11 in c:\\users\\bruguet\\anaconda3\\lib\\site-packages (from scikit-learn->sklearn) (1.1.0)\n"
     ]
    }
   ],
   "source": [
    "!pip install sklearn --upgrade"
   ]
  },
  {
   "cell_type": "code",
   "execution_count": 1,
   "metadata": {},
   "outputs": [
    {
     "name": "stderr",
     "output_type": "stream",
     "text": [
      "C:\\Users\\Bruguet\\anaconda3\\lib\\site-packages\\xgboost\\compat.py:36: FutureWarning: pandas.Int64Index is deprecated and will be removed from pandas in a future version. Use pandas.Index with the appropriate dtype instead.\n",
      "  from pandas import MultiIndex, Int64Index\n"
     ]
    }
   ],
   "source": [
    "import pandas as pd\n",
    "import seaborn as sns\n",
    "import matplotlib.pyplot as plt\n",
    "import numpy as np\n",
    "import os \n",
    "\n",
    "from sklearn.linear_model import LinearRegression,LogisticRegression\n",
    "from sklearn.model_selection import train_test_split\n",
    "from sklearn.preprocessing import MinMaxScaler\n",
    "from sklearn.svm import SVC\n",
    "\n",
    "from xgboost import XGBClassifier"
   ]
  },
  {
   "cell_type": "markdown",
   "metadata": {
    "id": "F7g_eir1zMtQ"
   },
   "source": [
    "# Loading data"
   ]
  },
  {
   "cell_type": "code",
   "execution_count": 32,
   "metadata": {},
   "outputs": [],
   "source": [
    "employee= pd.read_csv('C:/py/data/attrition/employee_process.csv')"
   ]
  },
  {
   "cell_type": "code",
   "execution_count": 33,
   "metadata": {},
   "outputs": [],
   "source": [
    "y=employee['y']\n",
    "X=employee.drop(columns=['y'])"
   ]
  },
  {
   "cell_type": "markdown",
   "metadata": {},
   "source": [
    "### Split into train and test subsample"
   ]
  },
  {
   "cell_type": "code",
   "execution_count": 34,
   "metadata": {},
   "outputs": [],
   "source": [
    "X_train, X_test, y_train, y_test = train_test_split(X, y, test_size=0.20, random_state=42)"
   ]
  },
  {
   "cell_type": "code",
   "execution_count": 35,
   "metadata": {},
   "outputs": [
    {
     "name": "stdout",
     "output_type": "stream",
     "text": [
      "(1176, 49)\n",
      "(1176,)\n",
      "(294, 49)\n",
      "(294,)\n"
     ]
    }
   ],
   "source": [
    "print(X_train.shape)\n",
    "print(y_train.shape)\n",
    "print(X_test.shape)\n",
    "print(y_test.shape)"
   ]
  },
  {
   "cell_type": "code",
   "execution_count": 40,
   "metadata": {},
   "outputs": [],
   "source": [
    "scaler = MinMaxScaler()\n",
    "X_train = scaler.fit_transform(X_train)\n",
    "X_test = scaler.transform(X_test)"
   ]
  },
  {
   "cell_type": "code",
   "execution_count": 41,
   "metadata": {},
   "outputs": [],
   "source": [
    "X_train = pd.DataFrame(X_train, columns=X.columns)\n",
    "X_test = pd.DataFrame(X_test, columns=X.columns)"
   ]
  },
  {
   "cell_type": "markdown",
   "metadata": {
    "id": "E5hssF11L_q1"
   },
   "source": [
    "# Defition of the metrics function "
   ]
  },
  {
   "cell_type": "code",
   "execution_count": 36,
   "metadata": {},
   "outputs": [],
   "source": [
    "from sklearn.metrics import confusion_matrix\n",
    "from sklearn.metrics import recall_score\n",
    "from sklearn.metrics import precision_score\n",
    "from sklearn.metrics import f1_score,accuracy_score\n",
    "from sklearn.metrics import precision_recall_curve, PrecisionRecallDisplay"
   ]
  },
  {
   "cell_type": "code",
   "execution_count": 37,
   "metadata": {
    "id": "JbIhkwOOJT7x"
   },
   "outputs": [],
   "source": [
    "def recall_precision(y_test,y_pred,model):\n",
    "    precision, recall, thresholds = precision_recall_curve(y_test,y_pred)\n",
    "    # convert to f score\n",
    "    fscore = (2 * precision * recall) / (precision + recall)\n",
    "    fscore[np.isnan(fscore)] = 0\n",
    "    #print(fscore)\n",
    "    # locate the index of the largest f score\n",
    "    ix = np.argmax(fscore)\n",
    "    optimal_threshold = thresholds[ix]\n",
    "\n",
    "    # plot the recall precision curve for the model\n",
    "    plt.plot(recall, precision, marker='.', label=model)\n",
    "    no_skill = len(y_test[y_test==1]) / len(y_test)\n",
    "    plt.plot([0,1], [no_skill,no_skill], linestyle='--', label='No Skill')\n",
    "    plt.scatter(recall[ix], precision[ix], marker='o', color='black', label='Best')\n",
    "    # axis labels\n",
    "    plt.xlabel('Recall')\n",
    "    plt.ylabel('Precision')\n",
    "    plt.legend()\n",
    "    # show the plot\n",
    "    plt.show()\n",
    "    \n",
    "    print(\"\\nTEST\")\n",
    "    print('Best Threshold=%f, F-Score=%.3f' % (optimal_threshold, fscore[ix]))\n",
    "    y_pred2= np.where(y_pred <= optimal_threshold , 0, 1)\n",
    "    cm = confusion_matrix(y_test, y_pred2)\n",
    "    print(\"Confusion matrix \\n\" , cm)\n",
    "    precision = cm[1,1]/sum(cm[:,1])\n",
    "    print(\"\\nPrecision : \" + str(precision))\n",
    "    recall = cm[1,1]/sum(cm[1,:])\n",
    "    print(\"Recall : \" + str(recall))\n",
    "    f1 = 2*((precision*recall)/(precision+recall))\n",
    "    print(\"F1 : \" + str(f1))\n",
    "    \n",
    "    residual = (y_test - y_pred)\n",
    "    print(\"\\n Residuals distribution : \\n\", residual.describe())\n",
    "    \n",
    "    return optimal_threshold\n",
    "    \n",
    "def recall_precision_bi (X_test,y_test,y_pred,model):\n",
    "    PrecisionRecallDisplay.from_estimator(model,X_test, y_test)\n",
    "    cm = confusion_matrix(y_test, y_pred)\n",
    "    print(\"Confusion matrix \\n\" , cm)\n",
    "    f1 = f1_score(y_test, y_pred, average='binary')\n",
    "    print(\"F1 : \" + str(f1))\n",
    "    \n",
    "    residual = (y_test - y_pred)\n",
    "    print(\"\\n Residuals distribution : \\n\", residual.describe())"
   ]
  },
  {
   "cell_type": "markdown",
   "metadata": {},
   "source": [
    "# OLS"
   ]
  },
  {
   "cell_type": "code",
   "execution_count": 10,
   "metadata": {},
   "outputs": [],
   "source": [
    "model = LinearRegression().fit(X_train, y_train)\n",
    "y_ols = model.predict(X_test)"
   ]
  },
  {
   "cell_type": "code",
   "execution_count": 11,
   "metadata": {},
   "outputs": [
    {
     "data": {
      "image/png": "[encoded data removed]",
      "text/plain": [
       "<Figure size 432x288 with 1 Axes>"
      ]
     },
     "metadata": {
      "needs_background": "light"
     },
     "output_type": "display_data"
    },
    {
     "name": "stdout",
     "output_type": "stream",
     "text": [
      "\n",
      "TEST\n",
      "Best Threshold=0.398438, F-Score=0.507\n",
      "Confusion matrix \n",
      " [[239  16]\n",
      " [ 21  18]]\n",
      "\n",
      "Precision : 0.5294117647058824\n",
      "Recall : 0.46153846153846156\n",
      "F1 : 0.4931506849315069\n",
      "\n",
      " Residuals distribution : \n",
      " count    294.000000\n",
      "mean      -0.024977\n",
      "std        0.325945\n",
      "min       -0.560547\n",
      "25%       -0.219543\n",
      "50%       -0.113525\n",
      "75%        0.057312\n",
      "max        1.179688\n",
      "Name: y, dtype: float64\n"
     ]
    }
   ],
   "source": [
    "t1 = recall_precision(y_test,y_ols,'Ordinary least square')"
   ]
  },
  {
   "cell_type": "code",
   "execution_count": 12,
   "metadata": {},
   "outputs": [],
   "source": [
    "y_olsf1= np.where(y_ols <= t1 , 0, 1)"
   ]
  },
  {
   "cell_type": "markdown",
   "metadata": {
    "id": "pRPpCOPW5L_F"
   },
   "source": [
    "# Logistic regression"
   ]
  },
  {
   "cell_type": "code",
   "execution_count": 13,
   "metadata": {
    "colab": {
     "base_uri": "https://localhost:8080/",
     "height": 1000
    },
    "id": "roFmGIeg6ZVV",
    "outputId": "a93e7b8c-05cf-4939-9cfc-fd88a61ebe23"
   },
   "outputs": [],
   "source": [
    "clf = LogisticRegression(penalty='l2',C=0.1).fit(X_train, y_train)\n",
    "y_log = clf.predict_proba(X_test)[:,1]"
   ]
  },
  {
   "cell_type": "code",
   "execution_count": 14,
   "metadata": {},
   "outputs": [
    {
     "data": {
      "image/png": "[encoded data removed]",
      "text/plain": [
       "<Figure size 432x288 with 1 Axes>"
      ]
     },
     "metadata": {
      "needs_background": "light"
     },
     "output_type": "display_data"
    },
    {
     "name": "stdout",
     "output_type": "stream",
     "text": [
      "\n",
      "TEST\n",
      "Best Threshold=0.371359, F-Score=0.523\n",
      "Confusion matrix \n",
      " [[246   9]\n",
      " [ 23  16]]\n",
      "\n",
      "Precision : 0.64\n",
      "Recall : 0.41025641025641024\n",
      "F1 : 0.5\n",
      "\n",
      " Residuals distribution : \n",
      " count    294.000000\n",
      "mean      -0.024212\n",
      "std        0.308677\n",
      "min       -0.578295\n",
      "25%       -0.154927\n",
      "50%       -0.087884\n",
      "75%       -0.034508\n",
      "max        0.977160\n",
      "Name: y, dtype: float64\n"
     ]
    }
   ],
   "source": [
    "t2 = recall_precision(y_test,y_log,'Logistic regression')"
   ]
  },
  {
   "cell_type": "code",
   "execution_count": 15,
   "metadata": {},
   "outputs": [],
   "source": [
    "y_logf1= np.where(y_log <= t2 , 0, 1)"
   ]
  },
  {
   "cell_type": "markdown",
   "metadata": {},
   "source": [
    "# Support vector machine (SVM)"
   ]
  },
  {
   "cell_type": "markdown",
   "metadata": {},
   "source": [
    "Small dataset so C is put to the lowest even if not selected by cross-validation"
   ]
  },
  {
   "cell_type": "code",
   "execution_count": 42,
   "metadata": {},
   "outputs": [],
   "source": [
    "svc = SVC(kernel = 'sigmoid',\n",
    "           C = 0.1,\n",
    "           gamma = 0.01,\n",
    "           random_state = 0, probability = True).fit(X_train, y_train)\n",
    "y_svm = svc.predict_proba(X_test)[:,1]"
   ]
  },
  {
   "cell_type": "code",
   "execution_count": 17,
   "metadata": {},
   "outputs": [
    {
     "data": {
      "text/plain": [
       "\"svc = SVC(kernel = 'linear',\\n           C = 0.1,\\n           gamma = 'auto',\\n           class_weight={1: weight_ratio},\\n           random_state = 0, probability = True).fit(X_train, y_train)\\ny_svm = svc.predict_proba(X_test)[:,1]\""
      ]
     },
     "execution_count": 17,
     "metadata": {},
     "output_type": "execute_result"
    }
   ],
   "source": [
    "'''svc = SVC(kernel = 'linear',\n",
    "           C = 0.1,\n",
    "           gamma = 'auto',\n",
    "           class_weight={1: weight_ratio},\n",
    "           random_state = 0, probability = True).fit(X_train, y_train)\n",
    "y_svm = svc.predict_proba(X_test)[:,1]'''"
   ]
  },
  {
   "cell_type": "code",
   "execution_count": 43,
   "metadata": {},
   "outputs": [
    {
     "data": {
      "image/png": "[encoded data removed]",
      "text/plain": [
       "<Figure size 432x288 with 1 Axes>"
      ]
     },
     "metadata": {},
     "output_type": "display_data"
    },
    {
     "name": "stdout",
     "output_type": "stream",
     "text": [
      "\n",
      "TEST\n",
      "Best Threshold=0.490853, F-Score=0.559\n",
      "Confusion matrix \n",
      " [[245  10]\n",
      " [ 21  18]]\n",
      "\n",
      "Precision : 0.6428571428571429\n",
      "Recall : 0.46153846153846156\n",
      "F1 : 0.537313432835821\n",
      "\n",
      " Residuals distribution : \n",
      " count    294.000000\n",
      "mean      -0.025869\n",
      "std        0.301854\n",
      "min       -0.773301\n",
      "25%       -0.117479\n",
      "50%       -0.050922\n",
      "75%       -0.009879\n",
      "max        0.994522\n",
      "Name: y, dtype: float64\n"
     ]
    }
   ],
   "source": [
    "t4 = recall_precision(y_test,y_svm,'Optimize support vector machine')"
   ]
  },
  {
   "cell_type": "code",
   "execution_count": 19,
   "metadata": {},
   "outputs": [],
   "source": [
    "y_svmf1= np.where(y_svm <= t4 , 0, 1)"
   ]
  },
  {
   "cell_type": "markdown",
   "metadata": {},
   "source": [
    "# XGBoost"
   ]
  },
  {
   "cell_type": "markdown",
   "metadata": {},
   "source": [
    "Since we have a small training set, the gamma parameter is increase to 2 to keep the model conservative"
   ]
  },
  {
   "cell_type": "code",
   "execution_count": 20,
   "metadata": {},
   "outputs": [
    {
     "name": "stdout",
     "output_type": "stream",
     "text": [
      "[11:23:30] WARNING: C:/Users/Administrator/workspace/xgboost-win64_release_1.5.1/src/learner.cc:576: \n",
      "Parameters: { \"n_estimator\" } might not be used.\n",
      "\n",
      "  This could be a false alarm, with some parameters getting used by language bindings but\n",
      "  then being mistakenly passed down to XGBoost core, or some parameter actually being used\n",
      "  but getting flagged wrongly here. Please open an issue if you find any such cases.\n",
      "\n",
      "\n",
      "[11:23:30] WARNING: C:/Users/Administrator/workspace/xgboost-win64_release_1.5.1/src/learner.cc:1115: Starting in XGBoost 1.3.0, the default evaluation metric used with the objective 'binary:logistic' was changed from 'error' to 'logloss'. Explicitly set eval_metric if you'd like to restore the old behavior.\n"
     ]
    },
    {
     "name": "stderr",
     "output_type": "stream",
     "text": [
      "C:\\Users\\Bruguet\\anaconda3\\lib\\site-packages\\xgboost\\sklearn.py:1224: UserWarning: The use of label encoder in XGBClassifier is deprecated and will be removed in a future release. To remove this warning, do the following: 1) Pass option use_label_encoder=False when constructing XGBClassifier object; and 2) Encode your labels (y) as integers starting with 0, i.e. 0, 1, 2, ..., [num_class - 1].\n",
      "  warnings.warn(label_encoder_deprecation_msg, UserWarning)\n",
      "C:\\Users\\Bruguet\\anaconda3\\lib\\site-packages\\xgboost\\data.py:262: FutureWarning: pandas.Int64Index is deprecated and will be removed from pandas in a future version. Use pandas.Index with the appropriate dtype instead.\n",
      "  elif isinstance(data.columns, (pd.Int64Index, pd.RangeIndex)):\n"
     ]
    }
   ],
   "source": [
    "m = XGBClassifier(\n",
    "    n_estimator = 100,\n",
    "    learning_rate = 0.5,\n",
    "    max_depth=2,\n",
    "    gamma=2,\n",
    "    reg_alpha=0.7, #Regularization in the similarity score to build the trees (L1)\n",
    "    reg_lambda=0.7,  #Regularization in the similarity score to build the trees (L2)\n",
    "    min_child_weight = 3\n",
    ")\n",
    "\n",
    "m.fit(X_train,y_train)\n",
    "y_xboost = m.predict_proba(X_test)[:,1]"
   ]
  },
  {
   "cell_type": "code",
   "execution_count": 21,
   "metadata": {},
   "outputs": [
    {
     "data": {
      "image/png": "[encoded data removed]",
      "text/plain": [
       "<Figure size 432x288 with 1 Axes>"
      ]
     },
     "metadata": {
      "needs_background": "light"
     },
     "output_type": "display_data"
    },
    {
     "name": "stdout",
     "output_type": "stream",
     "text": [
      "\n",
      "TEST\n",
      "Best Threshold=0.337815, F-Score=0.533\n",
      "Confusion matrix \n",
      " [[239  16]\n",
      " [ 20  19]]\n",
      "\n",
      "Precision : 0.5428571428571428\n",
      "Recall : 0.48717948717948717\n",
      "F1 : 0.5135135135135135\n",
      "\n",
      " Residuals distribution : \n",
      " count    294.000000\n",
      "mean      -0.004419\n",
      "std        0.303789\n",
      "min       -0.783477\n",
      "25%       -0.138622\n",
      "50%       -0.051873\n",
      "75%       -0.016309\n",
      "max        0.992614\n",
      "Name: y, dtype: float64\n"
     ]
    }
   ],
   "source": [
    "t5 = recall_precision(y_test,y_xboost,'XGBoost')"
   ]
  },
  {
   "cell_type": "code",
   "execution_count": 22,
   "metadata": {},
   "outputs": [],
   "source": [
    "y_xboostf1 = np.where(y_xboost <= t5 , 0, 1)"
   ]
  },
  {
   "cell_type": "markdown",
   "metadata": {
    "id": "RXRaIR-FPE-T"
   },
   "source": [
    "# Model comparaisons"
   ]
  },
  {
   "cell_type": "code",
   "execution_count": 23,
   "metadata": {},
   "outputs": [
    {
     "name": "stderr",
     "output_type": "stream",
     "text": [
      "C:\\Users\\Bruguet\\anaconda3\\lib\\site-packages\\seaborn\\distributions.py:2619: FutureWarning: `distplot` is a deprecated function and will be removed in a future version. Please adapt your code to use either `displot` (a figure-level function with similar flexibility) or `kdeplot` (an axes-level function for kernel density plots).\n",
      "  warnings.warn(msg, FutureWarning)\n",
      "C:\\Users\\Bruguet\\anaconda3\\lib\\site-packages\\seaborn\\distributions.py:2619: FutureWarning: `distplot` is a deprecated function and will be removed in a future version. Please adapt your code to use either `displot` (a figure-level function with similar flexibility) or `kdeplot` (an axes-level function for kernel density plots).\n",
      "  warnings.warn(msg, FutureWarning)\n",
      "C:\\Users\\Bruguet\\anaconda3\\lib\\site-packages\\seaborn\\distributions.py:2619: FutureWarning: `distplot` is a deprecated function and will be removed in a future version. Please adapt your code to use either `displot` (a figure-level function with similar flexibility) or `kdeplot` (an axes-level function for kernel density plots).\n",
      "  warnings.warn(msg, FutureWarning)\n"
     ]
    },
    {
     "data": {
      "text/plain": [
       "Text(0.5, 1.0, 'Residuals distribution')"
      ]
     },
     "execution_count": 23,
     "metadata": {},
     "output_type": "execute_result"
    },
    {
     "data": {
      "image/png": "[encoded data removed]",
      "text/plain": [
       "<Figure size 432x288 with 1 Axes>"
      ]
     },
     "metadata": {},
     "output_type": "display_data"
    }
   ],
   "source": [
    "sns.set(style=\"ticks\", color_codes=True)\n",
    "sns.distplot((y_test-y_ols), hist=False, kde=True, kde_kws = {'shade': False, 'linewidth' : 1},\n",
    "             bins=50, color = 'blue',\n",
    "             hist_kws={'edgecolor':'black'})\n",
    "\n",
    "sns.distplot((y_test-y_svm), hist=False, kde=True, kde_kws = {'shade': False, 'linewidth' : 1},\n",
    "             bins=50, color = 'orange',\n",
    "             hist_kws={'edgecolor':'black'})\n",
    "\n",
    "sns.distplot((y_test-y_xboost), hist=False, kde=True, kde_kws = {'shade': False, 'linewidth' : 1},\n",
    "             bins=50, color = 'green',\n",
    "             hist_kws={'edgecolor':'black'})\n",
    "\n",
    "plt.xlabel('Residuals')\n",
    "plt.ylabel('Density')\n",
    "plt.legend(labels=[\"OLS\",\"SVM\",\"XGBoost\"])\n",
    "plt.title('Residuals distribution')"
   ]
  },
  {
   "cell_type": "markdown",
   "metadata": {
    "id": "f9G_cYaJcImR"
   },
   "source": [
    "### Using PrecisionRecallDisplay.**from_estimators**"
   ]
  },
  {
   "cell_type": "code",
   "execution_count": 24,
   "metadata": {},
   "outputs": [],
   "source": [
    "def recall (y_test,y_pred,model) :\n",
    "    \n",
    "    precision, recall, thresholds = precision_recall_curve(y_test,y_pred)\n",
    "    # convert to f score\n",
    "    fscore = (2 * precision * recall) / (precision + recall)\n",
    "    # locate the index of the largest f score\n",
    "    ix = np.argmax(fscore)\n",
    "    # plot the roc curve for the model\n",
    "    recall_plot = plt.plot(recall, precision, marker='.', label=model)\n",
    "    plt.xlabel('Recall')\n",
    "    plt.ylabel('Precision')\n",
    "    plt.legend()\n",
    "    plt.title('Metric visualisation - Precision-Recall curve')\n",
    "    # show the plot /bbox_to_anchor=(0.5, -0.4), loc='center', ncol=1\n",
    "    return(recall_plot)"
   ]
  },
  {
   "cell_type": "code",
   "execution_count": 25,
   "metadata": {
    "colab": {
     "base_uri": "https://localhost:8080/",
     "height": 893
    },
    "id": "mY7pQDrxb8x_",
    "outputId": "c484c680-acc0-4172-a2dd-4de742e3eb8b"
   },
   "outputs": [
    {
     "data": {
      "image/png": "[encoded data removed]",
      "text/plain": [
       "<Figure size 432x288 with 1 Axes>"
      ]
     },
     "metadata": {},
     "output_type": "display_data"
    }
   ],
   "source": [
    "recall_ols = recall(y_test,y_ols, 'OLS')\n",
    "recall_svm = recall(y_test,y_svm, 'SVM')\n",
    "recall_xgboost = recall(y_test,y_xboost, 'XGBoost')"
   ]
  },
  {
   "cell_type": "code",
   "execution_count": 26,
   "metadata": {},
   "outputs": [
    {
     "data": {
      "text/html": [
       "<div>\n",
       "<style scoped>\n",
       "    .dataframe tbody tr th:only-of-type {\n",
       "        vertical-align: middle;\n",
       "    }\n",
       "\n",
       "    .dataframe tbody tr th {\n",
       "        vertical-align: top;\n",
       "    }\n",
       "\n",
       "    .dataframe thead th {\n",
       "        text-align: right;\n",
       "    }\n",
       "</style>\n",
       "<table border=\"1\" class=\"dataframe\">\n",
       "  <thead>\n",
       "    <tr style=\"text-align: right;\">\n",
       "      <th></th>\n",
       "      <th>Algorithm</th>\n",
       "      <th>f1</th>\n",
       "      <th>acc</th>\n",
       "    </tr>\n",
       "  </thead>\n",
       "  <tbody>\n",
       "    <tr>\n",
       "      <th>1</th>\n",
       "      <td>SVM</td>\n",
       "      <td>0.537313</td>\n",
       "      <td>0.894558</td>\n",
       "    </tr>\n",
       "    <tr>\n",
       "      <th>2</th>\n",
       "      <td>XGBoost</td>\n",
       "      <td>0.513514</td>\n",
       "      <td>0.877551</td>\n",
       "    </tr>\n",
       "    <tr>\n",
       "      <th>0</th>\n",
       "      <td>OLS</td>\n",
       "      <td>0.493151</td>\n",
       "      <td>0.874150</td>\n",
       "    </tr>\n",
       "  </tbody>\n",
       "</table>\n",
       "</div>"
      ],
      "text/plain": [
       "  Algorithm        f1       acc\n",
       "1       SVM  0.537313  0.894558\n",
       "2   XGBoost  0.513514  0.877551\n",
       "0       OLS  0.493151  0.874150"
      ]
     },
     "execution_count": 26,
     "metadata": {},
     "output_type": "execute_result"
    }
   ],
   "source": [
    " f_score = pd.DataFrame({\n",
    "    'Algorithm' : ['OLS','SVM','XGBoost'],\n",
    "    'y_pred' : [y_olsf1,y_svmf1,y_xboostf1]\n",
    "})\n",
    "f1_list = []\n",
    "for index, row in f_score.iterrows():\n",
    "    f1 = f1_score(y_test, row['y_pred'], average='binary')\n",
    "    f1_list.append(f1)\n",
    "acc_list = []\n",
    "for index, row in f_score.iterrows():\n",
    "    acc = accuracy_score(y_test, row['y_pred'])\n",
    "    acc_list.append(acc)\n",
    "    \n",
    "f_score['f1']=f1_list\n",
    "f_score['acc']=acc_list\n",
    "f_score = f_score.drop(['y_pred'], axis=1)\n",
    "f_score.sort_values(by=['f1'],ascending=False)"
   ]
  },
  {
   "cell_type": "markdown",
   "metadata": {},
   "source": [
    "# Save the best classifier"
   ]
  },
  {
   "cell_type": "code",
   "execution_count": 27,
   "metadata": {},
   "outputs": [
    {
     "name": "stderr",
     "output_type": "stream",
     "text": [
      "ERROR: Could not find a version that satisfies the requirement pickle (from versions: none)\n",
      "ERROR: No matching distribution found for pickle\n"
     ]
    }
   ],
   "source": [
    "! pip install pickle\n",
    "import pickle\n",
    "# save the classifier\n",
    "filename = 'attrition_svm.pkl'\n",
    "pickle.dump(svc, open(filename, 'wb'))"
   ]
  },
  {
   "cell_type": "code",
   "execution_count": 30,
   "metadata": {},
   "outputs": [
    {
     "name": "stdout",
     "output_type": "stream",
     "text": [
      "The prediction SVM score is around 87.0 %\n"
     ]
    }
   ],
   "source": [
    "# load the model from disk\n",
    "loaded_model = pickle.load(open(filename, 'rb'))\n",
    "result = loaded_model.score(X_test, y_test)\n",
    "print('The prediction SVM score is around', round(result,2) * 100 ,'%')"
   ]
  }
 ],
 "metadata": {
  "colab": {
   "collapsed_sections": [],
   "name": "code Marie.ipynb",
   "provenance": []
  },
  "kernelspec": {
   "display_name": "Python 3 (ipykernel)",
   "language": "python",
   "name": "python3"
  },
  "language_info": {
   "codemirror_mode": {
    "name": "ipython",
    "version": 3
   },
   "file_extension": ".py",
   "mimetype": "text/x-python",
   "name": "python",
   "nbconvert_exporter": "python",
   "pygments_lexer": "ipython3",
   "version": "3.8.12"
  }
 },
 "nbformat": 4,
 "nbformat_minor": 4
}
