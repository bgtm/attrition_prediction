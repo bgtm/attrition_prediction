{
 "cells": [
  {
   "cell_type": "markdown",
   "metadata": {
    "id": "UZfc3a2iPlZf"
   },
   "source": [
    "# Importation"
   ]
  },
  {
   "cell_type": "code",
   "execution_count": 66,
   "metadata": {},
   "outputs": [],
   "source": [
    "import os\n",
    "import numpy as np\n",
    "import pandas as pd\n",
    "import seaborn as sns\n",
    "import matplotlib.pyplot as plt\n",
    "from sklearn.model_selection import KFold\n",
    "from sklearn import model_selection\n",
    "from sklearn.preprocessing import MinMaxScaler\n",
    "from sklearn.metrics import mean_squared_error, f1_score\n",
    "from sklearn.linear_model import Ridge, RidgeCV, Lasso, LassoCV, RidgeClassifier, RidgeClassifierCV\n",
    "from sklearn.linear_model import LinearRegression\n",
    "\n",
    "from tqdm.notebook import tqdm\n",
    "tqdm.pandas\n",
    "\n",
    "from sklearn.neighbors import KNeighborsClassifier\n",
    "from sklearn.metrics import confusion_matrix, accuracy_score, classification_report\n",
    "from sklearn.model_selection import cross_val_score, cross_val_predict, train_test_split"
   ]
  },
  {
   "cell_type": "markdown",
   "metadata": {},
   "source": [
    "# Load data"
   ]
  },
  {
   "cell_type": "code",
   "execution_count": 2,
   "metadata": {
    "id": "3VepDD_ZPlZk"
   },
   "outputs": [],
   "source": [
    "employee = pd.read_csv(os.path.join(\"..\",\"..\", \"data\", \"employee.csv\"))"
   ]
  },
  {
   "cell_type": "code",
   "execution_count": 3,
   "metadata": {
    "id": "OLoDfZr0PlZn"
   },
   "outputs": [],
   "source": [
    "employee = employee.drop([\"EmployeeCount\", \"EmployeeNumber\", \"Over18\", \"StandardHours\"], axis = 1)"
   ]
  },
  {
   "cell_type": "code",
   "execution_count": 4,
   "metadata": {
    "id": "AhXZTKjTPlZo",
    "outputId": "188ba915-25f9-41b9-d2db-07073a2ef939"
   },
   "outputs": [
    {
     "data": {
      "text/html": [
       "<div>\n",
       "<style scoped>\n",
       "    .dataframe tbody tr th:only-of-type {\n",
       "        vertical-align: middle;\n",
       "    }\n",
       "\n",
       "    .dataframe tbody tr th {\n",
       "        vertical-align: top;\n",
       "    }\n",
       "\n",
       "    .dataframe thead th {\n",
       "        text-align: right;\n",
       "    }\n",
       "</style>\n",
       "<table border=\"1\" class=\"dataframe\">\n",
       "  <thead>\n",
       "    <tr style=\"text-align: right;\">\n",
       "      <th></th>\n",
       "      <th>age</th>\n",
       "      <th>dailyrate</th>\n",
       "      <th>distancefromhome</th>\n",
       "      <th>education</th>\n",
       "      <th>environmentsatisfaction</th>\n",
       "      <th>gender</th>\n",
       "      <th>hourlyrate</th>\n",
       "      <th>jobinvolvement</th>\n",
       "      <th>joblevel</th>\n",
       "      <th>jobsatisfaction</th>\n",
       "      <th>...</th>\n",
       "      <th>jobrole_laboratory_technician</th>\n",
       "      <th>jobrole_manager</th>\n",
       "      <th>jobrole_manufacturing_director</th>\n",
       "      <th>jobrole_research_director</th>\n",
       "      <th>jobrole_research_scientist</th>\n",
       "      <th>jobrole_sales_executive</th>\n",
       "      <th>jobrole_sales_representative</th>\n",
       "      <th>maritalstatus_divorced</th>\n",
       "      <th>maritalstatus_married</th>\n",
       "      <th>maritalstatus_single</th>\n",
       "    </tr>\n",
       "  </thead>\n",
       "  <tbody>\n",
       "    <tr>\n",
       "      <th>0</th>\n",
       "      <td>41</td>\n",
       "      <td>1102</td>\n",
       "      <td>1</td>\n",
       "      <td>2</td>\n",
       "      <td>2</td>\n",
       "      <td>0</td>\n",
       "      <td>94</td>\n",
       "      <td>3</td>\n",
       "      <td>2</td>\n",
       "      <td>4</td>\n",
       "      <td>...</td>\n",
       "      <td>0</td>\n",
       "      <td>0</td>\n",
       "      <td>0</td>\n",
       "      <td>0</td>\n",
       "      <td>0</td>\n",
       "      <td>1</td>\n",
       "      <td>0</td>\n",
       "      <td>0</td>\n",
       "      <td>0</td>\n",
       "      <td>1</td>\n",
       "    </tr>\n",
       "    <tr>\n",
       "      <th>1</th>\n",
       "      <td>49</td>\n",
       "      <td>279</td>\n",
       "      <td>8</td>\n",
       "      <td>1</td>\n",
       "      <td>3</td>\n",
       "      <td>1</td>\n",
       "      <td>61</td>\n",
       "      <td>2</td>\n",
       "      <td>2</td>\n",
       "      <td>2</td>\n",
       "      <td>...</td>\n",
       "      <td>0</td>\n",
       "      <td>0</td>\n",
       "      <td>0</td>\n",
       "      <td>0</td>\n",
       "      <td>1</td>\n",
       "      <td>0</td>\n",
       "      <td>0</td>\n",
       "      <td>0</td>\n",
       "      <td>1</td>\n",
       "      <td>0</td>\n",
       "    </tr>\n",
       "    <tr>\n",
       "      <th>2</th>\n",
       "      <td>37</td>\n",
       "      <td>1373</td>\n",
       "      <td>2</td>\n",
       "      <td>2</td>\n",
       "      <td>4</td>\n",
       "      <td>1</td>\n",
       "      <td>92</td>\n",
       "      <td>2</td>\n",
       "      <td>1</td>\n",
       "      <td>3</td>\n",
       "      <td>...</td>\n",
       "      <td>1</td>\n",
       "      <td>0</td>\n",
       "      <td>0</td>\n",
       "      <td>0</td>\n",
       "      <td>0</td>\n",
       "      <td>0</td>\n",
       "      <td>0</td>\n",
       "      <td>0</td>\n",
       "      <td>0</td>\n",
       "      <td>1</td>\n",
       "    </tr>\n",
       "    <tr>\n",
       "      <th>3</th>\n",
       "      <td>33</td>\n",
       "      <td>1392</td>\n",
       "      <td>3</td>\n",
       "      <td>4</td>\n",
       "      <td>4</td>\n",
       "      <td>0</td>\n",
       "      <td>56</td>\n",
       "      <td>3</td>\n",
       "      <td>1</td>\n",
       "      <td>3</td>\n",
       "      <td>...</td>\n",
       "      <td>0</td>\n",
       "      <td>0</td>\n",
       "      <td>0</td>\n",
       "      <td>0</td>\n",
       "      <td>1</td>\n",
       "      <td>0</td>\n",
       "      <td>0</td>\n",
       "      <td>0</td>\n",
       "      <td>1</td>\n",
       "      <td>0</td>\n",
       "    </tr>\n",
       "    <tr>\n",
       "      <th>4</th>\n",
       "      <td>27</td>\n",
       "      <td>591</td>\n",
       "      <td>2</td>\n",
       "      <td>1</td>\n",
       "      <td>1</td>\n",
       "      <td>1</td>\n",
       "      <td>40</td>\n",
       "      <td>3</td>\n",
       "      <td>1</td>\n",
       "      <td>2</td>\n",
       "      <td>...</td>\n",
       "      <td>1</td>\n",
       "      <td>0</td>\n",
       "      <td>0</td>\n",
       "      <td>0</td>\n",
       "      <td>0</td>\n",
       "      <td>0</td>\n",
       "      <td>0</td>\n",
       "      <td>0</td>\n",
       "      <td>1</td>\n",
       "      <td>0</td>\n",
       "    </tr>\n",
       "  </tbody>\n",
       "</table>\n",
       "<p>5 rows × 49 columns</p>\n",
       "</div>"
      ],
      "text/plain": [
       "   age  dailyrate  distancefromhome  education  environmentsatisfaction  \\\n",
       "0   41       1102                 1          2                        2   \n",
       "1   49        279                 8          1                        3   \n",
       "2   37       1373                 2          2                        4   \n",
       "3   33       1392                 3          4                        4   \n",
       "4   27        591                 2          1                        1   \n",
       "\n",
       "   gender  hourlyrate  jobinvolvement  joblevel  jobsatisfaction  ...  \\\n",
       "0       0          94               3         2                4  ...   \n",
       "1       1          61               2         2                2  ...   \n",
       "2       1          92               2         1                3  ...   \n",
       "3       0          56               3         1                3  ...   \n",
       "4       1          40               3         1                2  ...   \n",
       "\n",
       "   jobrole_laboratory_technician  jobrole_manager  \\\n",
       "0                              0                0   \n",
       "1                              0                0   \n",
       "2                              1                0   \n",
       "3                              0                0   \n",
       "4                              1                0   \n",
       "\n",
       "   jobrole_manufacturing_director  jobrole_research_director  \\\n",
       "0                               0                          0   \n",
       "1                               0                          0   \n",
       "2                               0                          0   \n",
       "3                               0                          0   \n",
       "4                               0                          0   \n",
       "\n",
       "   jobrole_research_scientist  jobrole_sales_executive  \\\n",
       "0                           0                        1   \n",
       "1                           1                        0   \n",
       "2                           0                        0   \n",
       "3                           1                        0   \n",
       "4                           0                        0   \n",
       "\n",
       "   jobrole_sales_representative  maritalstatus_divorced  \\\n",
       "0                             0                       0   \n",
       "1                             0                       0   \n",
       "2                             0                       0   \n",
       "3                             0                       0   \n",
       "4                             0                       0   \n",
       "\n",
       "   maritalstatus_married  maritalstatus_single  \n",
       "0                      0                     1  \n",
       "1                      1                     0  \n",
       "2                      0                     1  \n",
       "3                      1                     0  \n",
       "4                      1                     0  \n",
       "\n",
       "[5 rows x 49 columns]"
      ]
     },
     "execution_count": 4,
     "metadata": {},
     "output_type": "execute_result"
    }
   ],
   "source": [
    "employee.columns = employee.columns.str.lower()\n",
    "employee[\"overtime\"] = employee[\"overtime\"].replace(\"Yes\", 1)\n",
    "employee[\"overtime\"] = employee[\"overtime\"].replace(\"No\", 0)\n",
    "employee[\"gender\"] = employee[\"gender\"].replace(\"Male\", 1)\n",
    "employee[\"gender\"] = employee[\"gender\"].replace(\"Female\", 0)\n",
    "\n",
    "employee = employee.rename(columns = {\"attrition\" : \"y\"})\n",
    "\n",
    "employee[\"y\"] = employee[\"y\"].replace(\"Yes\", 1)\n",
    "employee[\"y\"] = employee[\"y\"].replace(\"No\", 0)\n",
    "\n",
    "cat = [var for var in employee.columns if var not in employee.describe().columns.tolist()]\n",
    "\n",
    "for var in cat:\n",
    "    \n",
    "    employee[var] = employee[var].str.lower()\n",
    "    employee[var] = employee[var].str.replace(' ', '_').astype(str)\n",
    "    employee[var] = employee[var].str.replace('-', '_').astype(str)\n",
    "    employee[var] = employee[var].str.replace('&', '_').astype(str)\n",
    "    employee[var] = employee[var].str.replace('___', '_').astype(str)\n",
    "\n",
    "y = employee[\"y\"]\n",
    "X = employee.drop(['y'], axis = 1)\n",
    "\n",
    "for var in cat :\n",
    "    \n",
    "    for val in X[var].value_counts().index.tolist():\n",
    "        \n",
    "        X[var] = X[var].replace(val, var+\"_\"+val)\n",
    "        \n",
    "for var in cat :\n",
    "\n",
    "    dummies = pd.get_dummies(X[var])\n",
    "    X = X.drop(var,axis = 1)\n",
    "    X = X.join(dummies)\n",
    "    \n",
    "X.head()"
   ]
  },
  {
   "cell_type": "code",
   "execution_count": 5,
   "metadata": {
    "id": "rZu_9gblPlZs"
   },
   "outputs": [],
   "source": [
    "augmentation =[ ]\n",
    "for var in X.columns :\n",
    "    if X[var].unique().tolist() == [0,1] :\n",
    "        pass\n",
    "    elif X[var].unique().tolist() ==[1,0]:\n",
    "        pass\n",
    "    else :\n",
    "        augmentation.append(var)"
   ]
  },
  {
   "cell_type": "code",
   "execution_count": 6,
   "metadata": {
    "id": "rQ0ICZB4PlZt"
   },
   "outputs": [],
   "source": [
    "X_nl = X.copy()\n",
    "\n",
    "for var in augmentation :\n",
    "    \n",
    "    X_nl[var+'_squared'] = X_nl[var]**2\n",
    "    X_nl[var+'_cube'] = X_nl[var]**3"
   ]
  },
  {
   "cell_type": "code",
   "execution_count": 8,
   "metadata": {
    "id": "1wdEY6D5PlZw"
   },
   "outputs": [],
   "source": [
    "X_train, X_test, y_train, y_test = train_test_split(X, y, test_size = 0.2, random_state = 42)"
   ]
  },
  {
   "cell_type": "code",
   "execution_count": 9,
   "metadata": {},
   "outputs": [
    {
     "name": "stdout",
     "output_type": "stream",
     "text": [
      "(1176, 49)\n",
      "(1176,)\n",
      "(294, 49)\n",
      "(294,)\n"
     ]
    }
   ],
   "source": [
    "print(X_train.shape)\n",
    "print(y_train.shape)\n",
    "\n",
    "print(X_test.shape)\n",
    "print(y_test.shape)"
   ]
  },
  {
   "cell_type": "code",
   "execution_count": 10,
   "metadata": {
    "id": "2F8ouhmtPlZz"
   },
   "outputs": [],
   "source": [
    "scaler = MinMaxScaler()\n",
    "X_train = scaler.fit_transform(X_train)\n",
    "X_test = scaler.transform(X_test)"
   ]
  },
  {
   "cell_type": "code",
   "execution_count": 11,
   "metadata": {},
   "outputs": [],
   "source": [
    "X_train_nl, X_test_nl, y_train_nl, y_test_nl = train_test_split(X_nl, y, test_size = 0.2, random_state = 42)"
   ]
  },
  {
   "cell_type": "code",
   "execution_count": 12,
   "metadata": {
    "scrolled": true
   },
   "outputs": [
    {
     "name": "stdout",
     "output_type": "stream",
     "text": [
      "(1176, 95)\n",
      "(1176,)\n",
      "(294, 95)\n",
      "(294,)\n"
     ]
    }
   ],
   "source": [
    "print(X_train_nl.shape)\n",
    "print(y_train_nl.shape)\n",
    "\n",
    "print(X_test_nl.shape)\n",
    "print(y_test_nl.shape)"
   ]
  },
  {
   "cell_type": "code",
   "execution_count": 13,
   "metadata": {},
   "outputs": [],
   "source": [
    "scaler = MinMaxScaler()\n",
    "X_train_nl = scaler.fit_transform(X_train_nl)\n",
    "X_test_nl = scaler.transform(X_test_nl)"
   ]
  },
  {
   "cell_type": "markdown",
   "metadata": {
    "id": "xYvi7LBQPlZv"
   },
   "source": [
    "# Estimations by OLS"
   ]
  },
  {
   "cell_type": "code",
   "execution_count": 14,
   "metadata": {
    "id": "cJ2YtG1yPlZ0",
    "outputId": "039f9bdc-2335-4e5c-ff60-010004954b95"
   },
   "outputs": [],
   "source": [
    "model = LinearRegression()"
   ]
  },
  {
   "cell_type": "code",
   "execution_count": 15,
   "metadata": {
    "id": "cDEsufOAPlZ2",
    "outputId": "95bbe51b-744b-4918-bf9e-aa84d1c67132"
   },
   "outputs": [],
   "source": [
    "model.fit(X_train, y_train)\n",
    "y_pred_ols = model.predict(X_test)"
   ]
  },
  {
   "cell_type": "code",
   "execution_count": 16,
   "metadata": {},
   "outputs": [],
   "source": [
    "model.fit(X_train_nl, y_train_nl)\n",
    "y_pred_ols_nl = model.predict(X_test_nl)"
   ]
  },
  {
   "cell_type": "markdown",
   "metadata": {},
   "source": [
    "# Estimation by PCR"
   ]
  },
  {
   "cell_type": "markdown",
   "metadata": {},
   "source": [
    "## Linear "
   ]
  },
  {
   "cell_type": "code",
   "execution_count": 17,
   "metadata": {},
   "outputs": [],
   "source": [
    "def PCA(X_train, X_test, n_components):\n",
    "    global X_train_reduced\n",
    "    global X_test_reduced\n",
    "    global num_components\n",
    "    global sorted_eigenvalue\n",
    "    # To compute eigen vector and eigen vectors, we first need to compute covariance matrix\n",
    "    cov_mat = np.cov(X_train , rowvar = False)\n",
    "\n",
    "    eigen_values , eigen_vectors = np.linalg.eigh(cov_mat)\n",
    "\n",
    "    #sort the eigenvalues in descending order\n",
    "    sorted_index = np.argsort(eigen_values)[::-1]\n",
    "\n",
    "    sorted_eigenvalue = eigen_values[sorted_index]\n",
    "    #similarly sort the eigenvectors \n",
    "    sorted_eigenvectors = eigen_vectors[:,sorted_index]\n",
    "\n",
    "    # select the first n eigenvectors, n is desired dimension\n",
    "    # of our final reduced data.\n",
    "\n",
    "    eigenvector_subset = sorted_eigenvectors[:,0:n_components]\n",
    "\n",
    "    #Transform the train data and the test data (from n*k to n*num_components with n number of observation)\n",
    "    X_train_reduced = np.dot(eigenvector_subset.transpose(),X_train.transpose()).transpose()\n",
    "    X_test_reduced = np.dot(eigenvector_subset.transpose(),X_test.transpose()).transpose()\n",
    "    \n",
    "    num_components = n_components\n",
    "    return "
   ]
  },
  {
   "cell_type": "code",
   "execution_count": 18,
   "metadata": {},
   "outputs": [],
   "source": [
    "PCA(X_train, X_test, 10)"
   ]
  },
  {
   "cell_type": "markdown",
   "metadata": {},
   "source": [
    "Gets share of the variance explained from the eigen values\n",
    "Here the first component explain approximately 12% of the variance\n"
   ]
  },
  {
   "cell_type": "code",
   "execution_count": 19,
   "metadata": {},
   "outputs": [
    {
     "name": "stdout",
     "output_type": "stream",
     "text": [
      "The explained variance by the first 10 principal components is 59.581246990116156 %\n"
     ]
    },
    {
     "data": {
      "text/plain": [
       "[12.09190483282372,\n",
       " 7.851077817187162,\n",
       " 6.930602399362009,\n",
       " 6.343577343801729,\n",
       " 5.542153517059711,\n",
       " 5.3080023192975565,\n",
       " 4.546063264688872,\n",
       " 4.040093857042666,\n",
       " 3.5346792632551214,\n",
       " 3.3930923755976097]"
      ]
     },
     "execution_count": 19,
     "metadata": {},
     "output_type": "execute_result"
    }
   ],
   "source": [
    "eigen_val = sorted_eigenvalue.tolist()\n",
    "share = []\n",
    "for number in eigen_val:\n",
    "\n",
    "    share.append((number / sum(eigen_val))*100)\n",
    "\n",
    "print(\"The explained variance by the first 10 principal components is\",sum(share[:10]),\"%\")    \n",
    "share[:10]"
   ]
  },
  {
   "cell_type": "code",
   "execution_count": 20,
   "metadata": {},
   "outputs": [],
   "source": [
    "reg = LinearRegression()\n",
    "reg.fit(X_train_reduced[:,:10], y_train)\n",
    "y_pred_pcr = reg.predict(X_test_reduced[:,:10])"
   ]
  },
  {
   "cell_type": "code",
   "execution_count": 21,
   "metadata": {},
   "outputs": [
    {
     "data": {
      "text/plain": [
       "(294,)"
      ]
     },
     "execution_count": 21,
     "metadata": {},
     "output_type": "execute_result"
    }
   ],
   "source": [
    "y_pred_pcr.shape"
   ]
  },
  {
   "cell_type": "markdown",
   "metadata": {},
   "source": [
    "## Non-linear"
   ]
  },
  {
   "cell_type": "code",
   "execution_count": 22,
   "metadata": {},
   "outputs": [],
   "source": [
    "PCA(X_train_nl, X_test_nl, 10)"
   ]
  },
  {
   "cell_type": "markdown",
   "metadata": {},
   "source": [
    "Gets share of the variance explained from the eigen values\n",
    "Here the first component explain approximately 12% of the variance"
   ]
  },
  {
   "cell_type": "code",
   "execution_count": 23,
   "metadata": {},
   "outputs": [
    {
     "name": "stdout",
     "output_type": "stream",
     "text": [
      "The explained variance by the first 10 principal components is 53.34314238611293 %\n"
     ]
    },
    {
     "data": {
      "text/plain": [
       "[7.881057347085784,\n",
       " 6.790962329398963,\n",
       " 6.391354475643252,\n",
       " 5.273745935870884,\n",
       " 5.240424608333926,\n",
       " 5.092002251992095,\n",
       " 4.656962213683607,\n",
       " 4.291281827997581,\n",
       " 4.092379412131527,\n",
       " 3.6329719839753154]"
      ]
     },
     "execution_count": 23,
     "metadata": {},
     "output_type": "execute_result"
    }
   ],
   "source": [
    "eigen_val = sorted_eigenvalue.tolist()\n",
    "share = []\n",
    "for number in eigen_val:\n",
    "\n",
    "    share.append((number / sum(eigen_val))*100)\n",
    "\n",
    "print(\"The explained variance by the first 10 principal components is\",sum(share[:10]),\"%\")    \n",
    "share[:10]"
   ]
  },
  {
   "cell_type": "code",
   "execution_count": 24,
   "metadata": {},
   "outputs": [],
   "source": [
    "reg = LinearRegression()\n",
    "reg.fit(X_train_reduced[:,:10], y_train_nl)\n",
    "y_pred_pcr_nl = reg.predict(X_test_reduced[:,:10])"
   ]
  },
  {
   "cell_type": "code",
   "execution_count": 25,
   "metadata": {},
   "outputs": [
    {
     "data": {
      "text/plain": [
       "(294,)"
      ]
     },
     "execution_count": 25,
     "metadata": {},
     "output_type": "execute_result"
    }
   ],
   "source": [
    "y_pred_pcr_nl.shape"
   ]
  },
  {
   "cell_type": "markdown",
   "metadata": {
    "id": "eaDGPCmrPlaF"
   },
   "source": [
    "# Estimations by RIDGE"
   ]
  },
  {
   "cell_type": "code",
   "execution_count": 26,
   "metadata": {
    "id": "uyeOij7cPlaG"
   },
   "outputs": [],
   "source": [
    "# Train the model and gives the estimated betas\n",
    "def ridge_train(alpha,X,y) :\n",
    "    X_with_intercept = np.c_[np.ones((X.shape[0], 1)), X]\n",
    "    dimension = X_with_intercept.shape[1]\n",
    "    A = np.identity(dimension)\n",
    "    A[0, 0] = 0\n",
    "    A_biased = alpha*A\n",
    "    betas = np.linalg.inv(X_with_intercept.T.dot(X_with_intercept) +\n",
    "                                   A_biased).dot(X_with_intercept.T).dot(y)\n",
    "    return (betas)\n",
    "# Test the model with the given weights (betas) and output the estimated probabilities\n",
    "def ridge_fit(betas, X) :\n",
    "    X_predictor = np.c_[np.ones((X.shape[0], 1)), X]\n",
    "    y_pred = X_predictor.dot(betas)\n",
    "    return(y_pred)"
   ]
  },
  {
   "cell_type": "markdown",
   "metadata": {
    "id": "hT3OlV3LQyMa"
   },
   "source": [
    "## Linear data"
   ]
  },
  {
   "cell_type": "markdown",
   "metadata": {},
   "source": [
    "### Using GIC "
   ]
  },
  {
   "cell_type": "code",
   "execution_count": 27,
   "metadata": {},
   "outputs": [],
   "source": [
    "N = X_train.shape[0]\n",
    "k = X_train.shape[1]\n",
    "nobs = N\n",
    "nobs2 = nobs / 2.0\n",
    "nobs = float(nobs)"
   ]
  },
  {
   "cell_type": "code",
   "execution_count": 28,
   "metadata": {},
   "outputs": [],
   "source": [
    "alphas = 5**np.linspace(5,0,100)*0.5"
   ]
  },
  {
   "cell_type": "code",
   "execution_count": 29,
   "metadata": {},
   "outputs": [
    {
     "data": {
      "application/vnd.jupyter.widget-view+json": {
       "model_id": "d5a29e738a3f4a2183313036dbfed583",
       "version_major": 2,
       "version_minor": 0
      },
      "text/plain": [
       "Progess :   0%|          | 0/100 [00:00<?, ?it/s]"
      ]
     },
     "metadata": {},
     "output_type": "display_data"
    }
   ],
   "source": [
    "bic_list =[]\n",
    "aic_list = []\n",
    "\n",
    "for a in tqdm(alphas, total =len(alphas), desc = 'Progess ' ):\n",
    "    #Compute the prediction\n",
    "    weight = ridge_train(a,X_train,y_train)\n",
    "    predict = ridge_fit(weight, X_test) \n",
    "    \n",
    "    #Recoder \n",
    "    predictR = predict.tolist()\n",
    "    predictR = [0 if x<0 else x for x in predictR]\n",
    "    \n",
    "    #Compute the residuals\n",
    "    res = y_test - predictR\n",
    "    ssr = np.sum(res ** 2)\n",
    "    #Compute the log-likelihood\n",
    "    llf = -nobs2 * np.log(2 * np.pi) - nobs2 * np.log(ssr / nobs) - nobs2\n",
    "    #Compute the BIC criterion\n",
    "    bic = -2*llf +k*np.log(N)\n",
    "    aic = -2*llf + 2*k \n",
    "\n",
    "    bic_list.append(bic)\n",
    "    aic_list.append(aic)"
   ]
  },
  {
   "cell_type": "code",
   "execution_count": 30,
   "metadata": {},
   "outputs": [],
   "source": [
    "_lambda = pd.DataFrame({\n",
    "    'lambda' : alphas,\n",
    "    'bic' : bic_list,\n",
    "    'aic' : aic_list,\n",
    "})\n",
    "filter_minB = _lambda['bic'] == min(_lambda['bic'])\n",
    "filter_minA = _lambda['aic'] == min(_lambda['aic'])\n",
    "\n",
    "min_lambdaB = _lambda[filter_minB]\n",
    "min_lambdaA = _lambda[filter_minA]"
   ]
  },
  {
   "cell_type": "code",
   "execution_count": 31,
   "metadata": {},
   "outputs": [
    {
     "name": "stdout",
     "output_type": "stream",
     "text": [
      "      lambda         bic         aic\n",
      "65  7.929057 -662.300112 -910.723944\n",
      "      lambda         bic         aic\n",
      "65  7.929057 -662.300112 -910.723944\n"
     ]
    }
   ],
   "source": [
    "print(min_lambdaB)\n",
    "print(min_lambdaA)"
   ]
  },
  {
   "cell_type": "code",
   "execution_count": 32,
   "metadata": {},
   "outputs": [],
   "source": [
    "weight = ridge_train(min_lambdaA.iloc[0,0],X_train,y_train)\n",
    "y_pred0 = ridge_fit(weight, X_test)"
   ]
  },
  {
   "cell_type": "code",
   "execution_count": 33,
   "metadata": {},
   "outputs": [
    {
     "data": {
      "text/plain": [
       "(294,)"
      ]
     },
     "execution_count": 33,
     "metadata": {},
     "output_type": "execute_result"
    }
   ],
   "source": [
    "y_pred0.shape"
   ]
  },
  {
   "cell_type": "markdown",
   "metadata": {
    "id": "AHKb6ScoPlaM"
   },
   "source": [
    "### Using cross-validation to optimize the SSR"
   ]
  },
  {
   "cell_type": "code",
   "execution_count": null,
   "metadata": {
    "id": "0S51b8yoPlaO"
   },
   "outputs": [],
   "source": [
    "# Definition of the alphas (lambda) to test\n",
    "alphas = 10**np.linspace(5,0,1000)*0.5"
   ]
  },
  {
   "cell_type": "code",
   "execution_count": 34,
   "metadata": {
    "colab": {
     "referenced_widgets": [
      "5dbc0880057f45089d0004dca5730088"
     ]
    },
    "id": "NfTW2ErOPlaO",
    "outputId": "19735334-a431-4ee3-90a2-f09fed2da864"
   },
   "outputs": [
    {
     "data": {
      "application/vnd.jupyter.widget-view+json": {
       "model_id": "252f891aa52e4113b7bbc98fae5c89ae",
       "version_major": 2,
       "version_minor": 0
      },
      "text/plain": [
       "Progress :   0%|          | 0/100 [00:00<?, ?it/s]"
      ]
     },
     "metadata": {},
     "output_type": "display_data"
    }
   ],
   "source": [
    "k=5\n",
    "kf = KFold(n_splits=k, random_state=None)\n",
    "\n",
    "ssr_list = []\n",
    "for a in tqdm(alphas, total =len(alphas), desc = 'Progress ' ):\n",
    "    ssr_score = []\n",
    "    for train_index , test_index in kf.split(X):\n",
    "        Xtrain , Xtest = X.iloc[train_index,:],X.iloc[test_index,:]\n",
    "        ytrain , ytest = y[train_index] , y[test_index]\n",
    "        #Compute the prediction\n",
    "        weight = ridge_train(a,Xtrain,ytrain)\n",
    "        predict = ridge_fit(weight, Xtest) \n",
    "        #Recoder \n",
    "        predictR = predict.tolist()\n",
    "        predictR = [0 if x<0 else x for x in predictR]\n",
    "        \n",
    "      #Compute the residuals\n",
    "        res = ytest - predictR\n",
    "        ssr = np.sum(res ** 2)\n",
    "        ssr_score.append(ssr)\n",
    "        \n",
    "    avg_ssr_score = sum(ssr_score)/k\n",
    "    ssr_list.append(avg_ssr_score)"
   ]
  },
  {
   "cell_type": "code",
   "execution_count": 35,
   "metadata": {
    "id": "O52WXWAVPlaP",
    "outputId": "1f705c85-ddf8-4e53-c96e-ef63413288fa"
   },
   "outputs": [
    {
     "data": {
      "text/html": [
       "<div>\n",
       "<style scoped>\n",
       "    .dataframe tbody tr th:only-of-type {\n",
       "        vertical-align: middle;\n",
       "    }\n",
       "\n",
       "    .dataframe tbody tr th {\n",
       "        vertical-align: top;\n",
       "    }\n",
       "\n",
       "    .dataframe thead th {\n",
       "        text-align: right;\n",
       "    }\n",
       "</style>\n",
       "<table border=\"1\" class=\"dataframe\">\n",
       "  <thead>\n",
       "    <tr style=\"text-align: right;\">\n",
       "      <th></th>\n",
       "      <th>lambda</th>\n",
       "      <th>ssr</th>\n",
       "    </tr>\n",
       "  </thead>\n",
       "  <tbody>\n",
       "    <tr>\n",
       "      <th>70</th>\n",
       "      <td>5.280973</td>\n",
       "      <td>30.084131</td>\n",
       "    </tr>\n",
       "  </tbody>\n",
       "</table>\n",
       "</div>"
      ],
      "text/plain": [
       "      lambda        ssr\n",
       "70  5.280973  30.084131"
      ]
     },
     "execution_count": 35,
     "metadata": {},
     "output_type": "execute_result"
    }
   ],
   "source": [
    "_lambda = pd.DataFrame({\n",
    "    'lambda' : alphas,\n",
    "    'ssr' : ssr_list\n",
    "})\n",
    "filter_min = _lambda['ssr'] == min(_lambda['ssr'])\n",
    "min_lambda = _lambda[filter_min]\n",
    "min_lambda"
   ]
  },
  {
   "cell_type": "code",
   "execution_count": 36,
   "metadata": {
    "id": "V7i6DVurPlaP"
   },
   "outputs": [],
   "source": [
    "weight = ridge_train(min_lambda.iloc[0,0],X_train,y_train)\n",
    "y_pred1 = ridge_fit(weight, X_test)\n",
    "#y_pred_train = ridge_fit(weight, X_train)"
   ]
  },
  {
   "cell_type": "code",
   "execution_count": 37,
   "metadata": {},
   "outputs": [
    {
     "data": {
      "text/plain": [
       "(294,)"
      ]
     },
     "execution_count": 37,
     "metadata": {},
     "output_type": "execute_result"
    }
   ],
   "source": [
    "y_pred1.shape"
   ]
  },
  {
   "cell_type": "markdown",
   "metadata": {
    "id": "SPGwv0evPlaQ"
   },
   "source": [
    "### SKLEARN"
   ]
  },
  {
   "cell_type": "code",
   "execution_count": 67,
   "metadata": {
    "id": "7Ier0aKrPlaQ",
    "outputId": "666d00aa-e45d-49d7-86d0-3a4cc354d570"
   },
   "outputs": [
    {
     "name": "stdout",
     "output_type": "stream",
     "text": [
      "The optimal alpha seems to be : 11.905\n"
     ]
    }
   ],
   "source": [
    "# Found the alpha\n",
    "ridgecv = RidgeCV(alphas = alphas, scoring = 'neg_mean_squared_error')\n",
    "ridgecv.fit(X_train, y_train)\n",
    "print(\"The optimal alpha seems to be :\",round(ridgecv.alpha_,4))\n",
    "# Train the model\n",
    "Rclf = Ridge(alpha = ridgecv.alpha_)\n",
    "trained_Rclf = Rclf.fit(X_train,y_train)\n",
    "# Prediction\n",
    "y_pred2 = trained_Rclf.predict(X_test)\n",
    "#y_pred_train = trained_Rclf.predict(X_train)"
   ]
  },
  {
   "cell_type": "code",
   "execution_count": 77,
   "metadata": {},
   "outputs": [],
   "source": [
    "SE = np.std(y_pred2)/np.sqrt(49)"
   ]
  },
  {
   "cell_type": "code",
   "execution_count": 80,
   "metadata": {},
   "outputs": [],
   "source": [
    "estimations = pd.DataFrame({\n",
    "    'var':X.columns,\n",
    "    'estimates' : ridgecv.coef_\n",
    "})\n",
    "estimations['t-stat'] = estimations['estimates']/SE"
   ]
  },
  {
   "cell_type": "code",
   "execution_count": 85,
   "metadata": {
    "scrolled": true
   },
   "outputs": [
    {
     "data": {
      "text/html": [
       "<div>\n",
       "<style scoped>\n",
       "    .dataframe tbody tr th:only-of-type {\n",
       "        vertical-align: middle;\n",
       "    }\n",
       "\n",
       "    .dataframe tbody tr th {\n",
       "        vertical-align: top;\n",
       "    }\n",
       "\n",
       "    .dataframe thead th {\n",
       "        text-align: right;\n",
       "    }\n",
       "</style>\n",
       "<table border=\"1\" class=\"dataframe\">\n",
       "  <thead>\n",
       "    <tr style=\"text-align: right;\">\n",
       "      <th></th>\n",
       "      <th>var</th>\n",
       "      <th>estimates</th>\n",
       "      <th>t-stat</th>\n",
       "    </tr>\n",
       "  </thead>\n",
       "  <tbody>\n",
       "    <tr>\n",
       "      <th>0</th>\n",
       "      <td>age</td>\n",
       "      <td>-0.110726</td>\n",
       "      <td>-4.403068</td>\n",
       "    </tr>\n",
       "    <tr>\n",
       "      <th>2</th>\n",
       "      <td>distancefromhome</td>\n",
       "      <td>0.082337</td>\n",
       "      <td>3.274182</td>\n",
       "    </tr>\n",
       "    <tr>\n",
       "      <th>4</th>\n",
       "      <td>environmentsatisfaction</td>\n",
       "      <td>-0.101043</td>\n",
       "      <td>-4.018009</td>\n",
       "    </tr>\n",
       "    <tr>\n",
       "      <th>7</th>\n",
       "      <td>jobinvolvement</td>\n",
       "      <td>-0.142875</td>\n",
       "      <td>-5.681500</td>\n",
       "    </tr>\n",
       "    <tr>\n",
       "      <th>9</th>\n",
       "      <td>jobsatisfaction</td>\n",
       "      <td>-0.105004</td>\n",
       "      <td>-4.175521</td>\n",
       "    </tr>\n",
       "    <tr>\n",
       "      <th>12</th>\n",
       "      <td>numcompaniesworked</td>\n",
       "      <td>0.141164</td>\n",
       "      <td>5.613448</td>\n",
       "    </tr>\n",
       "    <tr>\n",
       "      <th>13</th>\n",
       "      <td>overtime</td>\n",
       "      <td>0.227249</td>\n",
       "      <td>9.036661</td>\n",
       "    </tr>\n",
       "    <tr>\n",
       "      <th>18</th>\n",
       "      <td>totalworkingyears</td>\n",
       "      <td>-0.070278</td>\n",
       "      <td>-2.794621</td>\n",
       "    </tr>\n",
       "    <tr>\n",
       "      <th>19</th>\n",
       "      <td>trainingtimeslastyear</td>\n",
       "      <td>-0.052131</td>\n",
       "      <td>-2.072997</td>\n",
       "    </tr>\n",
       "    <tr>\n",
       "      <th>20</th>\n",
       "      <td>worklifebalance</td>\n",
       "      <td>-0.080910</td>\n",
       "      <td>-3.217421</td>\n",
       "    </tr>\n",
       "    <tr>\n",
       "      <th>21</th>\n",
       "      <td>yearsatcompany</td>\n",
       "      <td>0.068703</td>\n",
       "      <td>2.732003</td>\n",
       "    </tr>\n",
       "    <tr>\n",
       "      <th>22</th>\n",
       "      <td>yearsincurrentrole</td>\n",
       "      <td>-0.121201</td>\n",
       "      <td>-4.819630</td>\n",
       "    </tr>\n",
       "    <tr>\n",
       "      <th>23</th>\n",
       "      <td>yearssincelastpromotion</td>\n",
       "      <td>0.132872</td>\n",
       "      <td>5.283721</td>\n",
       "    </tr>\n",
       "    <tr>\n",
       "      <th>24</th>\n",
       "      <td>yearswithcurrmanager</td>\n",
       "      <td>-0.090597</td>\n",
       "      <td>-3.602615</td>\n",
       "    </tr>\n",
       "    <tr>\n",
       "      <th>25</th>\n",
       "      <td>businesstravel_non_travel</td>\n",
       "      <td>-0.067354</td>\n",
       "      <td>-2.678359</td>\n",
       "    </tr>\n",
       "    <tr>\n",
       "      <th>26</th>\n",
       "      <td>businesstravel_travel_frequently</td>\n",
       "      <td>0.075531</td>\n",
       "      <td>3.003506</td>\n",
       "    </tr>\n",
       "    <tr>\n",
       "      <th>36</th>\n",
       "      <td>educationfield_technical_degree</td>\n",
       "      <td>0.067806</td>\n",
       "      <td>2.696336</td>\n",
       "    </tr>\n",
       "    <tr>\n",
       "      <th>37</th>\n",
       "      <td>jobrole_healthcare_representative</td>\n",
       "      <td>-0.081395</td>\n",
       "      <td>-3.236715</td>\n",
       "    </tr>\n",
       "    <tr>\n",
       "      <th>39</th>\n",
       "      <td>jobrole_laboratory_technician</td>\n",
       "      <td>0.083859</td>\n",
       "      <td>3.334709</td>\n",
       "    </tr>\n",
       "    <tr>\n",
       "      <th>42</th>\n",
       "      <td>jobrole_research_director</td>\n",
       "      <td>-0.059862</td>\n",
       "      <td>-2.380426</td>\n",
       "    </tr>\n",
       "    <tr>\n",
       "      <th>45</th>\n",
       "      <td>jobrole_sales_representative</td>\n",
       "      <td>0.126833</td>\n",
       "      <td>5.043574</td>\n",
       "    </tr>\n",
       "    <tr>\n",
       "      <th>46</th>\n",
       "      <td>maritalstatus_divorced</td>\n",
       "      <td>-0.053606</td>\n",
       "      <td>-2.131685</td>\n",
       "    </tr>\n",
       "    <tr>\n",
       "      <th>48</th>\n",
       "      <td>maritalstatus_single</td>\n",
       "      <td>0.084660</td>\n",
       "      <td>3.366552</td>\n",
       "    </tr>\n",
       "  </tbody>\n",
       "</table>\n",
       "</div>"
      ],
      "text/plain": [
       "                                  var  estimates    t-stat\n",
       "0                                 age  -0.110726 -4.403068\n",
       "2                    distancefromhome   0.082337  3.274182\n",
       "4             environmentsatisfaction  -0.101043 -4.018009\n",
       "7                      jobinvolvement  -0.142875 -5.681500\n",
       "9                     jobsatisfaction  -0.105004 -4.175521\n",
       "12                 numcompaniesworked   0.141164  5.613448\n",
       "13                           overtime   0.227249  9.036661\n",
       "18                  totalworkingyears  -0.070278 -2.794621\n",
       "19              trainingtimeslastyear  -0.052131 -2.072997\n",
       "20                    worklifebalance  -0.080910 -3.217421\n",
       "21                     yearsatcompany   0.068703  2.732003\n",
       "22                 yearsincurrentrole  -0.121201 -4.819630\n",
       "23            yearssincelastpromotion   0.132872  5.283721\n",
       "24               yearswithcurrmanager  -0.090597 -3.602615\n",
       "25          businesstravel_non_travel  -0.067354 -2.678359\n",
       "26   businesstravel_travel_frequently   0.075531  3.003506\n",
       "36    educationfield_technical_degree   0.067806  2.696336\n",
       "37  jobrole_healthcare_representative  -0.081395 -3.236715\n",
       "39      jobrole_laboratory_technician   0.083859  3.334709\n",
       "42          jobrole_research_director  -0.059862 -2.380426\n",
       "45       jobrole_sales_representative   0.126833  5.043574\n",
       "46             maritalstatus_divorced  -0.053606 -2.131685\n",
       "48               maritalstatus_single   0.084660  3.366552"
      ]
     },
     "execution_count": 85,
     "metadata": {},
     "output_type": "execute_result"
    }
   ],
   "source": [
    "estimations[abs(estimations['t-stat']) > 1.96]"
   ]
  },
  {
   "cell_type": "code",
   "execution_count": null,
   "metadata": {},
   "outputs": [],
   "source": []
  },
  {
   "cell_type": "code",
   "execution_count": 68,
   "metadata": {},
   "outputs": [
    {
     "data": {
      "text/plain": [
       "(294,)"
      ]
     },
     "execution_count": 68,
     "metadata": {},
     "output_type": "execute_result"
    }
   ],
   "source": [
    "y_pred2.shape"
   ]
  },
  {
   "cell_type": "markdown",
   "metadata": {
    "id": "G4PB_KD2PlaQ"
   },
   "source": [
    "# LASSO"
   ]
  },
  {
   "cell_type": "code",
   "execution_count": 40,
   "metadata": {
    "id": "BPBzg35APlaQ",
    "outputId": "30a53d4f-b311-4459-b0b8-10fc39bd0815"
   },
   "outputs": [
    {
     "name": "stdout",
     "output_type": "stream",
     "text": [
      "The optimal alpha seems to be :  0.0013\n"
     ]
    }
   ],
   "source": [
    "lassocv = LassoCV(alphas = None, cv = 10, max_iter = 10000)\n",
    "lassocv.fit(X_train, y_train)\n",
    "# Optimal alpha\n",
    "print(\"The optimal alpha seems to be : \", round(lassocv.alpha_,4))"
   ]
  },
  {
   "cell_type": "code",
   "execution_count": 41,
   "metadata": {
    "id": "mFVe_EUyPlaR"
   },
   "outputs": [],
   "source": [
    "lasso = Lasso(max_iter = 100000)\n",
    "# Train the model\n",
    "lasso.set_params(alpha=lassocv.alpha_)\n",
    "lasso.fit(X_train, y_train)\n",
    "# Prediction\n",
    "y_pred3 = lasso.predict(X_test)\n",
    "y_pred_train = lasso.predict(X_train)"
   ]
  },
  {
   "cell_type": "code",
   "execution_count": 42,
   "metadata": {},
   "outputs": [
    {
     "data": {
      "text/plain": [
       "(294,)"
      ]
     },
     "execution_count": 42,
     "metadata": {},
     "output_type": "execute_result"
    }
   ],
   "source": [
    "y_pred3.shape"
   ]
  },
  {
   "cell_type": "markdown",
   "metadata": {
    "id": "AJobGw-fQ1nr"
   },
   "source": [
    "## Non-linear data"
   ]
  },
  {
   "cell_type": "markdown",
   "metadata": {},
   "source": [
    "### Using GIC"
   ]
  },
  {
   "cell_type": "code",
   "execution_count": 43,
   "metadata": {},
   "outputs": [],
   "source": [
    "N = X_train_nl.shape[0]\n",
    "k = X_train_nl.shape[1]\n",
    "nobs = N\n",
    "nobs2 = nobs / 2.0\n",
    "nobs = float(nobs)"
   ]
  },
  {
   "cell_type": "code",
   "execution_count": 44,
   "metadata": {},
   "outputs": [
    {
     "data": {
      "application/vnd.jupyter.widget-view+json": {
       "model_id": "16fe1cdc1a424c77bc511d12be56eea8",
       "version_major": 2,
       "version_minor": 0
      },
      "text/plain": [
       "Progess :   0%|          | 0/100 [00:00<?, ?it/s]"
      ]
     },
     "metadata": {},
     "output_type": "display_data"
    }
   ],
   "source": [
    "bic_list =[]\n",
    "aic_list = []\n",
    "\n",
    "for a in tqdm(alphas, total =len(alphas), desc = 'Progess ' ):\n",
    "    #Compute the prediction\n",
    "    weight = ridge_train(a,X_train_nl,y_train_nl)\n",
    "    predict = ridge_fit(weight, X_test_nl) \n",
    "    \n",
    "    #Recoder \n",
    "    predictR = predict.tolist()\n",
    "    predictR = [0 if x<0 else x for x in predictR]\n",
    "    \n",
    "    #Compute the residuals\n",
    "    res = y_test_nl - predictR\n",
    "    ssr = np.sum(res ** 2)\n",
    "    #Compute the log-likelihood\n",
    "    llf = -nobs2 * np.log(2 * np.pi) - nobs2 * np.log(ssr / nobs) - nobs2\n",
    "    #Compute the BIC criterion\n",
    "    bic = -2*llf +k*np.log(N)\n",
    "    aic = -2*llf + 2*k \n",
    "\n",
    "    bic_list.append(bic)\n",
    "    aic_list.append(aic)"
   ]
  },
  {
   "cell_type": "code",
   "execution_count": 45,
   "metadata": {},
   "outputs": [],
   "source": [
    "_lambda = pd.DataFrame({\n",
    "    'lambda' : alphas,\n",
    "    'bic' : bic_list,\n",
    "    'aic' : aic_list,\n",
    "})\n",
    "filter_minB = _lambda['bic'] == min(_lambda['bic'])\n",
    "filter_minA = _lambda['aic'] == min(_lambda['aic'])\n",
    "\n",
    "min_lambdaB = _lambda[filter_minB]\n",
    "min_lambdaA = _lambda[filter_minA]"
   ]
  },
  {
   "cell_type": "code",
   "execution_count": 46,
   "metadata": {},
   "outputs": [
    {
     "name": "stdout",
     "output_type": "stream",
     "text": [
      "      lambda         bic         aic\n",
      "91  0.958037 -368.906669 -850.544711\n",
      "      lambda         bic         aic\n",
      "91  0.958037 -368.906669 -850.544711\n"
     ]
    }
   ],
   "source": [
    "print(min_lambdaB)\n",
    "print(min_lambdaA)"
   ]
  },
  {
   "cell_type": "code",
   "execution_count": 47,
   "metadata": {},
   "outputs": [],
   "source": [
    "weight = ridge_train(min_lambdaA.iloc[0,0],X_train_nl,y_train_nl)\n",
    "y_pred01 = ridge_fit(weight, X_test_nl)"
   ]
  },
  {
   "cell_type": "code",
   "execution_count": 48,
   "metadata": {},
   "outputs": [
    {
     "data": {
      "text/plain": [
       "(294,)"
      ]
     },
     "execution_count": 48,
     "metadata": {},
     "output_type": "execute_result"
    }
   ],
   "source": [
    "y_pred01.shape"
   ]
  },
  {
   "cell_type": "markdown",
   "metadata": {
    "id": "WzygPUfHRdV6"
   },
   "source": [
    "### Using cross-validation to optimize the SSR"
   ]
  },
  {
   "cell_type": "code",
   "execution_count": 49,
   "metadata": {
    "id": "2EiQSz5ERZMe"
   },
   "outputs": [
    {
     "data": {
      "application/vnd.jupyter.widget-view+json": {
       "model_id": "8ba32ade775a4c339c6780ce2be67047",
       "version_major": 2,
       "version_minor": 0
      },
      "text/plain": [
       "Progess :   0%|          | 0/100 [00:00<?, ?it/s]"
      ]
     },
     "metadata": {},
     "output_type": "display_data"
    }
   ],
   "source": [
    "k=10\n",
    "kf = KFold(n_splits=k, random_state=None)\n",
    "\n",
    "ssr_list = []\n",
    "for a in tqdm(alphas, total =len(alphas), desc = 'Progess ' ):\n",
    "    ssr_score = []\n",
    "    for train_index , test_index in kf.split(X_nl):\n",
    "        Xtrain_nl , Xtest_nl = X_nl.iloc[train_index,:],X_nl.iloc[test_index,:]\n",
    "        ytrain_nl , ytest_nl = y[train_index] , y[test_index]\n",
    "        #Compute the prediction\n",
    "        weight = ridge_train(a,Xtrain_nl,ytrain_nl)\n",
    "        predict = ridge_fit(weight, Xtest_nl) \n",
    "        #Recoder \n",
    "        predictR = predict.tolist()\n",
    "        predictR = [0 if x<0 else x for x in predictR]\n",
    "        #Compute the residuals\n",
    "        res = ytest_nl - predictR\n",
    "        ssr = np.sum(res ** 2)\n",
    "        ssr_score.append(ssr)\n",
    "    avg_ssr_score = sum(ssr_score)/k\n",
    "    ssr_list.append(avg_ssr_score)"
   ]
  },
  {
   "cell_type": "code",
   "execution_count": 50,
   "metadata": {
    "id": "o6RcVGXRRZPd"
   },
   "outputs": [
    {
     "data": {
      "text/html": [
       "<div>\n",
       "<style scoped>\n",
       "    .dataframe tbody tr th:only-of-type {\n",
       "        vertical-align: middle;\n",
       "    }\n",
       "\n",
       "    .dataframe tbody tr th {\n",
       "        vertical-align: top;\n",
       "    }\n",
       "\n",
       "    .dataframe thead th {\n",
       "        text-align: right;\n",
       "    }\n",
       "</style>\n",
       "<table border=\"1\" class=\"dataframe\">\n",
       "  <thead>\n",
       "    <tr style=\"text-align: right;\">\n",
       "      <th></th>\n",
       "      <th>lambda</th>\n",
       "      <th>ssr</th>\n",
       "    </tr>\n",
       "  </thead>\n",
       "  <tbody>\n",
       "    <tr>\n",
       "      <th>99</th>\n",
       "      <td>0.5</td>\n",
       "      <td>14.258152</td>\n",
       "    </tr>\n",
       "  </tbody>\n",
       "</table>\n",
       "</div>"
      ],
      "text/plain": [
       "    lambda        ssr\n",
       "99     0.5  14.258152"
      ]
     },
     "execution_count": 50,
     "metadata": {},
     "output_type": "execute_result"
    }
   ],
   "source": [
    "_lambda = pd.DataFrame({\n",
    "    'lambda' : alphas,\n",
    "    'ssr' : ssr_list\n",
    "})\n",
    "filter_min = _lambda['ssr'] == min(_lambda['ssr'])\n",
    "min_lambda = _lambda[filter_min]\n",
    "min_lambda"
   ]
  },
  {
   "cell_type": "code",
   "execution_count": 51,
   "metadata": {
    "id": "NV90-UELRZSm"
   },
   "outputs": [],
   "source": [
    "weight = ridge_train(min_lambda.iloc[0,0],X_train_nl,y_train_nl)\n",
    "y_pred4 = ridge_fit(weight, X_test_nl)\n",
    "#y_pred_train = ridge_fit(weight, X_train_nl)"
   ]
  },
  {
   "cell_type": "code",
   "execution_count": 52,
   "metadata": {},
   "outputs": [
    {
     "data": {
      "text/plain": [
       "(294,)"
      ]
     },
     "execution_count": 52,
     "metadata": {},
     "output_type": "execute_result"
    }
   ],
   "source": [
    "y_pred4.shape"
   ]
  },
  {
   "cell_type": "markdown",
   "metadata": {
    "id": "9OmZLft7SJvz"
   },
   "source": [
    "### SKLEARN"
   ]
  },
  {
   "cell_type": "code",
   "execution_count": 53,
   "metadata": {
    "id": "rt657vxISLfH"
   },
   "outputs": [
    {
     "name": "stdout",
     "output_type": "stream",
     "text": [
      "The optimal alpha seems to be : 0.5\n"
     ]
    }
   ],
   "source": [
    "# Found the alpha\n",
    "ridgecv = RidgeCV(alphas = alphas, scoring = 'neg_mean_squared_error')\n",
    "ridgecv.fit(X_train_nl, y_train_nl)\n",
    "print(\"The optimal alpha seems to be :\",round(ridgecv.alpha_,4))\n",
    "# Train the model\n",
    "Rclf = Ridge(alpha = ridgecv.alpha_)\n",
    "trained_Rclf = Rclf.fit(X_train_nl,y_train_nl)\n",
    "# Prediction\n",
    "y_pred5 = trained_Rclf.predict(X_test_nl)\n",
    "#y_pred_train = trained_Rclf.predict(X_train_nl)"
   ]
  },
  {
   "cell_type": "markdown",
   "metadata": {
    "id": "WHHRI-uCSdDU"
   },
   "source": [
    "### Lasso"
   ]
  },
  {
   "cell_type": "code",
   "execution_count": 54,
   "metadata": {
    "id": "NqxDp0_MSejZ",
    "scrolled": true
   },
   "outputs": [
    {
     "name": "stdout",
     "output_type": "stream",
     "text": [
      "The optimal alpha seems to be :  1562.5\n"
     ]
    }
   ],
   "source": [
    "lassocv = LassoCV(alphas = alphas, cv = 10, max_iter = 10000)\n",
    "lassocv.fit(X_train_nl, y_train_nl)\n",
    "# Optimal alpha\n",
    "print(\"The optimal alpha seems to be : \", round(lassocv.alpha_,4))"
   ]
  },
  {
   "cell_type": "code",
   "execution_count": 55,
   "metadata": {
    "id": "9ZK_-7wGRZWN"
   },
   "outputs": [],
   "source": [
    "lasso = Lasso(max_iter = 100000)\n",
    "# Train the model\n",
    "lasso.set_params(alpha=lassocv.alpha_)\n",
    "lasso.fit(X_train_nl, y_train_nl)\n",
    "# Prediction\n",
    "y_pred6 = lasso.predict(X_test_nl)\n",
    "#y_pred_train = lasso.predict(X_train_nl)"
   ]
  },
  {
   "cell_type": "markdown",
   "metadata": {},
   "source": [
    "# Use metrics to compare the predictions"
   ]
  },
  {
   "cell_type": "markdown",
   "metadata": {},
   "source": [
    "## Use the recall-precision curve to tune the threshold"
   ]
  },
  {
   "cell_type": "code",
   "execution_count": 56,
   "metadata": {},
   "outputs": [],
   "source": [
    "  from sklearn.metrics import precision_recall_curve"
   ]
  },
  {
   "cell_type": "code",
   "execution_count": 57,
   "metadata": {},
   "outputs": [],
   "source": [
    "def recall_precission(y_test,y_pred,model):\n",
    "    precision, recall, thresholds = precision_recall_curve(y_test,y_pred)\n",
    "    # convert to f score\n",
    "    fscore = (2 * precision * recall) / (precision + recall)\n",
    "    fscore[np.isnan(fscore)] = 0\n",
    "    #print(fscore)\n",
    "    # locate the index of the largest f score\n",
    "    ix = np.argmax(fscore)\n",
    "    optimal_threshold = thresholds[ix]\n",
    "\n",
    "    # plot the roc curve for the model\n",
    "    plt.plot(recall, precision, marker='.', label=model)\n",
    "    no_skill = len(y_test[y_test==1]) / len(y_test)\n",
    "    plt.plot([0,1], [no_skill,no_skill], linestyle='--', label='No Skill')\n",
    "    plt.scatter(recall[ix], precision[ix], marker='o', color='black', label='Best')\n",
    "    # axis labels\n",
    "    plt.xlabel('Recall')\n",
    "    plt.ylabel('Precision')\n",
    "    plt.legend()\n",
    "    # show the plot\n",
    "    plt.show()\n",
    "    \n",
    "    print(\"\\nTEST\")\n",
    "    print('Best Threshold=%f, F-Score=%.3f' % (optimal_threshold, fscore[ix]))\n",
    "    y_pred2= np.where(y_pred <= optimal_threshold , 0, 1)\n",
    "    cm = confusion_matrix(y_test, y_pred2)\n",
    "    print(\"Confusion matrix \\n\" , cm)\n",
    "    precision = cm[1,1]/sum(cm[:,1])\n",
    "    print(\"\\nPrecision : \" + str(precision))\n",
    "    recall = cm[1,1]/sum(cm[1,:])\n",
    "    print(\"Recall : \" + str(recall))\n",
    "    f1 = 2*((precision*recall)/(precision+recall))\n",
    "    print(\"F1 : \" + str(f1))\n",
    "    "
   ]
  },
  {
   "cell_type": "markdown",
   "metadata": {},
   "source": [
    "### OLS evaluation"
   ]
  },
  {
   "cell_type": "code",
   "execution_count": 58,
   "metadata": {
    "scrolled": true
   },
   "outputs": [
    {
     "data": {
      "image/png": "[encoded data removed]",
      "text/plain": [
       "<Figure size 432x288 with 1 Axes>"
      ]
     },
     "metadata": {
      "needs_background": "light"
     },
     "output_type": "display_data"
    },
    {
     "name": "stdout",
     "output_type": "stream",
     "text": [
      "\n",
      "TEST\n",
      "Best Threshold=0.399414, F-Score=0.507\n",
      "Confusion matrix \n",
      " [[239  16]\n",
      " [ 21  18]]\n",
      "\n",
      "Precision : 0.5294117647058824\n",
      "Recall : 0.46153846153846156\n",
      "F1 : 0.4931506849315069\n"
     ]
    },
    {
     "data": {
      "image/png": "[encoded data removed]",
      "text/plain": [
       "<Figure size 432x288 with 1 Axes>"
      ]
     },
     "metadata": {
      "needs_background": "light"
     },
     "output_type": "display_data"
    },
    {
     "name": "stdout",
     "output_type": "stream",
     "text": [
      "\n",
      "TEST\n",
      "Best Threshold=0.390625, F-Score=0.495\n",
      "Confusion matrix \n",
      " [[224  31]\n",
      " [ 17  22]]\n",
      "\n",
      "Precision : 0.41509433962264153\n",
      "Recall : 0.5641025641025641\n",
      "F1 : 0.4782608695652174\n"
     ]
    }
   ],
   "source": [
    "ols_1 = recall_precission(y_test,y_pred_ols,'Ordinary least square')\n",
    "ols_2 = recall_precission(y_test_nl,y_pred_ols_nl,'Ordinary least square (nl)')"
   ]
  },
  {
   "cell_type": "markdown",
   "metadata": {},
   "source": [
    "### PCR evaluation"
   ]
  },
  {
   "cell_type": "code",
   "execution_count": 59,
   "metadata": {
    "scrolled": true
   },
   "outputs": [
    {
     "name": "stderr",
     "output_type": "stream",
     "text": [
      "<ipython-input-57-f51ce60b20a7>:4: RuntimeWarning: invalid value encountered in true_divide\n",
      "  fscore = (2 * precision * recall) / (precision + recall)\n"
     ]
    },
    {
     "data": {
      "image/png": "[encoded data removed]",
      "text/plain": [
       "<Figure size 432x288 with 1 Axes>"
      ]
     },
     "metadata": {
      "needs_background": "light"
     },
     "output_type": "display_data"
    },
    {
     "name": "stdout",
     "output_type": "stream",
     "text": [
      "\n",
      "TEST\n",
      "Best Threshold=0.341029, F-Score=0.353\n",
      "Confusion matrix \n",
      " [[238  17]\n",
      " [ 28  11]]\n",
      "\n",
      "Precision : 0.39285714285714285\n",
      "Recall : 0.28205128205128205\n",
      "F1 : 0.32835820895522383\n"
     ]
    },
    {
     "data": {
      "image/png": "[encoded data removed]",
      "text/plain": [
       "<Figure size 432x288 with 1 Axes>"
      ]
     },
     "metadata": {
      "needs_background": "light"
     },
     "output_type": "display_data"
    },
    {
     "name": "stdout",
     "output_type": "stream",
     "text": [
      "\n",
      "TEST\n",
      "Best Threshold=0.309350, F-Score=0.347\n",
      "Confusion matrix \n",
      " [[232  23]\n",
      " [ 27  12]]\n",
      "\n",
      "Precision : 0.34285714285714286\n",
      "Recall : 0.3076923076923077\n",
      "F1 : 0.3243243243243243\n"
     ]
    }
   ],
   "source": [
    "pcr_1 = recall_precission(y_test,y_pred_pcr,'Principal Components Regression')\n",
    "pcr_2 = recall_precission(y_test_nl,y_pred_pcr_nl,'Principal Components Regression (nl)')"
   ]
  },
  {
   "cell_type": "markdown",
   "metadata": {},
   "source": [
    "### Penalisation evaluation"
   ]
  },
  {
   "cell_type": "code",
   "execution_count": 60,
   "metadata": {
    "scrolled": false
   },
   "outputs": [
    {
     "data": {
      "image/png": "[encoded data removed]",
      "text/plain": [
       "<Figure size 432x288 with 1 Axes>"
      ]
     },
     "metadata": {
      "needs_background": "light"
     },
     "output_type": "display_data"
    },
    {
     "name": "stdout",
     "output_type": "stream",
     "text": [
      "\n",
      "TEST\n",
      "Best Threshold=0.395724, F-Score=0.535\n",
      "Confusion matrix \n",
      " [[242  13]\n",
      " [ 21  18]]\n",
      "\n",
      "Precision : 0.5806451612903226\n",
      "Recall : 0.46153846153846156\n",
      "F1 : 0.5142857142857143\n"
     ]
    },
    {
     "data": {
      "image/png": "[encoded data removed]",
      "text/plain": [
       "<Figure size 432x288 with 1 Axes>"
      ]
     },
     "metadata": {
      "needs_background": "light"
     },
     "output_type": "display_data"
    },
    {
     "name": "stdout",
     "output_type": "stream",
     "text": [
      "\n",
      "TEST\n",
      "Best Threshold=0.392337, F-Score=0.543\n",
      "Confusion matrix \n",
      " [[243  12]\n",
      " [ 21  18]]\n",
      "\n",
      "Precision : 0.6\n",
      "Recall : 0.46153846153846156\n",
      "F1 : 0.5217391304347826\n"
     ]
    },
    {
     "data": {
      "image/png": "[encoded data removed]",
      "text/plain": [
       "<Figure size 432x288 with 1 Axes>"
      ]
     },
     "metadata": {
      "needs_background": "light"
     },
     "output_type": "display_data"
    },
    {
     "name": "stdout",
     "output_type": "stream",
     "text": [
      "\n",
      "TEST\n",
      "Best Threshold=0.388089, F-Score=0.543\n",
      "Confusion matrix \n",
      " [[243  12]\n",
      " [ 21  18]]\n",
      "\n",
      "Precision : 0.6\n",
      "Recall : 0.46153846153846156\n",
      "F1 : 0.5217391304347826\n"
     ]
    },
    {
     "data": {
      "image/png": "[encoded data removed]",
      "text/plain": [
       "<Figure size 432x288 with 1 Axes>"
      ]
     },
     "metadata": {
      "needs_background": "light"
     },
     "output_type": "display_data"
    },
    {
     "name": "stdout",
     "output_type": "stream",
     "text": [
      "\n",
      "TEST\n",
      "Best Threshold=0.387042, F-Score=0.500\n",
      "Confusion matrix \n",
      " [[243  12]\n",
      " [ 23  16]]\n",
      "\n",
      "Precision : 0.5714285714285714\n",
      "Recall : 0.41025641025641024\n",
      "F1 : 0.47761194029850745\n"
     ]
    },
    {
     "data": {
      "image/png": "[encoded data removed]",
      "text/plain": [
       "<Figure size 432x288 with 1 Axes>"
      ]
     },
     "metadata": {
      "needs_background": "light"
     },
     "output_type": "display_data"
    },
    {
     "name": "stdout",
     "output_type": "stream",
     "text": [
      "\n",
      "TEST\n",
      "Best Threshold=0.316277, F-Score=0.514\n",
      "Confusion matrix \n",
      " [[216  39]\n",
      " [ 13  26]]\n",
      "\n",
      "Precision : 0.4\n",
      "Recall : 0.6666666666666666\n",
      "F1 : 0.5\n"
     ]
    },
    {
     "data": {
      "image/png": "[encoded data removed]",
      "text/plain": [
       "<Figure size 432x288 with 1 Axes>"
      ]
     },
     "metadata": {
      "needs_background": "light"
     },
     "output_type": "display_data"
    },
    {
     "name": "stdout",
     "output_type": "stream",
     "text": [
      "\n",
      "TEST\n",
      "Best Threshold=0.303040, F-Score=0.491\n",
      "Confusion matrix \n",
      " [[211  44]\n",
      " [ 13  26]]\n",
      "\n",
      "Precision : 0.37142857142857144\n",
      "Recall : 0.6666666666666666\n",
      "F1 : 0.4770642201834863\n"
     ]
    },
    {
     "data": {
      "image/png": "[encoded data removed]",
      "text/plain": [
       "<Figure size 432x288 with 1 Axes>"
      ]
     },
     "metadata": {
      "needs_background": "light"
     },
     "output_type": "display_data"
    },
    {
     "name": "stdout",
     "output_type": "stream",
     "text": [
      "\n",
      "TEST\n",
      "Best Threshold=0.316277, F-Score=0.514\n",
      "Confusion matrix \n",
      " [[216  39]\n",
      " [ 13  26]]\n",
      "\n",
      "Precision : 0.4\n",
      "Recall : 0.6666666666666666\n",
      "F1 : 0.5\n"
     ]
    },
    {
     "data": {
      "image/png": "[encoded data removed]",
      "text/plain": [
       "<Figure size 432x288 with 1 Axes>"
      ]
     },
     "metadata": {
      "needs_background": "light"
     },
     "output_type": "display_data"
    },
    {
     "name": "stdout",
     "output_type": "stream",
     "text": [
      "\n",
      "TEST\n",
      "Best Threshold=0.168367, F-Score=0.234\n",
      "Confusion matrix \n",
      " [[255   0]\n",
      " [ 39   0]]\n",
      "\n",
      "Precision : nan\n",
      "Recall : 0.0\n",
      "F1 : nan\n"
     ]
    },
    {
     "name": "stderr",
     "output_type": "stream",
     "text": [
      "<ipython-input-57-f51ce60b20a7>:28: RuntimeWarning: invalid value encountered in longlong_scalars\n",
      "  precision = cm[1,1]/sum(cm[:,1])\n"
     ]
    }
   ],
   "source": [
    "recall_1 = recall_precission(y_test,y_pred1,'Ridge optimize by cross-validation')\n",
    "recall_2 = recall_precission(y_test,y_pred0,'Ridge optimize by GIC')\n",
    "recall_3 = recall_precission(y_test,y_pred2,'Ridge by SKlearn')\n",
    "recall_4 = recall_precission(y_test,y_pred3, 'Lasso by SKlearn')\n",
    "recall_5 = recall_precission(y_test_nl,y_pred4,'Ridge optimize by cross-validation (nl)')\n",
    "recall_6 = recall_precission(y_test_nl,y_pred01,'Ridge optimize by GIC (nl)')\n",
    "recall_7 = recall_precission(y_test_nl,y_pred5,'Ridge by SKlearn (nl)')\n",
    "recall_8 = recall_precission(y_test_nl,y_pred6, 'Lasso by SKlearn (nl)')"
   ]
  },
  {
   "cell_type": "code",
   "execution_count": 61,
   "metadata": {},
   "outputs": [],
   "source": [
    "def recall (y_test,y_pred,model) :\n",
    "    \n",
    "    precision, recall, thresholds = precision_recall_curve(y_test,y_pred)\n",
    "    # convert to f score\n",
    "    fscore = (2 * precision * recall) / (precision + recall)\n",
    "    # locate the index of the largest f score\n",
    "    ix = np.argmax(fscore)\n",
    "    # plot the roc curve for the model\n",
    "    recall_plot = plt.plot(recall, precision, marker='.', label=model)\n",
    "    plt.xlabel('Recall')\n",
    "    plt.ylabel('Precision')\n",
    "    plt.legend(bbox_to_anchor=(0.5, -0.4), loc='center', ncol=1)\n",
    "    # show the plot\n",
    "    return(recall_plot)"
   ]
  },
  {
   "cell_type": "code",
   "execution_count": 62,
   "metadata": {
    "scrolled": false
   },
   "outputs": [
    {
     "data": {
      "image/png": "[encoded data removed]",
      "text/plain": [
       "<Figure size 432x288 with 1 Axes>"
      ]
     },
     "metadata": {
      "needs_background": "light"
     },
     "output_type": "display_data"
    }
   ],
   "source": [
    "recall_1 = recall(y_test,y_pred1,'Ridge optimize by cross-validation')\n",
    "recall_2 = recall(y_test,y_pred0,'Ridge optimize by GIC')\n",
    "recall_3 = recall(y_test,y_pred2,'Ridge by SKlearn')\n",
    "recall_4 = recall(y_test,y_pred3, 'Lasso by SKlearn')\n",
    "recall_5 = recall(y_test_nl,y_pred4,'Ridge optimize by cross-validation (nl)')\n",
    "recall_6 = recall(y_test_nl,y_pred01,'Ridge optimize by GIC (nl)')\n",
    "recall_7 = recall(y_test_nl,y_pred5,'Ridge by SKlearn (nl)')\n",
    "recall_8 = recall(y_test_nl,y_pred6, 'Lasso by SKlearn (nl)')"
   ]
  },
  {
   "cell_type": "markdown",
   "metadata": {},
   "source": [
    "### Sum-up"
   ]
  },
  {
   "cell_type": "code",
   "execution_count": 65,
   "metadata": {
    "scrolled": true
   },
   "outputs": [
    {
     "data": {
      "image/png": "[encoded data removed]",
      "text/plain": [
       "<Figure size 432x288 with 1 Axes>"
      ]
     },
     "metadata": {
      "needs_background": "light"
     },
     "output_type": "display_data"
    }
   ],
   "source": [
    "recall_ols = recall(y_test_nl,y_pred_ols_nl, 'Ordinary_least_square')\n",
    "recall_ridge = recall(y_test,y_pred3,'Ridge (SKLEARN)')\n",
    "recall_pcr = recall(y_test,y_pred_pcr_nl, 'Principal component regression')"
   ]
  },
  {
   "cell_type": "code",
   "execution_count": null,
   "metadata": {},
   "outputs": [],
   "source": []
  }
 ],
 "metadata": {
  "colab": {
   "collapsed_sections": [
    "EGk3Y5IkPlZ7"
   ],
   "name": "FINAL.ipynb",
   "provenance": []
  },
  "kernelspec": {
   "display_name": "Python 3",
   "language": "python",
   "name": "python3"
  },
  "language_info": {
   "codemirror_mode": {
    "name": "ipython",
    "version": 3
   },
   "file_extension": ".py",
   "mimetype": "text/x-python",
   "name": "python",
   "nbconvert_exporter": "python",
   "pygments_lexer": "ipython3",
   "version": "3.8.8"
  }
 },
 "nbformat": 4,
 "nbformat_minor": 1
}
