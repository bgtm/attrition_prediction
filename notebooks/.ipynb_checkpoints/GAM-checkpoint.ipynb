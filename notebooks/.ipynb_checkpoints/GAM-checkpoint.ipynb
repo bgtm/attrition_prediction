{
 "cells": [
  {
   "cell_type": "markdown",
   "id": "29138f07-2614-49ef-a5d4-f3e0a3bc8454",
   "metadata": {},
   "source": [
    "# Imports"
   ]
  },
  {
   "cell_type": "code",
   "execution_count": 1,
   "id": "cbbff7ac-f01a-4727-9a9f-1b00e21672ea",
   "metadata": {},
   "outputs": [
    {
     "name": "stdout",
     "output_type": "stream",
     "text": [
      "Collecting pygam\n",
      "  Downloading pygam-0.8.0-py2.py3-none-any.whl (1.8 MB)\n",
      "Collecting progressbar2\n",
      "  Downloading progressbar2-4.0.0-py2.py3-none-any.whl (26 kB)\n",
      "Requirement already satisfied: numpy in c:\\users\\bruguet\\anaconda3\\lib\\site-packages (from pygam) (1.20.3)\n",
      "Requirement already satisfied: future in c:\\users\\bruguet\\anaconda3\\lib\\site-packages (from pygam) (0.18.2)\n",
      "Requirement already satisfied: scipy in c:\\users\\bruguet\\anaconda3\\lib\\site-packages (from pygam) (1.7.3)\n",
      "Collecting python-utils>=3.0.0\n",
      "  Downloading python_utils-3.1.0-py2.py3-none-any.whl (19 kB)\n",
      "Installing collected packages: python-utils, progressbar2, pygam\n",
      "Successfully installed progressbar2-4.0.0 pygam-0.8.0 python-utils-3.1.0\n",
      "Note: you may need to restart the kernel to use updated packages.\n"
     ]
    }
   ],
   "source": [
    "pip install pygam"
   ]
  },
  {
   "cell_type": "code",
   "execution_count": 10,
   "id": "0fc71778-2c92-4ed2-b2c3-bdfa91e2af25",
   "metadata": {},
   "outputs": [],
   "source": [
    "import matplotlib.pyplot as plt\n",
    "import numpy as np\n",
    "import os\n",
    "import pandas as pd\n",
    "import statsmodels.api as sm\n",
    "import seaborn as sns\n",
    "\n",
    "\n",
    "from pygam import LinearGAM, s, f\n",
    "from sklearn.preprocessing import MinMaxScaler\n",
    "from sklearn.linear_model import LinearRegression"
   ]
  },
  {
   "cell_type": "markdown",
   "id": "afbe3664-31a0-4701-93b2-0c5d4fa14950",
   "metadata": {},
   "source": [
    "# Data"
   ]
  },
  {
   "cell_type": "code",
   "execution_count": 6,
   "id": "f8c8390b-684a-46ca-b150-db35b4c16a8b",
   "metadata": {},
   "outputs": [],
   "source": [
    "employee = pd.read_csv('C:/py/data/attrition/employee_process.csv')"
   ]
  },
  {
   "cell_type": "code",
   "execution_count": 7,
   "id": "b8223ac0-31fd-4552-bc72-bba3357bbe7d",
   "metadata": {},
   "outputs": [],
   "source": [
    "y=employee['y']\n",
    "X=employee.drop(columns=['y'])"
   ]
  },
  {
   "cell_type": "code",
   "execution_count": 44,
   "id": "427db1d9-0d7d-4158-b40b-75ac3e4454b7",
   "metadata": {},
   "outputs": [],
   "source": [
    "from sklearn.model_selection import train_test_split\n",
    "X_train, X_test, y_train, y_test = train_test_split(X, y, test_size=0.20, random_state=42)"
   ]
  },
  {
   "cell_type": "code",
   "execution_count": 16,
   "id": "aaab1038-f90d-4e56-bc4f-e6f09000ab5e",
   "metadata": {},
   "outputs": [],
   "source": [
    "#scaler = MinMaxScaler()\n",
    "#X_train = scaler.fit_transform(X_train)\n",
    "#X_test = scaler.transform(X_test)\n",
    "\n",
    "#X_train = pd.DataFrame(X_train, columns=X.columns)\n",
    "#X_test = pd.DataFrame(X_test, columns=X.columns)"
   ]
  },
  {
   "cell_type": "code",
   "execution_count": 45,
   "id": "1a921e27-89ce-446e-b9f0-898005b3d646",
   "metadata": {},
   "outputs": [
    {
     "data": {
      "text/plain": [
       "(1176,)"
      ]
     },
     "execution_count": 45,
     "metadata": {},
     "output_type": "execute_result"
    }
   ],
   "source": [
    "X_train.shape\n",
    "y_train.shape"
   ]
  },
  {
   "cell_type": "markdown",
   "id": "115e6f59-e7fa-4c9c-8af0-42be50296883",
   "metadata": {},
   "source": [
    "# Recall of OLS estimation (without non-linearities)"
   ]
  },
  {
   "cell_type": "markdown",
   "id": "ed5cd737-84af-42f1-96ba-46fae440a15b",
   "metadata": {
    "tags": []
   },
   "source": [
    "## Estimation"
   ]
  },
  {
   "cell_type": "code",
   "execution_count": 46,
   "id": "b9ea24b8-274d-4b99-a9e3-f527db38f322",
   "metadata": {},
   "outputs": [
    {
     "data": {
      "text/html": [
       "<table class=\"simpletable\">\n",
       "<caption>OLS Regression Results</caption>\n",
       "<tr>\n",
       "  <th>Dep. Variable:</th>            <td>y</td>        <th>  R-squared:         </th> <td>   0.285</td>\n",
       "</tr>\n",
       "<tr>\n",
       "  <th>Model:</th>                   <td>OLS</td>       <th>  Adj. R-squared:    </th> <td>   0.257</td>\n",
       "</tr>\n",
       "<tr>\n",
       "  <th>Method:</th>             <td>Least Squares</td>  <th>  F-statistic:       </th> <td>   10.26</td>\n",
       "</tr>\n",
       "<tr>\n",
       "  <th>Date:</th>             <td>Sun, 03 Apr 2022</td> <th>  Prob (F-statistic):</th> <td>2.40e-56</td>\n",
       "</tr>\n",
       "<tr>\n",
       "  <th>Time:</th>                 <td>15:47:17</td>     <th>  Log-Likelihood:    </th> <td> -315.18</td>\n",
       "</tr>\n",
       "<tr>\n",
       "  <th>No. Observations:</th>      <td>  1176</td>      <th>  AIC:               </th> <td>   720.4</td>\n",
       "</tr>\n",
       "<tr>\n",
       "  <th>Df Residuals:</th>          <td>  1131</td>      <th>  BIC:               </th> <td>   948.5</td>\n",
       "</tr>\n",
       "<tr>\n",
       "  <th>Df Model:</th>              <td>    44</td>      <th>                     </th>     <td> </td>   \n",
       "</tr>\n",
       "<tr>\n",
       "  <th>Covariance Type:</th>      <td>nonrobust</td>    <th>                     </th>     <td> </td>   \n",
       "</tr>\n",
       "</table>\n",
       "<table class=\"simpletable\">\n",
       "<tr>\n",
       "                  <td></td>                     <th>coef</th>     <th>std err</th>      <th>t</th>      <th>P>|t|</th>  <th>[0.025</th>    <th>0.975]</th>  \n",
       "</tr>\n",
       "<tr>\n",
       "  <th>age</th>                               <td>   -0.0032</td> <td>    0.001</td> <td>   -2.127</td> <td> 0.034</td> <td>   -0.006</td> <td>   -0.000</td>\n",
       "</tr>\n",
       "<tr>\n",
       "  <th>dailyrate</th>                         <td>-1.822e-05</td> <td> 2.36e-05</td> <td>   -0.771</td> <td> 0.441</td> <td>-6.46e-05</td> <td> 2.81e-05</td>\n",
       "</tr>\n",
       "<tr>\n",
       "  <th>distancefromhome</th>                  <td>    0.0034</td> <td>    0.001</td> <td>    2.866</td> <td> 0.004</td> <td>    0.001</td> <td>    0.006</td>\n",
       "</tr>\n",
       "<tr>\n",
       "  <th>education</th>                         <td>    0.0070</td> <td>    0.010</td> <td>    0.738</td> <td> 0.461</td> <td>   -0.012</td> <td>    0.026</td>\n",
       "</tr>\n",
       "<tr>\n",
       "  <th>environmentsatisfaction</th>           <td>   -0.0372</td> <td>    0.009</td> <td>   -4.217</td> <td> 0.000</td> <td>   -0.054</td> <td>   -0.020</td>\n",
       "</tr>\n",
       "<tr>\n",
       "  <th>gender</th>                            <td>    0.0391</td> <td>    0.020</td> <td>    2.000</td> <td> 0.046</td> <td>    0.001</td> <td>    0.078</td>\n",
       "</tr>\n",
       "<tr>\n",
       "  <th>hourlyrate</th>                        <td> 8.372e-05</td> <td>    0.000</td> <td>    0.179</td> <td> 0.858</td> <td>   -0.001</td> <td>    0.001</td>\n",
       "</tr>\n",
       "<tr>\n",
       "  <th>jobinvolvement</th>                    <td>   -0.0522</td> <td>    0.013</td> <td>   -3.883</td> <td> 0.000</td> <td>   -0.079</td> <td>   -0.026</td>\n",
       "</tr>\n",
       "<tr>\n",
       "  <th>joblevel</th>                          <td>   -0.0055</td> <td>    0.033</td> <td>   -0.167</td> <td> 0.867</td> <td>   -0.070</td> <td>    0.059</td>\n",
       "</tr>\n",
       "<tr>\n",
       "  <th>jobsatisfaction</th>                   <td>   -0.0373</td> <td>    0.009</td> <td>   -4.275</td> <td> 0.000</td> <td>   -0.054</td> <td>   -0.020</td>\n",
       "</tr>\n",
       "<tr>\n",
       "  <th>monthlyincome</th>                     <td> 4.782e-06</td> <td>  8.6e-06</td> <td>    0.556</td> <td> 0.578</td> <td>-1.21e-05</td> <td> 2.17e-05</td>\n",
       "</tr>\n",
       "<tr>\n",
       "  <th>monthlyrate</th>                       <td> 1.041e-06</td> <td> 1.35e-06</td> <td>    0.774</td> <td> 0.439</td> <td> -1.6e-06</td> <td> 3.68e-06</td>\n",
       "</tr>\n",
       "<tr>\n",
       "  <th>numcompaniesworked</th>                <td>    0.0203</td> <td>    0.004</td> <td>    4.750</td> <td> 0.000</td> <td>    0.012</td> <td>    0.029</td>\n",
       "</tr>\n",
       "<tr>\n",
       "  <th>overtime</th>                          <td>    0.2383</td> <td>    0.021</td> <td>   11.220</td> <td> 0.000</td> <td>    0.197</td> <td>    0.280</td>\n",
       "</tr>\n",
       "<tr>\n",
       "  <th>percentsalaryhike</th>                 <td>   -0.0012</td> <td>    0.004</td> <td>   -0.282</td> <td> 0.778</td> <td>   -0.009</td> <td>    0.007</td>\n",
       "</tr>\n",
       "<tr>\n",
       "  <th>performancerating</th>                 <td>    0.0011</td> <td>    0.041</td> <td>    0.027</td> <td> 0.979</td> <td>   -0.080</td> <td>    0.082</td>\n",
       "</tr>\n",
       "<tr>\n",
       "  <th>relationshipsatisfaction</th>          <td>   -0.0147</td> <td>    0.009</td> <td>   -1.666</td> <td> 0.096</td> <td>   -0.032</td> <td>    0.003</td>\n",
       "</tr>\n",
       "<tr>\n",
       "  <th>stockoptionlevel</th>                  <td>   -0.0140</td> <td>    0.015</td> <td>   -0.939</td> <td> 0.348</td> <td>   -0.043</td> <td>    0.015</td>\n",
       "</tr>\n",
       "<tr>\n",
       "  <th>totalworkingyears</th>                 <td>   -0.0041</td> <td>    0.003</td> <td>   -1.523</td> <td> 0.128</td> <td>   -0.009</td> <td>    0.001</td>\n",
       "</tr>\n",
       "<tr>\n",
       "  <th>trainingtimeslastyear</th>             <td>   -0.0103</td> <td>    0.007</td> <td>   -1.386</td> <td> 0.166</td> <td>   -0.025</td> <td>    0.004</td>\n",
       "</tr>\n",
       "<tr>\n",
       "  <th>worklifebalance</th>                   <td>   -0.0311</td> <td>    0.014</td> <td>   -2.246</td> <td> 0.025</td> <td>   -0.058</td> <td>   -0.004</td>\n",
       "</tr>\n",
       "<tr>\n",
       "  <th>yearsatcompany</th>                    <td>    0.0082</td> <td>    0.003</td> <td>    2.424</td> <td> 0.015</td> <td>    0.002</td> <td>    0.015</td>\n",
       "</tr>\n",
       "<tr>\n",
       "  <th>yearsincurrentrole</th>                <td>   -0.0128</td> <td>    0.004</td> <td>   -2.899</td> <td> 0.004</td> <td>   -0.021</td> <td>   -0.004</td>\n",
       "</tr>\n",
       "<tr>\n",
       "  <th>yearssincelastpromotion</th>           <td>    0.0110</td> <td>    0.004</td> <td>    2.816</td> <td> 0.005</td> <td>    0.003</td> <td>    0.019</td>\n",
       "</tr>\n",
       "<tr>\n",
       "  <th>yearswithcurrmanager</th>              <td>   -0.0089</td> <td>    0.004</td> <td>   -2.024</td> <td> 0.043</td> <td>   -0.018</td> <td>   -0.000</td>\n",
       "</tr>\n",
       "<tr>\n",
       "  <th>businesstravel_non_travel</th>         <td>    0.0924</td> <td>    0.044</td> <td>    2.077</td> <td> 0.038</td> <td>    0.005</td> <td>    0.180</td>\n",
       "</tr>\n",
       "<tr>\n",
       "  <th>businesstravel_travel_frequently</th>  <td>    0.2433</td> <td>    0.043</td> <td>    5.696</td> <td> 0.000</td> <td>    0.160</td> <td>    0.327</td>\n",
       "</tr>\n",
       "<tr>\n",
       "  <th>businesstravel_travel_rarely</th>      <td>    0.1596</td> <td>    0.040</td> <td>    4.003</td> <td> 0.000</td> <td>    0.081</td> <td>    0.238</td>\n",
       "</tr>\n",
       "<tr>\n",
       "  <th>department_human_resources</th>        <td>    0.0918</td> <td>    0.102</td> <td>    0.898</td> <td> 0.370</td> <td>   -0.109</td> <td>    0.293</td>\n",
       "</tr>\n",
       "<tr>\n",
       "  <th>department_research_development</th>   <td>    0.2106</td> <td>    0.063</td> <td>    3.355</td> <td> 0.001</td> <td>    0.087</td> <td>    0.334</td>\n",
       "</tr>\n",
       "<tr>\n",
       "  <th>department_sales</th>                  <td>    0.1929</td> <td>    0.068</td> <td>    2.851</td> <td> 0.004</td> <td>    0.060</td> <td>    0.326</td>\n",
       "</tr>\n",
       "<tr>\n",
       "  <th>educationfield_human_resources</th>    <td>    0.1597</td> <td>    0.080</td> <td>    2.000</td> <td> 0.046</td> <td>    0.003</td> <td>    0.316</td>\n",
       "</tr>\n",
       "<tr>\n",
       "  <th>educationfield_life_sciences</th>      <td>    0.0453</td> <td>    0.029</td> <td>    1.566</td> <td> 0.118</td> <td>   -0.011</td> <td>    0.102</td>\n",
       "</tr>\n",
       "<tr>\n",
       "  <th>educationfield_marketing</th>          <td>    0.0723</td> <td>    0.040</td> <td>    1.812</td> <td> 0.070</td> <td>   -0.006</td> <td>    0.151</td>\n",
       "</tr>\n",
       "<tr>\n",
       "  <th>educationfield_medical</th>            <td>    0.0363</td> <td>    0.030</td> <td>    1.221</td> <td> 0.222</td> <td>   -0.022</td> <td>    0.095</td>\n",
       "</tr>\n",
       "<tr>\n",
       "  <th>educationfield_other</th>              <td>    0.0300</td> <td>    0.043</td> <td>    0.705</td> <td> 0.481</td> <td>   -0.053</td> <td>    0.113</td>\n",
       "</tr>\n",
       "<tr>\n",
       "  <th>educationfield_technical_degree</th>   <td>    0.1517</td> <td>    0.038</td> <td>    3.948</td> <td> 0.000</td> <td>    0.076</td> <td>    0.227</td>\n",
       "</tr>\n",
       "<tr>\n",
       "  <th>jobrole_healthcare_representative</th> <td>   -0.0664</td> <td>    0.046</td> <td>   -1.434</td> <td> 0.152</td> <td>   -0.157</td> <td>    0.024</td>\n",
       "</tr>\n",
       "<tr>\n",
       "  <th>jobrole_human_resources</th>           <td>    0.1983</td> <td>    0.117</td> <td>    1.696</td> <td> 0.090</td> <td>   -0.031</td> <td>    0.428</td>\n",
       "</tr>\n",
       "<tr>\n",
       "  <th>jobrole_laboratory_technician</th>     <td>    0.1287</td> <td>    0.045</td> <td>    2.878</td> <td> 0.004</td> <td>    0.041</td> <td>    0.216</td>\n",
       "</tr>\n",
       "<tr>\n",
       "  <th>jobrole_manager</th>                   <td>   -0.0179</td> <td>    0.063</td> <td>   -0.285</td> <td> 0.776</td> <td>   -0.142</td> <td>    0.106</td>\n",
       "</tr>\n",
       "<tr>\n",
       "  <th>jobrole_manufacturing_director</th>    <td>   -0.0149</td> <td>    0.046</td> <td>   -0.321</td> <td> 0.748</td> <td>   -0.106</td> <td>    0.076</td>\n",
       "</tr>\n",
       "<tr>\n",
       "  <th>jobrole_research_director</th>         <td>   -0.0771</td> <td>    0.067</td> <td>   -1.148</td> <td> 0.251</td> <td>   -0.209</td> <td>    0.055</td>\n",
       "</tr>\n",
       "<tr>\n",
       "  <th>jobrole_research_scientist</th>        <td>    0.0254</td> <td>    0.044</td> <td>    0.574</td> <td> 0.566</td> <td>   -0.061</td> <td>    0.112</td>\n",
       "</tr>\n",
       "<tr>\n",
       "  <th>jobrole_sales_executive</th>           <td>    0.0686</td> <td>    0.060</td> <td>    1.135</td> <td> 0.256</td> <td>   -0.050</td> <td>    0.187</td>\n",
       "</tr>\n",
       "<tr>\n",
       "  <th>jobrole_sales_representative</th>      <td>    0.2507</td> <td>    0.069</td> <td>    3.658</td> <td> 0.000</td> <td>    0.116</td> <td>    0.385</td>\n",
       "</tr>\n",
       "<tr>\n",
       "  <th>maritalstatus_divorced</th>            <td>    0.1082</td> <td>    0.043</td> <td>    2.489</td> <td> 0.013</td> <td>    0.023</td> <td>    0.193</td>\n",
       "</tr>\n",
       "<tr>\n",
       "  <th>maritalstatus_married</th>             <td>    0.1342</td> <td>    0.040</td> <td>    3.321</td> <td> 0.001</td> <td>    0.055</td> <td>    0.214</td>\n",
       "</tr>\n",
       "<tr>\n",
       "  <th>maritalstatus_single</th>              <td>    0.2530</td> <td>    0.041</td> <td>    6.137</td> <td> 0.000</td> <td>    0.172</td> <td>    0.334</td>\n",
       "</tr>\n",
       "</table>\n",
       "<table class=\"simpletable\">\n",
       "<tr>\n",
       "  <th>Omnibus:</th>       <td>186.896</td> <th>  Durbin-Watson:     </th> <td>   2.045</td>\n",
       "</tr>\n",
       "<tr>\n",
       "  <th>Prob(Omnibus):</th> <td> 0.000</td>  <th>  Jarque-Bera (JB):  </th> <td> 280.685</td>\n",
       "</tr>\n",
       "<tr>\n",
       "  <th>Skew:</th>          <td> 1.130</td>  <th>  Prob(JB):          </th> <td>1.12e-61</td>\n",
       "</tr>\n",
       "<tr>\n",
       "  <th>Kurtosis:</th>      <td> 3.786</td>  <th>  Cond. No.          </th> <td>1.11e+16</td>\n",
       "</tr>\n",
       "</table><br/><br/>Notes:<br/>[1] Standard Errors assume that the covariance matrix of the errors is correctly specified.<br/>[2] The smallest eigenvalue is 2.81e-21. This might indicate that there are<br/>strong multicollinearity problems or that the design matrix is singular."
      ],
      "text/plain": [
       "<class 'statsmodels.iolib.summary.Summary'>\n",
       "\"\"\"\n",
       "                            OLS Regression Results                            \n",
       "==============================================================================\n",
       "Dep. Variable:                      y   R-squared:                       0.285\n",
       "Model:                            OLS   Adj. R-squared:                  0.257\n",
       "Method:                 Least Squares   F-statistic:                     10.26\n",
       "Date:                Sun, 03 Apr 2022   Prob (F-statistic):           2.40e-56\n",
       "Time:                        15:47:17   Log-Likelihood:                -315.18\n",
       "No. Observations:                1176   AIC:                             720.4\n",
       "Df Residuals:                    1131   BIC:                             948.5\n",
       "Df Model:                          44                                         \n",
       "Covariance Type:            nonrobust                                         \n",
       "=====================================================================================================\n",
       "                                        coef    std err          t      P>|t|      [0.025      0.975]\n",
       "-----------------------------------------------------------------------------------------------------\n",
       "age                                  -0.0032      0.001     -2.127      0.034      -0.006      -0.000\n",
       "dailyrate                         -1.822e-05   2.36e-05     -0.771      0.441   -6.46e-05    2.81e-05\n",
       "distancefromhome                      0.0034      0.001      2.866      0.004       0.001       0.006\n",
       "education                             0.0070      0.010      0.738      0.461      -0.012       0.026\n",
       "environmentsatisfaction              -0.0372      0.009     -4.217      0.000      -0.054      -0.020\n",
       "gender                                0.0391      0.020      2.000      0.046       0.001       0.078\n",
       "hourlyrate                         8.372e-05      0.000      0.179      0.858      -0.001       0.001\n",
       "jobinvolvement                       -0.0522      0.013     -3.883      0.000      -0.079      -0.026\n",
       "joblevel                             -0.0055      0.033     -0.167      0.867      -0.070       0.059\n",
       "jobsatisfaction                      -0.0373      0.009     -4.275      0.000      -0.054      -0.020\n",
       "monthlyincome                      4.782e-06    8.6e-06      0.556      0.578   -1.21e-05    2.17e-05\n",
       "monthlyrate                        1.041e-06   1.35e-06      0.774      0.439    -1.6e-06    3.68e-06\n",
       "numcompaniesworked                    0.0203      0.004      4.750      0.000       0.012       0.029\n",
       "overtime                              0.2383      0.021     11.220      0.000       0.197       0.280\n",
       "percentsalaryhike                    -0.0012      0.004     -0.282      0.778      -0.009       0.007\n",
       "performancerating                     0.0011      0.041      0.027      0.979      -0.080       0.082\n",
       "relationshipsatisfaction             -0.0147      0.009     -1.666      0.096      -0.032       0.003\n",
       "stockoptionlevel                     -0.0140      0.015     -0.939      0.348      -0.043       0.015\n",
       "totalworkingyears                    -0.0041      0.003     -1.523      0.128      -0.009       0.001\n",
       "trainingtimeslastyear                -0.0103      0.007     -1.386      0.166      -0.025       0.004\n",
       "worklifebalance                      -0.0311      0.014     -2.246      0.025      -0.058      -0.004\n",
       "yearsatcompany                        0.0082      0.003      2.424      0.015       0.002       0.015\n",
       "yearsincurrentrole                   -0.0128      0.004     -2.899      0.004      -0.021      -0.004\n",
       "yearssincelastpromotion               0.0110      0.004      2.816      0.005       0.003       0.019\n",
       "yearswithcurrmanager                 -0.0089      0.004     -2.024      0.043      -0.018      -0.000\n",
       "businesstravel_non_travel             0.0924      0.044      2.077      0.038       0.005       0.180\n",
       "businesstravel_travel_frequently      0.2433      0.043      5.696      0.000       0.160       0.327\n",
       "businesstravel_travel_rarely          0.1596      0.040      4.003      0.000       0.081       0.238\n",
       "department_human_resources            0.0918      0.102      0.898      0.370      -0.109       0.293\n",
       "department_research_development       0.2106      0.063      3.355      0.001       0.087       0.334\n",
       "department_sales                      0.1929      0.068      2.851      0.004       0.060       0.326\n",
       "educationfield_human_resources        0.1597      0.080      2.000      0.046       0.003       0.316\n",
       "educationfield_life_sciences          0.0453      0.029      1.566      0.118      -0.011       0.102\n",
       "educationfield_marketing              0.0723      0.040      1.812      0.070      -0.006       0.151\n",
       "educationfield_medical                0.0363      0.030      1.221      0.222      -0.022       0.095\n",
       "educationfield_other                  0.0300      0.043      0.705      0.481      -0.053       0.113\n",
       "educationfield_technical_degree       0.1517      0.038      3.948      0.000       0.076       0.227\n",
       "jobrole_healthcare_representative    -0.0664      0.046     -1.434      0.152      -0.157       0.024\n",
       "jobrole_human_resources               0.1983      0.117      1.696      0.090      -0.031       0.428\n",
       "jobrole_laboratory_technician         0.1287      0.045      2.878      0.004       0.041       0.216\n",
       "jobrole_manager                      -0.0179      0.063     -0.285      0.776      -0.142       0.106\n",
       "jobrole_manufacturing_director       -0.0149      0.046     -0.321      0.748      -0.106       0.076\n",
       "jobrole_research_director            -0.0771      0.067     -1.148      0.251      -0.209       0.055\n",
       "jobrole_research_scientist            0.0254      0.044      0.574      0.566      -0.061       0.112\n",
       "jobrole_sales_executive               0.0686      0.060      1.135      0.256      -0.050       0.187\n",
       "jobrole_sales_representative          0.2507      0.069      3.658      0.000       0.116       0.385\n",
       "maritalstatus_divorced                0.1082      0.043      2.489      0.013       0.023       0.193\n",
       "maritalstatus_married                 0.1342      0.040      3.321      0.001       0.055       0.214\n",
       "maritalstatus_single                  0.2530      0.041      6.137      0.000       0.172       0.334\n",
       "==============================================================================\n",
       "Omnibus:                      186.896   Durbin-Watson:                   2.045\n",
       "Prob(Omnibus):                  0.000   Jarque-Bera (JB):              280.685\n",
       "Skew:                           1.130   Prob(JB):                     1.12e-61\n",
       "Kurtosis:                       3.786   Cond. No.                     1.11e+16\n",
       "==============================================================================\n",
       "\n",
       "Notes:\n",
       "[1] Standard Errors assume that the covariance matrix of the errors is correctly specified.\n",
       "[2] The smallest eigenvalue is 2.81e-21. This might indicate that there are\n",
       "strong multicollinearity problems or that the design matrix is singular.\n",
       "\"\"\""
      ]
     },
     "execution_count": 46,
     "metadata": {},
     "output_type": "execute_result"
    }
   ],
   "source": [
    "mod = sm.OLS(list(y_train), X_train)\n",
    "res1 = mod.fit()\n",
    "res1.summary()"
   ]
  },
  {
   "cell_type": "markdown",
   "id": "b044a4bb-7eec-40b6-b1df-131ba4e15e67",
   "metadata": {},
   "source": [
    "## Residuals analysis"
   ]
  },
  {
   "cell_type": "code",
   "execution_count": 47,
   "id": "422c62f1-c6cb-437f-9be8-1f8eb9620f21",
   "metadata": {},
   "outputs": [
    {
     "data": {
      "text/plain": [
       "count   1176.0000\n",
       "mean      -0.0000\n",
       "std        0.3165\n",
       "min       -0.6223\n",
       "25%       -0.2070\n",
       "50%       -0.0689\n",
       "75%        0.0986\n",
       "max        1.1755\n",
       "dtype: float64"
      ]
     },
     "execution_count": 47,
     "metadata": {},
     "output_type": "execute_result"
    }
   ],
   "source": [
    "pd.options.display.float_format = \"{:.4f}\".format\n",
    "res1.resid.describe()"
   ]
  },
  {
   "cell_type": "code",
   "execution_count": 48,
   "id": "4f611219-f1cf-4195-8b0f-e0b0c90d3222",
   "metadata": {},
   "outputs": [
    {
     "name": "stderr",
     "output_type": "stream",
     "text": [
      "C:\\Users\\Bruguet\\anaconda3\\lib\\site-packages\\seaborn\\distributions.py:2619: FutureWarning: `distplot` is a deprecated function and will be removed in a future version. Please adapt your code to use either `displot` (a figure-level function with similar flexibility) or `histplot` (an axes-level function for histograms).\n",
      "  warnings.warn(msg, FutureWarning)\n"
     ]
    },
    {
     "data": {
      "text/plain": [
       "Text(0, 0.5, 'Density')"
      ]
     },
     "execution_count": 48,
     "metadata": {},
     "output_type": "execute_result"
    },
    {
     "data": {
      "image/png": "[encoded data removed]",
      "text/plain": [
       "<Figure size 576x576 with 1 Axes>"
      ]
     },
     "metadata": {},
     "output_type": "display_data"
    }
   ],
   "source": [
    "plt.figure(figsize=(8,8))\n",
    "sns.set(style=\"ticks\", color_codes=True)\n",
    "sns.distplot(res1.resid, hist=True, kde=True, kde_kws = {'shade': True, 'linewidth' : 1},\n",
    "             bins=50, color = 'orange',\n",
    "             hist_kws={'edgecolor':'black'})\n",
    "plt.title('Residual distribution')\n",
    "plt.xlabel('Residual')\n",
    "plt.ylabel('Density')"
   ]
  },
  {
   "cell_type": "markdown",
   "id": "ca39beba-24e0-4659-9a47-b28bc0fcfac2",
   "metadata": {},
   "source": [
    "# Use of GAM to identify non-linearities "
   ]
  },
  {
   "cell_type": "code",
   "execution_count": 49,
   "id": "15fa65ef-4de9-4837-af15-939efe808213",
   "metadata": {},
   "outputs": [],
   "source": [
    "n_features = 49 # number of features used in the model\n",
    "lams = np.logspace(-49,49,20)\n",
    "splines = 12 # number of splines we will use\n",
    "\n",
    "end = X_train.shape[0]-2"
   ]
  },
  {
   "cell_type": "code",
   "execution_count": 50,
   "id": "b16bfe97-fbd0-4f99-a35d-f18f98402ebd",
   "metadata": {},
   "outputs": [
    {
     "name": "stderr",
     "output_type": "stream",
     "text": [
      "100% (20 of 20) |########################| Elapsed Time: 0:00:30 Time:  0:00:30\n"
     ]
    },
    {
     "name": "stdout",
     "output_type": "stream",
     "text": [
      "LinearGAM                                                                                                 \n",
      "=============================================== ==========================================================\n",
      "Distribution:                        NormalDist Effective DoF:                                     44.9648\n",
      "Link Function:                     IdentityLink Log Likelihood:                                  -2837.551\n",
      "Number of Samples:                         1174 AIC:                                             5767.0315\n",
      "                                                AICc:                                            5770.8623\n",
      "                                                GCV:                                                0.1485\n",
      "                                                Scale:                                              0.1383\n",
      "                                                Pseudo R-Squared:                                   0.0356\n",
      "==========================================================================================================\n",
      "Feature Function                  Lambda               Rank         EDoF         P > x        Sig. Code   \n",
      "================================= ==================== ============ ============ ============ ============\n",
      "s(0)                              [7.8475997e+12]      20           2.9          6.17e-01                 \n",
      "s(1)                              [7.8475997e+12]      20           1.6          7.69e-01                 \n",
      "s(2)                              [7.8475997e+12]      20           1.6          3.50e-01                 \n",
      "s(3)                              [7.8475997e+12]      20           1.6          5.99e-01                 \n",
      "s(4)                              [7.8475997e+12]      20           1.6          2.02e-02     *           \n",
      "s(5)                              [7.8475997e+12]      20           1.4          9.55e-01                 \n",
      "s(6)                              [7.8475997e+12]      20           1.6          9.79e-01                 \n",
      "s(7)                              [7.8475997e+12]      20           1.6          9.22e-01                 \n",
      "s(8)                              [7.8475997e+12]      20           2.0          8.72e-09     ***         \n",
      "s(9)                              [7.8475997e+12]      20           1.5          8.34e-01                 \n",
      "s(10)                             [7.8475997e+12]      20           2.1          1.11e-16     ***         \n",
      "s(11)                             [7.8475997e+12]      20           1.3          6.52e-01                 \n",
      "s(12)                             [7.8475997e+12]      20           1.4          8.16e-01                 \n",
      "s(13)                             [7.8475997e+12]      20           1.2          9.69e-01                 \n",
      "s(14)                             [7.8475997e+12]      20           2.0          8.00e-03     **          \n",
      "s(15)                             [7.8475997e+12]      20           0.4          8.68e-01                 \n",
      "s(16)                             [7.8475997e+12]      20           1.3          9.79e-01                 \n",
      "s(17)                             [7.8475997e+12]      20           1.4          9.94e-01                 \n",
      "s(18)                             [7.8475997e+12]      20           1.3          7.84e-01                 \n",
      "s(19)                             [7.8475997e+12]      20           1.1          9.25e-01                 \n",
      "s(20)                             [7.8475997e+12]      20           1.0          8.42e-03     **          \n",
      "s(21)                             [7.8475997e+12]      20           1.0          8.77e-04     ***         \n",
      "s(22)                             [7.8475997e+12]      20           0.8          6.70e-06     ***         \n",
      "s(23)                             [7.8475997e+12]      20           0.8          8.97e-02     .           \n",
      "s(24)                             [7.8475997e+12]      20           0.7          4.75e-07     ***         \n",
      "s(25)                             [7.8475997e+12]      20           0.8          9.61e-02     .           \n",
      "s(26)                             [7.8475997e+12]      20           0.8          7.98e-01                 \n",
      "s(27)                             [7.8475997e+12]      20           0.3          2.05e-01                 \n",
      "s(28)                             [7.8475997e+12]      20           0.7          9.47e-01                 \n",
      "s(29)                             [7.8475997e+12]      20           0.7          2.89e-02     *           \n",
      "s(30)                             [7.8475997e+12]      20           0.2          4.64e-02     *           \n",
      "s(31)                             [7.8475997e+12]      20           0.7          1.70e-06     ***         \n",
      "s(32)                             [7.8475997e+12]      20           0.7          6.60e-01                 \n",
      "s(33)                             [7.8475997e+12]      20           0.6          1.55e-01                 \n",
      "s(34)                             [7.8475997e+12]      20           0.6          7.21e-01                 \n",
      "s(35)                             [7.8475997e+12]      20           0.5          2.66e-01                 \n",
      "s(36)                             [7.8475997e+12]      20           0.2          9.94e-01                 \n",
      "s(37)                             [7.8475997e+12]      20           0.5          6.37e-01                 \n",
      "s(38)                             [7.8475997e+12]      20           0.4          1.73e-02     *           \n",
      "s(39)                             [7.8475997e+12]      20           0.4          1.71e-01                 \n",
      "s(40)                             [7.8475997e+12]      20           0.3          3.65e-04     ***         \n",
      "s(41)                             [7.8475997e+12]      20           0.3          7.10e-01                 \n",
      "s(42)                             [7.8475997e+12]      20           0.1          7.01e-01                 \n",
      "s(43)                             [7.8475997e+12]      20           0.3          5.34e-01                 \n",
      "s(44)                             [7.8475997e+12]      20           0.2          6.77e-01                 \n",
      "s(45)                             [7.8475997e+12]      20           0.0          9.76e-01                 \n",
      "s(46)                             [7.8475997e+12]      20           0.2          9.68e-01                 \n",
      "s(47)                             [7.8475997e+12]      20           0.1          6.69e-01                 \n",
      "s(48)                             [7.8475997e+12]      20           0.0          7.62e-01                 \n",
      "intercept                                              1            0.0          2.34e-03     **          \n",
      "==========================================================================================================\n",
      "Significance codes:  0 '***' 0.001 '**' 0.01 '*' 0.05 '.' 0.1 ' ' 1\n",
      "\n",
      "WARNING: Fitting splines and a linear function to a feature introduces a model identifiability problem\n",
      "         which can cause p-values to appear significant when they are not.\n",
      "\n",
      "WARNING: p-values calculated in this manner behave correctly for un-penalized models or models with\n",
      "         known smoothing parameters, but when smoothing parameters have been estimated, the p-values\n",
      "         are typically lower than they should be, meaning that the tests reject the null too readily.\n"
     ]
    },
    {
     "name": "stderr",
     "output_type": "stream",
     "text": [
      "C:\\Users\\Bruguet\\AppData\\Local\\Temp\\ipykernel_56332\\782214206.py:4: UserWarning: KNOWN BUG: p-values computed in this summary are likely much smaller than they should be. \n",
      " \n",
      "Please do not make inferences based on these values! \n",
      "\n",
      "Collaborate on a solution, and stay up to date at: \n",
      "github.com/dswah/pyGAM/issues/163 \n",
      "\n",
      "  gam.summary()\n"
     ]
    }
   ],
   "source": [
    "gam = LinearGAM().gridsearch(X_train.iloc[:end].values,\n",
    "                                                   y.iloc[:end].values,\n",
    "                                                  lam=lams)\n",
    "gam.summary()"
   ]
  },
  {
   "cell_type": "code",
   "execution_count": null,
   "id": "db65e7c9-4ce4-4c5e-93d2-92b346e2731e",
   "metadata": {},
   "outputs": [],
   "source": []
  }
 ],
 "metadata": {
  "kernelspec": {
   "display_name": "Python 3 (ipykernel)",
   "language": "python",
   "name": "python3"
  },
  "language_info": {
   "codemirror_mode": {
    "name": "ipython",
    "version": 3
   },
   "file_extension": ".py",
   "mimetype": "text/x-python",
   "name": "python",
   "nbconvert_exporter": "python",
   "pygments_lexer": "ipython3",
   "version": "3.8.12"
  }
 },
 "nbformat": 4,
 "nbformat_minor": 5
}
