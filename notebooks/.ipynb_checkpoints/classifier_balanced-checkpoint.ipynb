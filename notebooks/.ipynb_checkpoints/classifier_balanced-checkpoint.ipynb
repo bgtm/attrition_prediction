{
 "cells": [
  {
   "cell_type": "markdown",
   "metadata": {
    "id": "aQgiCvGgzMtJ"
   },
   "source": [
    "# Imports"
   ]
  },
  {
   "cell_type": "code",
   "execution_count": 1,
   "metadata": {
    "colab": {
     "base_uri": "https://localhost:8080/"
    },
    "id": "u_3m-yjpBEZV",
    "outputId": "eaa139dc-f0b0-412e-e3fd-23d0829d4397"
   },
   "outputs": [
    {
     "name": "stdout",
     "output_type": "stream",
     "text": [
      "Requirement already satisfied: sklearn in c:\\users\\bruguet\\anaconda3\\lib\\site-packages (0.0)\n",
      "Requirement already satisfied: scikit-learn in c:\\users\\bruguet\\anaconda3\\lib\\site-packages (from sklearn) (1.0.2)\n",
      "Requirement already satisfied: threadpoolctl>=2.0.0 in c:\\users\\bruguet\\anaconda3\\lib\\site-packages (from scikit-learn->sklearn) (2.2.0)\n",
      "Requirement already satisfied: scipy>=1.1.0 in c:\\users\\bruguet\\anaconda3\\lib\\site-packages (from scikit-learn->sklearn) (1.7.3)\n",
      "Requirement already satisfied: numpy>=1.14.6 in c:\\users\\bruguet\\anaconda3\\lib\\site-packages (from scikit-learn->sklearn) (1.20.3)\n",
      "Requirement already satisfied: joblib>=0.11 in c:\\users\\bruguet\\anaconda3\\lib\\site-packages (from scikit-learn->sklearn) (1.1.0)\n"
     ]
    }
   ],
   "source": [
    "!pip install sklearn --upgrade"
   ]
  },
  {
   "cell_type": "code",
   "execution_count": 1,
   "metadata": {},
   "outputs": [],
   "source": [
    "import pandas as pd\n",
    "import seaborn as sns\n",
    "import matplotlib.pyplot as plt\n",
    "import numpy as np\n",
    "import os \n",
    "from sklearn.preprocessing import MinMaxScaler\n",
    "from sklearn.linear_model import LinearRegression,LogisticRegression\n",
    "from sklearn.tree import DecisionTreeClassifier\n",
    "from sklearn.svm import SVC\n",
    "from sklearn.neighbors import KNeighborsClassifier\n",
    "\n",
    "from sklearn.ensemble import RandomForestClassifier\n",
    "from sklearn.utils import resample,shuffle\n",
    "from sklearn.model_selection import RandomizedSearchCV\n",
    "\n",
    "from sklearn.model_selection import train_test_split"
   ]
  },
  {
   "cell_type": "markdown",
   "metadata": {
    "id": "F7g_eir1zMtQ"
   },
   "source": [
    "# Loading data"
   ]
  },
  {
   "cell_type": "code",
   "execution_count": 2,
   "metadata": {},
   "outputs": [],
   "source": [
    "employee= pd.read_csv('C:/py/data/attrition/employee_process.csv')"
   ]
  },
  {
   "cell_type": "code",
   "execution_count": 46,
   "metadata": {},
   "outputs": [
    {
     "data": {
      "text/plain": [
       "Index(['age', 'y', 'dailyrate', 'distancefromhome', 'education',\n",
       "       'environmentsatisfaction', 'gender', 'hourlyrate', 'jobinvolvement',\n",
       "       'joblevel', 'jobsatisfaction', 'monthlyincome', 'monthlyrate',\n",
       "       'numcompaniesworked', 'overtime', 'percentsalaryhike',\n",
       "       'performancerating', 'relationshipsatisfaction', 'stockoptionlevel',\n",
       "       'totalworkingyears', 'trainingtimeslastyear', 'worklifebalance',\n",
       "       'yearsatcompany', 'yearsincurrentrole', 'yearssincelastpromotion',\n",
       "       'yearswithcurrmanager', 'businesstravel_non_travel',\n",
       "       'businesstravel_travel_frequently', 'businesstravel_travel_rarely',\n",
       "       'department_human_resources', 'department_research_development',\n",
       "       'department_sales', 'educationfield_human_resources',\n",
       "       'educationfield_life_sciences', 'educationfield_marketing',\n",
       "       'educationfield_medical', 'educationfield_other',\n",
       "       'educationfield_technical_degree', 'jobrole_healthcare_representative',\n",
       "       'jobrole_human_resources', 'jobrole_laboratory_technician',\n",
       "       'jobrole_manager', 'jobrole_manufacturing_director',\n",
       "       'jobrole_research_director', 'jobrole_research_scientist',\n",
       "       'jobrole_sales_executive', 'jobrole_sales_representative',\n",
       "       'maritalstatus_divorced', 'maritalstatus_married',\n",
       "       'maritalstatus_single'],\n",
       "      dtype='object')"
      ]
     },
     "execution_count": 46,
     "metadata": {},
     "output_type": "execute_result"
    }
   ],
   "source": [
    "employee.columns"
   ]
  },
  {
   "cell_type": "code",
   "execution_count": 3,
   "metadata": {},
   "outputs": [],
   "source": [
    "y=employee['y']\n",
    "X=employee.drop(columns=['y'])"
   ]
  },
  {
   "cell_type": "markdown",
   "metadata": {},
   "source": [
    "### Split into train and test subsample"
   ]
  },
  {
   "cell_type": "code",
   "execution_count": 4,
   "metadata": {},
   "outputs": [
    {
     "data": {
      "text/plain": [
       "'\\n# Use the normalized data : Xn\\nX_train, X_test, y_train, y_test = train_test_split(X, y, test_size=0.20, random_state=42)'"
      ]
     },
     "execution_count": 4,
     "metadata": {},
     "output_type": "execute_result"
    }
   ],
   "source": [
    "'''\n",
    "# Use the normalized data : Xn\n",
    "X_train, X_test, y_train, y_test = train_test_split(X, y, test_size=0.20, random_state=42)'''"
   ]
  },
  {
   "cell_type": "code",
   "execution_count": 5,
   "metadata": {},
   "outputs": [],
   "source": [
    "train,test = train_test_split(employee, test_size=0.20, random_state=42)"
   ]
  },
  {
   "cell_type": "code",
   "execution_count": 6,
   "metadata": {},
   "outputs": [
    {
     "name": "stdout",
     "output_type": "stream",
     "text": [
      "(1176, 50)\n",
      "(978, 50)\n",
      "(198, 50)\n"
     ]
    }
   ],
   "source": [
    "train_1 = train[train['y']==1]\n",
    "train_0 = train[train['y']==0]\n",
    "print(train.shape)\n",
    "print(train_0.shape)\n",
    "print(train_1.shape)"
   ]
  },
  {
   "cell_type": "code",
   "execution_count": 7,
   "metadata": {},
   "outputs": [
    {
     "data": {
      "text/plain": [
       "(898, 50)"
      ]
     },
     "execution_count": 7,
     "metadata": {},
     "output_type": "execute_result"
    }
   ],
   "source": [
    "augmentation = resample(train_1,random_state=42,n_samples=700,replace=True)\n",
    "train_1 = pd.concat([augmentation,train_1])\n",
    "train_1.shape"
   ]
  },
  {
   "cell_type": "code",
   "execution_count": 8,
   "metadata": {},
   "outputs": [
    {
     "data": {
      "text/plain": [
       "(1876, 50)"
      ]
     },
     "execution_count": 8,
     "metadata": {},
     "output_type": "execute_result"
    }
   ],
   "source": [
    "train_aug = pd.concat([train_0,train_1])\n",
    "train_aug.shape"
   ]
  },
  {
   "cell_type": "code",
   "execution_count": 9,
   "metadata": {},
   "outputs": [
    {
     "data": {
      "text/plain": [
       "<AxesSubplot:>"
      ]
     },
     "execution_count": 9,
     "metadata": {},
     "output_type": "execute_result"
    },
    {
     "data": {
      "image/png": "[encoded data removed]",
      "text/plain": [
       "<Figure size 432x288 with 1 Axes>"
      ]
     },
     "metadata": {
      "needs_background": "light"
     },
     "output_type": "display_data"
    }
   ],
   "source": [
    "train_aug['y'].hist()"
   ]
  },
  {
   "cell_type": "code",
   "execution_count": 10,
   "metadata": {},
   "outputs": [],
   "source": [
    "y_test=test['y']\n",
    "X_test=test.drop(columns=['y'])\n",
    "y_train=train_aug['y']\n",
    "X_train=train_aug.drop(columns=['y'])"
   ]
  },
  {
   "cell_type": "code",
   "execution_count": 11,
   "metadata": {},
   "outputs": [
    {
     "name": "stdout",
     "output_type": "stream",
     "text": [
      "(1876, 49)\n",
      "(1876,)\n",
      "(294, 49)\n",
      "(294,)\n"
     ]
    }
   ],
   "source": [
    "print(X_train.shape)\n",
    "print(y_train.shape)\n",
    "print(X_test.shape)\n",
    "print(y_test.shape)"
   ]
  },
  {
   "cell_type": "code",
   "execution_count": 12,
   "metadata": {},
   "outputs": [],
   "source": [
    "scaler = MinMaxScaler()\n",
    "X_train = scaler.fit_transform(X_train)\n",
    "X_test = scaler.transform(X_test)"
   ]
  },
  {
   "cell_type": "code",
   "execution_count": 13,
   "metadata": {},
   "outputs": [],
   "source": [
    "X_train = pd.DataFrame(X_train, columns=X.columns)\n",
    "X_test = pd.DataFrame(X_test, columns=X.columns)"
   ]
  },
  {
   "cell_type": "markdown",
   "metadata": {
    "id": "E5hssF11L_q1"
   },
   "source": [
    "# Defition of the metrics function "
   ]
  },
  {
   "cell_type": "code",
   "execution_count": 44,
   "metadata": {},
   "outputs": [],
   "source": [
    "from sklearn.metrics import confusion_matrix\n",
    "from sklearn.metrics import recall_score\n",
    "from sklearn.metrics import precision_score\n",
    "from sklearn.metrics import f1_score,accuracy_score\n",
    "from sklearn.metrics import precision_recall_curve, PrecisionRecallDisplay"
   ]
  },
  {
   "cell_type": "code",
   "execution_count": 15,
   "metadata": {
    "id": "JbIhkwOOJT7x"
   },
   "outputs": [],
   "source": [
    "def recall_precision(y_test,y_pred,model):\n",
    "    precision, recall, thresholds = precision_recall_curve(y_test,y_pred)\n",
    "    # convert to f score\n",
    "    fscore = (2 * precision * recall) / (precision + recall)\n",
    "    fscore[np.isnan(fscore)] = 0\n",
    "    #print(fscore)\n",
    "    # locate the index of the largest f score\n",
    "    ix = np.argmax(fscore)\n",
    "    optimal_threshold = thresholds[ix]\n",
    "\n",
    "    # plot the recall precision curve for the model\n",
    "    plt.plot(recall, precision, marker='.', label=model)\n",
    "    no_skill = len(y_test[y_test==1]) / len(y_test)\n",
    "    plt.plot([0,1], [no_skill,no_skill], linestyle='--', label='No Skill')\n",
    "    plt.scatter(recall[ix], precision[ix], marker='o', color='black', label='Best')\n",
    "    # axis labels\n",
    "    plt.xlabel('Recall')\n",
    "    plt.ylabel('Precision')\n",
    "    plt.legend()\n",
    "    # show the plot\n",
    "    plt.show()\n",
    "    \n",
    "    print(\"\\nTEST\")\n",
    "    print('Best Threshold=%f, F-Score=%.3f' % (optimal_threshold, fscore[ix]))\n",
    "    y_pred2= np.where(y_pred <= optimal_threshold , 0, 1)\n",
    "    cm = confusion_matrix(y_test, y_pred2)\n",
    "    print(\"Confusion matrix \\n\" , cm)\n",
    "    precision = cm[1,1]/sum(cm[:,1])\n",
    "    print(\"\\nPrecision : \" + str(precision))\n",
    "    recall = cm[1,1]/sum(cm[1,:])\n",
    "    print(\"Recall : \" + str(recall))\n",
    "    f1 = 2*((precision*recall)/(precision+recall))\n",
    "    print(\"F1 : \" + str(f1))\n",
    "    \n",
    "    residual = (y_test - y_pred)\n",
    "    print(\"\\n Residuals distribution : \\n\", residual.describe())\n",
    "    \n",
    "    return optimal_threshold\n",
    "    \n",
    "def recall_precision_bi (X_test,y_test,y_pred,model):\n",
    "    PrecisionRecallDisplay.from_estimator(model,X_test, y_test)\n",
    "    cm = confusion_matrix(y_test, y_pred)\n",
    "    print(\"Confusion matrix \\n\" , cm)\n",
    "    f1 = f1_score(y_test, y_pred, average='binary')\n",
    "    print(\"F1 : \" + str(f1))\n",
    "    \n",
    "    residual = (y_test - y_pred)\n",
    "    print(\"\\n Residuals distribution : \\n\", residual.describe())"
   ]
  },
  {
   "cell_type": "markdown",
   "metadata": {},
   "source": [
    "# OLS"
   ]
  },
  {
   "cell_type": "code",
   "execution_count": 16,
   "metadata": {},
   "outputs": [],
   "source": [
    "model = LinearRegression().fit(X_train, y_train)\n",
    "y_ols = model.predict(X_test)"
   ]
  },
  {
   "cell_type": "code",
   "execution_count": 17,
   "metadata": {},
   "outputs": [
    {
     "data": {
      "image/png": "[encoded data removed]",
      "text/plain": [
       "<Figure size 432x288 with 1 Axes>"
      ]
     },
     "metadata": {
      "needs_background": "light"
     },
     "output_type": "display_data"
    },
    {
     "name": "stdout",
     "output_type": "stream",
     "text": [
      "\n",
      "TEST\n",
      "Best Threshold=0.693817, F-Score=0.466\n",
      "Confusion matrix \n",
      " [[238  17]\n",
      " [ 23  16]]\n",
      "\n",
      "Precision : 0.48484848484848486\n",
      "Recall : 0.41025641025641024\n",
      "F1 : 0.4444444444444444\n",
      "\n",
      " Residuals distribution : \n",
      " count    294.000000\n",
      "mean      -0.203903\n",
      "std        0.367434\n",
      "min       -0.950096\n",
      "25%       -0.454931\n",
      "50%       -0.265720\n",
      "75%       -0.018227\n",
      "max        1.141502\n",
      "Name: y, dtype: float64\n"
     ]
    }
   ],
   "source": [
    "t1 = recall_precision(y_test,y_ols,'Ordinary least square')"
   ]
  },
  {
   "cell_type": "code",
   "execution_count": 18,
   "metadata": {},
   "outputs": [
    {
     "name": "stderr",
     "output_type": "stream",
     "text": [
      "C:\\Users\\Bruguet\\anaconda3\\lib\\site-packages\\seaborn\\distributions.py:2619: FutureWarning: `distplot` is a deprecated function and will be removed in a future version. Please adapt your code to use either `displot` (a figure-level function with similar flexibility) or `histplot` (an axes-level function for histograms).\n",
      "  warnings.warn(msg, FutureWarning)\n"
     ]
    },
    {
     "data": {
      "text/plain": [
       "Text(0, 0.5, 'Density')"
      ]
     },
     "execution_count": 18,
     "metadata": {},
     "output_type": "execute_result"
    },
    {
     "data": {
      "image/png": "[encoded data removed]",
      "text/plain": [
       "<Figure size 576x576 with 1 Axes>"
      ]
     },
     "metadata": {
      "needs_background": "light"
     },
     "output_type": "display_data"
    }
   ],
   "source": [
    "plt.figure(figsize=(8,8))\n",
    "sns.set(style=\"ticks\", color_codes=True)\n",
    "sns.distplot((y_test-y_ols), hist=True, kde=True, kde_kws = {'shade': True, 'linewidth' : 1},\n",
    "             bins=50, color = 'orange',\n",
    "             hist_kws={'edgecolor':'black'})\n",
    "plt.title('Residual distribution')\n",
    "plt.xlabel('Residual')\n",
    "plt.ylabel('Density')"
   ]
  },
  {
   "cell_type": "code",
   "execution_count": 19,
   "metadata": {},
   "outputs": [],
   "source": [
    "y_olsf1= np.where(y_ols <= t1 , 0, 1)"
   ]
  },
  {
   "cell_type": "markdown",
   "metadata": {
    "id": "pRPpCOPW5L_F"
   },
   "source": [
    "# Logistic regression"
   ]
  },
  {
   "cell_type": "code",
   "execution_count": 20,
   "metadata": {
    "colab": {
     "base_uri": "https://localhost:8080/",
     "height": 1000
    },
    "id": "roFmGIeg6ZVV",
    "outputId": "a93e7b8c-05cf-4939-9cfc-fd88a61ebe23"
   },
   "outputs": [],
   "source": [
    "clf = LogisticRegression().fit(X_train, y_train)\n",
    "y_log = clf.predict_proba(X_test)[:,1]"
   ]
  },
  {
   "cell_type": "code",
   "execution_count": 21,
   "metadata": {},
   "outputs": [
    {
     "data": {
      "image/png": "[encoded data removed]",
      "text/plain": [
       "<Figure size 432x288 with 1 Axes>"
      ]
     },
     "metadata": {},
     "output_type": "display_data"
    },
    {
     "name": "stdout",
     "output_type": "stream",
     "text": [
      "\n",
      "TEST\n",
      "Best Threshold=0.722484, F-Score=0.469\n",
      "Confusion matrix \n",
      " [[232  23]\n",
      " [ 21  18]]\n",
      "\n",
      "Precision : 0.43902439024390244\n",
      "Recall : 0.46153846153846156\n",
      "F1 : 0.45\n",
      "\n",
      " Residuals distribution : \n",
      " count    294.000000\n",
      "mean      -0.200796\n",
      "std        0.348989\n",
      "min       -0.934317\n",
      "25%       -0.398688\n",
      "50%       -0.182996\n",
      "75%       -0.041254\n",
      "max        0.985064\n",
      "Name: y, dtype: float64\n"
     ]
    }
   ],
   "source": [
    "t2 = recall_precision(y_test,y_log,'Logistic regression')"
   ]
  },
  {
   "cell_type": "code",
   "execution_count": 22,
   "metadata": {},
   "outputs": [],
   "source": [
    "y_logf1= np.where(y_log <= t2 , 0, 1)"
   ]
  },
  {
   "cell_type": "markdown",
   "metadata": {
    "id": "5TOtKS3GDLqc"
   },
   "source": [
    "# Classification tree"
   ]
  },
  {
   "cell_type": "markdown",
   "metadata": {
    "id": "xX11nsPnD8A1"
   },
   "source": [
    "We need to optimize the tree by \"pruning\" it. \n",
    "We look at all the potential hyperparamter that can be tuned :\n",
    "- max_depth : max nb of levels in each decision tree\n",
    "- min_sample_split : min nb of data points placed in a node \n",
    "- min_sample_leaf : min nb of data points in a node leaf\n",
    "- criterion : a measure of the attribute selection\n",
    "- Splitter : the split strategy"
   ]
  },
  {
   "cell_type": "code",
   "execution_count": 32,
   "metadata": {
    "colab": {
     "base_uri": "https://localhost:8080/"
    },
    "id": "5GWjLhGWEoZm",
    "outputId": "58478c7d-7648-4328-a85b-efdb0bab30db"
   },
   "outputs": [
    {
     "data": {
      "text/plain": [
       "{'criterion': ['gini', 'entropy'],\n",
       " 'splitter': ['best', 'random'],\n",
       " 'max_depth': [10, 31, 52, 73, 94, 115, 136, 157, 178, 200],\n",
       " 'min_samples_split': [2, 5, 10],\n",
       " 'min_samples_leaf': [1, 2, 4]}"
      ]
     },
     "execution_count": 32,
     "metadata": {},
     "output_type": "execute_result"
    }
   ],
   "source": [
    "# Atribute selection measure\n",
    "criterion = ['gini', 'entropy']\n",
    "# Split strategy\n",
    "splitter = ['best', 'random']\n",
    "# Maximum number of levels in tree\n",
    "max_depth = [int(x) for x in np.linspace(10, 200, num = 10)]\n",
    "# Minimum number of samples required to split a node\n",
    "min_samples_split = [2, 5, 10]\n",
    "# Minimum number of samples required at each leaf node\n",
    "min_samples_leaf = [1, 2, 4]\n",
    "\n",
    "random_grid = {'criterion': criterion,\n",
    "               'splitter' : splitter,\n",
    "               'max_depth': max_depth,\n",
    "               'min_samples_split': min_samples_split,\n",
    "               'min_samples_leaf': min_samples_leaf}\n",
    "random_grid"
   ]
  },
  {
   "cell_type": "code",
   "execution_count": 42,
   "metadata": {
    "colab": {
     "base_uri": "https://localhost:8080/"
    },
    "id": "2TNx2ivFF1HR",
    "outputId": "a077aeb5-09c1-4332-cbc6-891f721e287f"
   },
   "outputs": [
    {
     "name": "stdout",
     "output_type": "stream",
     "text": [
      "Fitting 5 folds for each of 100 candidates, totalling 500 fits\n"
     ]
    },
    {
     "data": {
      "text/plain": [
       "RandomizedSearchCV(cv=5, estimator=DecisionTreeClassifier(), n_iter=100,\n",
       "                   n_jobs=-1,\n",
       "                   param_distributions={'criterion': ['gini', 'entropy'],\n",
       "                                        'max_depth': [10, 31, 52, 73, 94, 115,\n",
       "                                                      136, 157, 178, 200],\n",
       "                                        'min_samples_leaf': [1, 2, 4],\n",
       "                                        'min_samples_split': [2, 5, 10],\n",
       "                                        'splitter': ['best', 'random']},\n",
       "                   random_state=42, scoring='f1', verbose=2)"
      ]
     },
     "execution_count": 42,
     "metadata": {},
     "output_type": "execute_result"
    }
   ],
   "source": [
    "dtc_random = RandomizedSearchCV(estimator = DecisionTreeClassifier(),\n",
    "                               param_distributions = random_grid,\n",
    "                                scoring = 'f1',\n",
    "                               n_iter = 100,\n",
    "                               cv = 5,\n",
    "                               verbose=2,\n",
    "                               random_state=42,\n",
    "                               n_jobs = -1)\n",
    "\n",
    "# Fit the random search model\n",
    "dtc_random.fit(X_train, y_train)"
   ]
  },
  {
   "cell_type": "code",
   "execution_count": 43,
   "metadata": {
    "colab": {
     "base_uri": "https://localhost:8080/"
    },
    "id": "pZZhWAAdGGA0",
    "outputId": "b672766b-086f-4551-9be1-a01cc8f80c88"
   },
   "outputs": [
    {
     "data": {
      "text/plain": [
       "{'splitter': 'random',\n",
       " 'min_samples_split': 2,\n",
       " 'min_samples_leaf': 1,\n",
       " 'max_depth': 73,\n",
       " 'criterion': 'gini'}"
      ]
     },
     "execution_count": 43,
     "metadata": {},
     "output_type": "execute_result"
    }
   ],
   "source": [
    "dtc_random.best_params_"
   ]
  },
  {
   "cell_type": "code",
   "execution_count": 23,
   "metadata": {
    "colab": {
     "base_uri": "https://localhost:8080/",
     "height": 1000
    },
    "id": "_pYkzTaVGMgi",
    "outputId": "75d14542-7173-4005-e9f0-9eb51dd45a3d"
   },
   "outputs": [],
   "source": [
    "dtc_fit = DecisionTreeClassifier(random_state=42,\n",
    "                                  criterion='gini',\n",
    "                                  max_depth = 73,\n",
    "                                  min_samples_leaf = 1,\n",
    "                                  min_samples_split = 2,\n",
    "                                  splitter = 'random').fit(X_train,y_train)\n",
    "y_tree = dtc_fit.predict_proba(X_test)[:,1]"
   ]
  },
  {
   "cell_type": "code",
   "execution_count": 24,
   "metadata": {},
   "outputs": [
    {
     "data": {
      "image/png": "[encoded data removed]",
      "text/plain": [
       "<Figure size 432x288 with 1 Axes>"
      ]
     },
     "metadata": {},
     "output_type": "display_data"
    },
    {
     "name": "stdout",
     "output_type": "stream",
     "text": [
      "\n",
      "TEST\n",
      "Best Threshold=1.000000, F-Score=0.272\n",
      "Confusion matrix \n",
      " [[255   0]\n",
      " [ 39   0]]\n",
      "\n",
      "Precision : nan\n",
      "Recall : 0.0\n",
      "F1 : nan\n",
      "\n",
      " Residuals distribution : \n",
      " count    294.000000\n",
      "mean      -0.010204\n",
      "std        0.448621\n",
      "min       -1.000000\n",
      "25%        0.000000\n",
      "50%        0.000000\n",
      "75%        0.000000\n",
      "max        1.000000\n",
      "Name: y, dtype: float64\n"
     ]
    },
    {
     "name": "stderr",
     "output_type": "stream",
     "text": [
      "C:\\Users\\Bruguet\\AppData\\Local\\Temp\\ipykernel_92472\\335467096.py:28: RuntimeWarning: invalid value encountered in longlong_scalars\n",
      "  precision = cm[1,1]/sum(cm[:,1])\n"
     ]
    }
   ],
   "source": [
    "t3 = recall_precision(y_test,y_tree,'Optimize classification tree')"
   ]
  },
  {
   "cell_type": "code",
   "execution_count": 25,
   "metadata": {},
   "outputs": [],
   "source": [
    "y_treef1= np.where(y_tree <= t3 , 0, 1)"
   ]
  },
  {
   "cell_type": "markdown",
   "metadata": {
    "id": "FYOxVBlnNK9P"
   },
   "source": [
    "# Random forest"
   ]
  },
  {
   "cell_type": "markdown",
   "metadata": {
    "id": "OJvWsmliy9dL"
   },
   "source": [
    "We tune the hyperparameter to asses a better estimator.\n",
    "We look at all the potential hyperparamter that can be tuned.\n",
    "We will first tune :\n",
    "- n_estimators : nb of trees in the forest\n",
    "- max_features : max nb of features for spliting a node (as random subset are use) // Usually sqrt for classification and divided by 3 for regression\n",
    "- max_depth : max nb of levels in each decision tree\n",
    "- min_sample_split : min nb of data points placed in a node \n",
    "- min_sample_leaf : min nb of data points in a node leaf\n"
   ]
  },
  {
   "cell_type": "code",
   "execution_count": 47,
   "metadata": {
    "colab": {
     "base_uri": "https://localhost:8080/"
    },
    "id": "TZt5YC_yyhcU",
    "outputId": "a4c3ef06-c089-4742-a87f-7ac1e7edd8c2"
   },
   "outputs": [
    {
     "data": {
      "text/plain": [
       "{'n_estimators': [100, 311, 522, 733, 944, 1155, 1366, 1577, 1788, 2000],\n",
       " 'max_features': ['auto', 'sqrt'],\n",
       " 'max_depth': [10, 20, 30, 40, 50, 60, 70, 80, 90, 100, 110],\n",
       " 'min_samples_split': [2, 5, 10],\n",
       " 'min_samples_leaf': [1, 2, 4]}"
      ]
     },
     "execution_count": 47,
     "metadata": {},
     "output_type": "execute_result"
    }
   ],
   "source": [
    "# Number of trees in random forest\n",
    "n_estimators = [int(x) for x in np.linspace(start = 100, stop = 2000, num = 10)]\n",
    "# Number of features to consider at every split\n",
    "max_features = ['auto', 'sqrt']\n",
    "# Maximum number of levels in tree\n",
    "max_depth = [int(x) for x in np.linspace(10, 110, num = 11)]\n",
    "# Minimum number of samples required to split a node\n",
    "min_samples_split = [2, 5, 10]\n",
    "# Minimum number of samples required at each leaf node\n",
    "min_samples_leaf = [1, 2, 4]\n",
    "\n",
    "random_grid = {'n_estimators': n_estimators,\n",
    "               'max_features': max_features,\n",
    "               'max_depth': max_depth,\n",
    "               'min_samples_split': min_samples_split,\n",
    "               'min_samples_leaf': min_samples_leaf}\n",
    "random_grid"
   ]
  },
  {
   "cell_type": "markdown",
   "metadata": {
    "id": "xJd5cwsb2OLA"
   },
   "source": [
    "This allows for 11*2*3*3*10 = 1980 possible settings, thus we use a random search cross-validation. It means that we will determine a number of maximum random settings to test, here 100, and test it trhought a 3 fold cross-validation."
   ]
  },
  {
   "cell_type": "code",
   "execution_count": 48,
   "metadata": {
    "colab": {
     "base_uri": "https://localhost:8080/"
    },
    "id": "si2eQSYeziaD",
    "outputId": "84bf66eb-a7d5-4e07-de1c-2577d72808db"
   },
   "outputs": [
    {
     "name": "stdout",
     "output_type": "stream",
     "text": [
      "Fitting 3 folds for each of 100 candidates, totalling 300 fits\n"
     ]
    },
    {
     "data": {
      "text/plain": [
       "RandomizedSearchCV(cv=3, estimator=RandomForestClassifier(), n_iter=100,\n",
       "                   n_jobs=-1,\n",
       "                   param_distributions={'max_depth': [10, 20, 30, 40, 50, 60,\n",
       "                                                      70, 80, 90, 100, 110],\n",
       "                                        'max_features': ['auto', 'sqrt'],\n",
       "                                        'min_samples_leaf': [1, 2, 4],\n",
       "                                        'min_samples_split': [2, 5, 10],\n",
       "                                        'n_estimators': [100, 311, 522, 733,\n",
       "                                                         944, 1155, 1366, 1577,\n",
       "                                                         1788, 2000]},\n",
       "                   random_state=42, scoring='f1', verbose=2)"
      ]
     },
     "execution_count": 48,
     "metadata": {},
     "output_type": "execute_result"
    }
   ],
   "source": [
    "rf_random = RandomizedSearchCV(estimator = RandomForestClassifier(),\n",
    "                               param_distributions = random_grid,\n",
    "                               scoring = 'f1',\n",
    "                               n_iter = 100,\n",
    "                               cv = 3,\n",
    "                               verbose=2,\n",
    "                               random_state=42,\n",
    "                               n_jobs = -1)\n",
    "\n",
    "# Fit the random search model\n",
    "rf_random.fit(X_train, y_train)"
   ]
  },
  {
   "cell_type": "code",
   "execution_count": 49,
   "metadata": {
    "colab": {
     "base_uri": "https://localhost:8080/"
    },
    "id": "7d7SWG0Y3xGo",
    "outputId": "75f0053f-0573-438a-8e5e-a9e5845411ad"
   },
   "outputs": [
    {
     "data": {
      "text/plain": [
       "{'n_estimators': 522,\n",
       " 'min_samples_split': 2,\n",
       " 'min_samples_leaf': 1,\n",
       " 'max_features': 'sqrt',\n",
       " 'max_depth': 80}"
      ]
     },
     "execution_count": 49,
     "metadata": {},
     "output_type": "execute_result"
    }
   ],
   "source": [
    "rf_random.best_params_"
   ]
  },
  {
   "cell_type": "code",
   "execution_count": 26,
   "metadata": {
    "colab": {
     "base_uri": "https://localhost:8080/",
     "height": 1000
    },
    "id": "zm9s3XBB2wYv",
    "outputId": "04b76a11-25fc-4814-ea8a-cbeba7ce8b43"
   },
   "outputs": [],
   "source": [
    "rf_fit = RandomForestClassifier(n_estimators=522,\n",
    "                                 min_samples_leaf=1,\n",
    "                                 min_samples_split=2,\n",
    "                                 max_features='sqrt',\n",
    "                                 max_depth = 80,\n",
    "                                random_state=42).fit(X_train,y_train)\n",
    "y_rf = rf_fit.predict_proba(X_test)[:,1]"
   ]
  },
  {
   "cell_type": "code",
   "execution_count": 27,
   "metadata": {},
   "outputs": [
    {
     "data": {
      "image/png": "[encoded data removed]",
      "text/plain": [
       "<Figure size 432x288 with 1 Axes>"
      ]
     },
     "metadata": {},
     "output_type": "display_data"
    },
    {
     "name": "stdout",
     "output_type": "stream",
     "text": [
      "\n",
      "TEST\n",
      "Best Threshold=0.310345, F-Score=0.432\n",
      "Confusion matrix \n",
      " [[227  28]\n",
      " [ 21  18]]\n",
      "\n",
      "Precision : 0.391304347826087\n",
      "Recall : 0.46153846153846156\n",
      "F1 : 0.4235294117647059\n",
      "\n",
      " Residuals distribution : \n",
      " count    294.000000\n",
      "mean      -0.063186\n",
      "std        0.317857\n",
      "min       -0.576628\n",
      "25%       -0.231322\n",
      "50%       -0.130268\n",
      "75%       -0.063218\n",
      "max        0.959770\n",
      "Name: y, dtype: float64\n"
     ]
    }
   ],
   "source": [
    "t4 = recall_precision(y_test,y_rf,'Optimize random forest')"
   ]
  },
  {
   "cell_type": "code",
   "execution_count": 60,
   "metadata": {
    "colab": {
     "base_uri": "https://localhost:8080/",
     "height": 307
    },
    "id": "T4bYZ2BS3NUA",
    "outputId": "e973f27b-8d46-423a-b549-45467c037664"
   },
   "outputs": [
    {
     "data": {
      "text/plain": [
       "'sort = rf_fit2.feature_importances_.argsort()\\nsort = sort[-10:]\\nplt.barh(X_train.columns[sort], rf_fit2.feature_importances_[sort])\\nplt.xlabel(\"Feature Importance\")\\nplt.figure(figsize=(5,20))\\nplt.show()'"
      ]
     },
     "execution_count": 60,
     "metadata": {},
     "output_type": "execute_result"
    }
   ],
   "source": [
    "'''sort = rf_fit2.feature_importances_.argsort()\n",
    "sort = sort[-10:]\n",
    "plt.barh(X_train.columns[sort], rf_fit2.feature_importances_[sort])\n",
    "plt.xlabel(\"Feature Importance\")\n",
    "plt.figure(figsize=(5,20))\n",
    "plt.show()'''"
   ]
  },
  {
   "cell_type": "code",
   "execution_count": 28,
   "metadata": {},
   "outputs": [],
   "source": [
    "y_rff1= np.where(y_rf <= t4 , 0, 1)"
   ]
  },
  {
   "cell_type": "markdown",
   "metadata": {},
   "source": [
    "# Support vector machine (SVM)"
   ]
  },
  {
   "cell_type": "code",
   "execution_count": 53,
   "metadata": {},
   "outputs": [
    {
     "name": "stdout",
     "output_type": "stream",
     "text": [
      "Fitting 3 folds for each of 10 candidates, totalling 30 fits\n"
     ]
    },
    {
     "data": {
      "text/plain": [
       "RandomizedSearchCV(cv=3, estimator=SVC(), n_jobs=-1,\n",
       "                   param_distributions={'C': [0.1, 1, 10, 100, 1000],\n",
       "                                        'gamma': [1, 0.1, 0.01, 0.001, 0.0001],\n",
       "                                        'kernel': ['rbf', 'linear', 'poly']},\n",
       "                   random_state=42, scoring='f1', verbose=3)"
      ]
     },
     "execution_count": 53,
     "metadata": {},
     "output_type": "execute_result"
    }
   ],
   "source": [
    "svm_grid = {'C': [0.1, 1, 10, 100, 1000],\n",
    "              'gamma': [1, 0.1, 0.01, 0.001, 0.0001],\n",
    "              'kernel': ['rbf','linear','poly']}\n",
    "svm_random = RandomizedSearchCV(estimator = SVC(),\n",
    "                               param_distributions = svm_grid,\n",
    "                               scoring = 'f1',\n",
    "                               cv = 3,\n",
    "                               verbose=3,\n",
    "                               random_state=42,\n",
    "                               n_jobs = -1)\n",
    "\n",
    "# Fit the random search model\n",
    "svm_random.fit(X_train, y_train)"
   ]
  },
  {
   "cell_type": "code",
   "execution_count": 1,
   "metadata": {},
   "outputs": [
    {
     "ename": "NameError",
     "evalue": "name 'svm_random' is not defined",
     "output_type": "error",
     "traceback": [
      "\u001b[1;31m---------------------------------------------------------------------------\u001b[0m",
      "\u001b[1;31mNameError\u001b[0m                                 Traceback (most recent call last)",
      "Input \u001b[1;32mIn [1]\u001b[0m, in \u001b[0;36m<cell line: 1>\u001b[1;34m()\u001b[0m\n\u001b[1;32m----> 1\u001b[0m \u001b[38;5;28mprint\u001b[39m(\u001b[43msvm_random\u001b[49m\u001b[38;5;241m.\u001b[39mbest_params_)\n\u001b[0;32m      2\u001b[0m \u001b[38;5;28mprint\u001b[39m(svm_random\u001b[38;5;241m.\u001b[39mbest_score_)\n",
      "\u001b[1;31mNameError\u001b[0m: name 'svm_random' is not defined"
     ]
    }
   ],
   "source": [
    "print(svm_random.best_params_)\n",
    "print(svm_random.best_score_)"
   ]
  },
  {
   "cell_type": "code",
   "execution_count": 29,
   "metadata": {},
   "outputs": [],
   "source": [
    "svc = SVC(kernel = 'rbf',\n",
    "           C = 1000,\n",
    "           gamma = 0.1,\n",
    "           random_state = 0, probability = True).fit(X_train, y_train)\n",
    "y_svm = svc.predict_proba(X_test)[:,1]"
   ]
  },
  {
   "cell_type": "code",
   "execution_count": 30,
   "metadata": {},
   "outputs": [
    {
     "data": {
      "image/png": "[encoded data removed]",
      "text/plain": [
       "<Figure size 432x288 with 1 Axes>"
      ]
     },
     "metadata": {},
     "output_type": "display_data"
    },
    {
     "name": "stdout",
     "output_type": "stream",
     "text": [
      "\n",
      "TEST\n",
      "Best Threshold=0.079172, F-Score=0.444\n",
      "Confusion matrix \n",
      " [[231  24]\n",
      " [ 22  17]]\n",
      "\n",
      "Precision : 0.4146341463414634\n",
      "Recall : 0.4358974358974359\n",
      "F1 : 0.42500000000000004\n",
      "\n",
      " Residuals distribution : \n",
      " count    294.000000\n",
      "mean       0.060670\n",
      "std        0.333910\n",
      "min       -0.991972\n",
      "25%       -0.004211\n",
      "50%       -0.000206\n",
      "75%       -0.000004\n",
      "max        1.000000\n",
      "Name: y, dtype: float64\n"
     ]
    }
   ],
   "source": [
    "t5 = recall_precision(y_test,y_svm,'Optimize support vector machine')"
   ]
  },
  {
   "cell_type": "code",
   "execution_count": 31,
   "metadata": {},
   "outputs": [],
   "source": [
    "y_svmf1= np.where(y_svm <= t5 , 0, 1)"
   ]
  },
  {
   "cell_type": "markdown",
   "metadata": {},
   "source": [
    "# KNN classification"
   ]
  },
  {
   "cell_type": "code",
   "execution_count": 32,
   "metadata": {},
   "outputs": [
    {
     "name": "stdout",
     "output_type": "stream",
     "text": [
      "Fitting 10 folds for each of 10 candidates, totalling 100 fits\n"
     ]
    },
    {
     "data": {
      "text/plain": [
       "RandomizedSearchCV(cv=10, estimator=KNeighborsClassifier(), n_jobs=-1,\n",
       "                   param_distributions={'algorithm': ['auto', 'ball_tree',\n",
       "                                                      'kd_tree', 'brute'],\n",
       "                                        'n_neighbors': [1, 2, 3, 4, 5, 6, 7, 8,\n",
       "                                                        9, 10, 11, 12, 13, 14,\n",
       "                                                        15, 16, 17, 18, 19, 20,\n",
       "                                                        21, 22, 23, 24, 25, 26,\n",
       "                                                        27, 28, 29, 30],\n",
       "                                        'weights': ['uniform', 'distance']},\n",
       "                   random_state=42, scoring='f1', verbose=3)"
      ]
     },
     "execution_count": 32,
     "metadata": {},
     "output_type": "execute_result"
    }
   ],
   "source": [
    "k_range = list(range(1, 31))\n",
    "knn_grid = {'n_neighbors' : k_range,\n",
    "            'weights' : ['uniform','distance'],\n",
    "            'algorithm' : ['auto','ball_tree','kd_tree','brute']}\n",
    "\n",
    "knn_random = RandomizedSearchCV(estimator = KNeighborsClassifier(),\n",
    "                               param_distributions = knn_grid,\n",
    "                               scoring = 'f1',\n",
    "                               cv = 10,\n",
    "                               verbose=3,\n",
    "                               random_state=42,\n",
    "                               n_jobs = -1)\n",
    "\n",
    "# Fit the random search model\n",
    "knn_random.fit(X_train, y_train)"
   ]
  },
  {
   "cell_type": "code",
   "execution_count": 33,
   "metadata": {},
   "outputs": [
    {
     "data": {
      "text/plain": [
       "{'weights': 'distance', 'n_neighbors': 5, 'algorithm': 'auto'}"
      ]
     },
     "execution_count": 33,
     "metadata": {},
     "output_type": "execute_result"
    }
   ],
   "source": [
    "knn_random.best_params_"
   ]
  },
  {
   "cell_type": "code",
   "execution_count": 37,
   "metadata": {},
   "outputs": [],
   "source": [
    "neigh = KNeighborsClassifier(n_neighbors=6,\n",
    "                             algorithm = 'auto',\n",
    "                             weights = 'distance').fit(X_train, y_train)\n",
    "y_knn = neigh.predict_proba(X_test)[:,1]"
   ]
  },
  {
   "cell_type": "code",
   "execution_count": 38,
   "metadata": {},
   "outputs": [
    {
     "data": {
      "image/png": "[encoded data removed]",
      "text/plain": [
       "<Figure size 432x288 with 1 Axes>"
      ]
     },
     "metadata": {},
     "output_type": "display_data"
    },
    {
     "name": "stdout",
     "output_type": "stream",
     "text": [
      "\n",
      "TEST\n",
      "Best Threshold=0.824205, F-Score=0.310\n",
      "Confusion matrix \n",
      " [[234  21]\n",
      " [ 29  10]]\n",
      "\n",
      "Precision : 0.3225806451612903\n",
      "Recall : 0.2564102564102564\n",
      "F1 : 0.2857142857142857\n",
      "\n",
      " Residuals distribution : \n",
      " count    294.000000\n",
      "mean      -0.126119\n",
      "std        0.429711\n",
      "min       -1.000000\n",
      "25%       -0.466096\n",
      "50%        0.000000\n",
      "75%        0.000000\n",
      "max        1.000000\n",
      "Name: y, dtype: float64\n"
     ]
    }
   ],
   "source": [
    "t6 = recall_precision(y_test,y_knn,'KNN')"
   ]
  },
  {
   "cell_type": "code",
   "execution_count": 39,
   "metadata": {},
   "outputs": [],
   "source": [
    "y_knnf1 = np.where(y_knn <= t6 , 0, 1)"
   ]
  },
  {
   "cell_type": "markdown",
   "metadata": {
    "id": "RXRaIR-FPE-T"
   },
   "source": [
    "# Model comparaisons"
   ]
  },
  {
   "cell_type": "code",
   "execution_count": 40,
   "metadata": {},
   "outputs": [
    {
     "name": "stderr",
     "output_type": "stream",
     "text": [
      "C:\\Users\\Bruguet\\anaconda3\\lib\\site-packages\\seaborn\\distributions.py:2619: FutureWarning: `distplot` is a deprecated function and will be removed in a future version. Please adapt your code to use either `displot` (a figure-level function with similar flexibility) or `kdeplot` (an axes-level function for kernel density plots).\n",
      "  warnings.warn(msg, FutureWarning)\n",
      "C:\\Users\\Bruguet\\anaconda3\\lib\\site-packages\\seaborn\\distributions.py:2619: FutureWarning: `distplot` is a deprecated function and will be removed in a future version. Please adapt your code to use either `displot` (a figure-level function with similar flexibility) or `kdeplot` (an axes-level function for kernel density plots).\n",
      "  warnings.warn(msg, FutureWarning)\n",
      "C:\\Users\\Bruguet\\anaconda3\\lib\\site-packages\\seaborn\\distributions.py:2619: FutureWarning: `distplot` is a deprecated function and will be removed in a future version. Please adapt your code to use either `displot` (a figure-level function with similar flexibility) or `kdeplot` (an axes-level function for kernel density plots).\n",
      "  warnings.warn(msg, FutureWarning)\n",
      "C:\\Users\\Bruguet\\anaconda3\\lib\\site-packages\\seaborn\\distributions.py:2619: FutureWarning: `distplot` is a deprecated function and will be removed in a future version. Please adapt your code to use either `displot` (a figure-level function with similar flexibility) or `kdeplot` (an axes-level function for kernel density plots).\n",
      "  warnings.warn(msg, FutureWarning)\n",
      "C:\\Users\\Bruguet\\anaconda3\\lib\\site-packages\\seaborn\\distributions.py:2619: FutureWarning: `distplot` is a deprecated function and will be removed in a future version. Please adapt your code to use either `displot` (a figure-level function with similar flexibility) or `kdeplot` (an axes-level function for kernel density plots).\n",
      "  warnings.warn(msg, FutureWarning)\n",
      "C:\\Users\\Bruguet\\anaconda3\\lib\\site-packages\\seaborn\\distributions.py:2619: FutureWarning: `distplot` is a deprecated function and will be removed in a future version. Please adapt your code to use either `displot` (a figure-level function with similar flexibility) or `kdeplot` (an axes-level function for kernel density plots).\n",
      "  warnings.warn(msg, FutureWarning)\n"
     ]
    },
    {
     "data": {
      "text/plain": [
       "Text(0.5, 1.0, 'Residuals distribution')"
      ]
     },
     "execution_count": 40,
     "metadata": {},
     "output_type": "execute_result"
    },
    {
     "data": {
      "image/png": "[encoded data removed]",
      "text/plain": [
       "<Figure size 432x288 with 1 Axes>"
      ]
     },
     "metadata": {},
     "output_type": "display_data"
    }
   ],
   "source": [
    "sns.set(style=\"ticks\", color_codes=True)\n",
    "sns.distplot((y_test-y_ols), hist=False, kde=True, kde_kws = {'shade': False, 'linewidth' : 1},\n",
    "             bins=50, color = 'orange',\n",
    "             hist_kws={'edgecolor':'black'})\n",
    "sns.distplot((y_test-y_log), hist=False, kde=True, kde_kws = {'shade': False, 'linewidth' : 1},\n",
    "             bins=50, color = 'blue',\n",
    "             hist_kws={'edgecolor':'black'})\n",
    "sns.distplot((y_test-y_tree), hist=False, kde=True, kde_kws = {'shade': False, 'linewidth' : 1},\n",
    "             bins=50, color = 'purple',\n",
    "             hist_kws={'edgecolor':'black'})\n",
    "sns.distplot((y_test-y_rf), hist=False, kde=True, kde_kws = {'shade': False, 'linewidth' : 1},\n",
    "             bins=50, color = 'red',\n",
    "             hist_kws={'edgecolor':'black'})\n",
    "sns.distplot((y_test-y_svm), hist=False, kde=True, kde_kws = {'shade': False, 'linewidth' : 1},\n",
    "             bins=50, color = 'green',\n",
    "             hist_kws={'edgecolor':'black'})\n",
    "sns.distplot((y_test-y_knn), hist=False, kde=True, kde_kws = {'shade': False, 'linewidth' : 1},\n",
    "             bins=50, color = 'black',\n",
    "             hist_kws={'edgecolor':'black'})\n",
    "plt.xlabel('Residuals')\n",
    "plt.ylabel('Density')\n",
    "plt.legend(labels=[\"OLS\",\"Logistic\", \"Tree\",\"Random forest\",\"SVM\",\"KNN\"])\n",
    "plt.title('Residuals distribution')"
   ]
  },
  {
   "cell_type": "markdown",
   "metadata": {
    "id": "f9G_cYaJcImR"
   },
   "source": [
    "### Using PrecisionRecallDisplay.**from_estimators**"
   ]
  },
  {
   "cell_type": "code",
   "execution_count": 41,
   "metadata": {},
   "outputs": [],
   "source": [
    "def recall (y_test,y_pred,model) :\n",
    "    \n",
    "    precision, recall, thresholds = precision_recall_curve(y_test,y_pred)\n",
    "    # convert to f score\n",
    "    fscore = (2 * precision * recall) / (precision + recall)\n",
    "    # locate the index of the largest f score\n",
    "    ix = np.argmax(fscore)\n",
    "    # plot the roc curve for the model\n",
    "    recall_plot = plt.plot(recall, precision, marker='.', label=model)\n",
    "    plt.xlabel('Recall')\n",
    "    plt.ylabel('Precision')\n",
    "    plt.legend()\n",
    "    # show the plot /bbox_to_anchor=(0.5, -0.4), loc='center', ncol=1\n",
    "    return(recall_plot)"
   ]
  },
  {
   "cell_type": "code",
   "execution_count": 42,
   "metadata": {
    "colab": {
     "base_uri": "https://localhost:8080/",
     "height": 893
    },
    "id": "mY7pQDrxb8x_",
    "outputId": "c484c680-acc0-4172-a2dd-4de742e3eb8b"
   },
   "outputs": [
    {
     "data": {
      "image/png": "[encoded data removed]",
      "text/plain": [
       "<Figure size 432x288 with 1 Axes>"
      ]
     },
     "metadata": {},
     "output_type": "display_data"
    }
   ],
   "source": [
    "recall_ols = recall(y_test,y_ols, 'Ordinary least square')\n",
    "recall_log = recall(y_test,y_log, 'Logisitc')\n",
    "recall_tree = recall(y_test,y_tree,'Classification tree')\n",
    "recall_rf = recall(y_test,y_rf,'Random forest')\n",
    "recall_svm = recall(y_test,y_svm, 'Support vector machine')\n",
    "recall_knn = recall(y_test,y_knn, 'K nearest neighbourg')"
   ]
  },
  {
   "cell_type": "code",
   "execution_count": 45,
   "metadata": {},
   "outputs": [
    {
     "data": {
      "text/html": [
       "<div>\n",
       "<style scoped>\n",
       "    .dataframe tbody tr th:only-of-type {\n",
       "        vertical-align: middle;\n",
       "    }\n",
       "\n",
       "    .dataframe tbody tr th {\n",
       "        vertical-align: top;\n",
       "    }\n",
       "\n",
       "    .dataframe thead th {\n",
       "        text-align: right;\n",
       "    }\n",
       "</style>\n",
       "<table border=\"1\" class=\"dataframe\">\n",
       "  <thead>\n",
       "    <tr style=\"text-align: right;\">\n",
       "      <th></th>\n",
       "      <th>Algorithm</th>\n",
       "      <th>f1</th>\n",
       "      <th>acc</th>\n",
       "    </tr>\n",
       "  </thead>\n",
       "  <tbody>\n",
       "    <tr>\n",
       "      <th>1</th>\n",
       "      <td>Logistic</td>\n",
       "      <td>0.450000</td>\n",
       "      <td>0.850340</td>\n",
       "    </tr>\n",
       "    <tr>\n",
       "      <th>0</th>\n",
       "      <td>OLS</td>\n",
       "      <td>0.444444</td>\n",
       "      <td>0.863946</td>\n",
       "    </tr>\n",
       "    <tr>\n",
       "      <th>4</th>\n",
       "      <td>SVM</td>\n",
       "      <td>0.425000</td>\n",
       "      <td>0.843537</td>\n",
       "    </tr>\n",
       "    <tr>\n",
       "      <th>3</th>\n",
       "      <td>Random forest</td>\n",
       "      <td>0.423529</td>\n",
       "      <td>0.833333</td>\n",
       "    </tr>\n",
       "    <tr>\n",
       "      <th>5</th>\n",
       "      <td>KNN</td>\n",
       "      <td>0.285714</td>\n",
       "      <td>0.829932</td>\n",
       "    </tr>\n",
       "    <tr>\n",
       "      <th>2</th>\n",
       "      <td>Tree</td>\n",
       "      <td>0.000000</td>\n",
       "      <td>0.867347</td>\n",
       "    </tr>\n",
       "  </tbody>\n",
       "</table>\n",
       "</div>"
      ],
      "text/plain": [
       "       Algorithm        f1       acc\n",
       "1       Logistic  0.450000  0.850340\n",
       "0            OLS  0.444444  0.863946\n",
       "4            SVM  0.425000  0.843537\n",
       "3  Random forest  0.423529  0.833333\n",
       "5            KNN  0.285714  0.829932\n",
       "2           Tree  0.000000  0.867347"
      ]
     },
     "execution_count": 45,
     "metadata": {},
     "output_type": "execute_result"
    }
   ],
   "source": [
    " f_score = pd.DataFrame({\n",
    "    'Algorithm' : ['OLS','Logistic','Tree','Random forest','SVM','KNN'],\n",
    "    'y_pred' : [y_olsf1,y_logf1,y_treef1,y_rff1,y_svmf1,y_knnf1]\n",
    "})\n",
    "f1_list = []\n",
    "for index, row in f_score.iterrows():\n",
    "    f1 = f1_score(y_test, row['y_pred'], average='binary')\n",
    "    f1_list.append(f1)\n",
    "acc_list = []\n",
    "for index, row in f_score.iterrows():\n",
    "    acc = accuracy_score(y_test, row['y_pred'])\n",
    "    acc_list.append(acc)\n",
    "    \n",
    "f_score['f1']=f1_list\n",
    "f_score['acc']=acc_list\n",
    "f_score = f_score.drop(['y_pred'], axis=1)\n",
    "f_score.sort_values(by=['f1'],ascending=False)"
   ]
  }
 ],
 "metadata": {
  "colab": {
   "collapsed_sections": [],
   "name": "code Marie.ipynb",
   "provenance": []
  },
  "kernelspec": {
   "display_name": "Python 3 (ipykernel)",
   "language": "python",
   "name": "python3"
  },
  "language_info": {
   "codemirror_mode": {
    "name": "ipython",
    "version": 3
   },
   "file_extension": ".py",
   "mimetype": "text/x-python",
   "name": "python",
   "nbconvert_exporter": "python",
   "pygments_lexer": "ipython3",
   "version": "3.8.12"
  }
 },
 "nbformat": 4,
 "nbformat_minor": 4
}
